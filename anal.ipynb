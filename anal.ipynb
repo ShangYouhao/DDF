{
 "metadata": {
  "language_info": {
   "codemirror_mode": {
    "name": "ipython",
    "version": 3
   },
   "file_extension": ".py",
   "mimetype": "text/x-python",
   "name": "python",
   "nbconvert_exporter": "python",
   "pygments_lexer": "ipython3",
   "version": "3.8.6-final"
  },
  "orig_nbformat": 2,
  "kernelspec": {
   "name": "python38664bittorchgeoconda6f756dd914a64c5bbfcc12322cd6a319",
   "display_name": "Python 3.8.6 64-bit ('torch_geo': conda)",
   "language": "python"
  }
 },
 "nbformat": 4,
 "nbformat_minor": 2,
 "cells": [
  {
   "cell_type": "code",
   "execution_count": 14,
   "metadata": {},
   "outputs": [],
   "source": [
    "import matplotlib.pyplot as plt"
   ]
  },
  {
   "cell_type": "code",
   "execution_count": 1,
   "metadata": {},
   "outputs": [],
   "source": [
    "import pandas as pd \n",
    "import numpy as np\n",
    "from sklearn.preprocessing import LabelEncoder\n",
    "from sklearn.preprocessing import OneHotEncoder\n",
    "from sklearn.metrics import recall_score\n",
    "from sklearn.metrics import precision_score\n",
    "from sklearn.metrics import accuracy_score\n",
    "from sklearn.metrics import confusion_matrix\n",
    "from sklearn.model_selection import KFold\n",
    "from sklearn.tree import plot_tree\n",
    "\n",
    "# 分类器们\n",
    "from sklearn.preprocessing import StandardScaler\n",
    "from sklearn.gaussian_process.kernels import RBF\n",
    "from sklearn.tree import DecisionTreeClassifier\n",
    "from sklearn.linear_model import LogisticRegression\n",
    "from sklearn.ensemble import RandomForestClassifier\n",
    "from sklearn.neural_network import MLPClassifier\n",
    "from sklearn.neighbors import KNeighborsClassifier\n",
    "from sklearn.svm import SVC\n",
    "from sklearn.gaussian_process import GaussianProcessClassifier\n",
    "from sklearn.ensemble import RandomForestClassifier, AdaBoostClassifier\n",
    "from sklearn.naive_bayes import GaussianNB\n",
    "from sklearn.discriminant_analysis import QuadraticDiscriminantAnalysis"
   ]
  },
  {
   "cell_type": "code",
   "execution_count": 5,
   "metadata": {},
   "outputs": [],
   "source": [
    "from header import numout2boolout"
   ]
  },
  {
   "cell_type": "code",
   "execution_count": 12,
   "metadata": {},
   "outputs": [],
   "source": [
    "from header import Y,X,x,y"
   ]
  },
  {
   "cell_type": "code",
   "execution_count": 5,
   "metadata": {},
   "outputs": [],
   "source": [
    "X_featureName=np.load(\"./processedData/X_featureName.npy\")"
   ]
  },
  {
   "cell_type": "code",
   "execution_count": 7,
   "metadata": {},
   "outputs": [],
   "source": [
    "boolfeature=np.load(\"./processedData/boolFeature.npy\")"
   ]
  },
  {
   "cell_type": "code",
   "execution_count": 11,
   "metadata": {},
   "outputs": [],
   "source": [
    "onehotfeature=np.load(\"./processedData/oneHotFeature.npy\")"
   ]
  },
  {
   "cell_type": "code",
   "execution_count": 8,
   "metadata": {},
   "outputs": [
    {
     "output_type": "execute_result",
     "data": {
      "text/plain": [
       "array(['slowCool', 'leak', 'Na', 'Te', 'Br', 'K', 'F', 'I', 'Mo', 'N',\n",
       "       'P', 'S', 'V', 'Se', 'Zn', 'Co', 'Cl', 'Ga', 'Cr', 'P4', 'P5',\n",
       "       'G5', 'G6', 'G9', 'G12', 'G13', 'G16', 'V2', 'V3', 'V4', 'V5',\n",
       "       'V6'], dtype='<U8')"
      ]
     },
     "metadata": {},
     "execution_count": 8
    }
   ],
   "source": [
    "boolfeature"
   ]
  },
  {
   "cell_type": "code",
   "execution_count": 6,
   "metadata": {},
   "outputs": [
    {
     "output_type": "execute_result",
     "data": {
      "text/plain": [
       "264"
      ]
     },
     "metadata": {},
     "execution_count": 6
    }
   ],
   "source": [
    "len(set(X_featureName))"
   ]
  },
  {
   "cell_type": "code",
   "execution_count": 15,
   "metadata": {},
   "outputs": [
    {
     "output_type": "display_data",
     "data": {
      "text/plain": "<Figure size 432x288 with 1 Axes>",
      "image/svg+xml": "<?xml version=\"1.0\" encoding=\"utf-8\" standalone=\"no\"?>\n<!DOCTYPE svg PUBLIC \"-//W3C//DTD SVG 1.1//EN\"\n  \"http://www.w3.org/Graphics/SVG/1.1/DTD/svg11.dtd\">\n<!-- Created with matplotlib (https://matplotlib.org/) -->\n<svg height=\"246.958125pt\" version=\"1.1\" viewBox=\"0 0 338.247594 246.958125\" width=\"338.247594pt\" xmlns=\"http://www.w3.org/2000/svg\" xmlns:xlink=\"http://www.w3.org/1999/xlink\">\n <metadata>\n  <rdf:RDF xmlns:cc=\"http://creativecommons.org/ns#\" xmlns:dc=\"http://purl.org/dc/elements/1.1/\" xmlns:rdf=\"http://www.w3.org/1999/02/22-rdf-syntax-ns#\">\n   <cc:Work>\n    <dc:type rdf:resource=\"http://purl.org/dc/dcmitype/StillImage\"/>\n    <dc:date>2021-01-17T09:15:51.461878</dc:date>\n    <dc:format>image/svg+xml</dc:format>\n    <dc:creator>\n     <cc:Agent>\n      <dc:title>Matplotlib v3.3.1, https://matplotlib.org/</dc:title>\n     </cc:Agent>\n    </dc:creator>\n   </cc:Work>\n  </rdf:RDF>\n </metadata>\n <defs>\n  <style type=\"text/css\">*{stroke-linecap:butt;stroke-linejoin:round;}</style>\n </defs>\n <g id=\"figure_1\">\n  <g id=\"patch_1\">\n   <path d=\"M 0 246.958125 \nL 338.247594 246.958125 \nL 338.247594 0 \nL 0 0 \nz\n\" style=\"fill:none;\"/>\n  </g>\n  <g id=\"axes_1\">\n   <g id=\"patch_2\">\n    <path d=\"M 205.583594 131.038125 \nC 205.583594 117.47064 202.408982 104.089498 196.314378 91.967928 \nC 190.219773 79.846358 181.372589 69.31733 170.48241 61.225318 \nC 159.59223 53.133306 146.9582 47.700592 133.593625 45.362904 \nC 120.229049 43.025216 106.501043 43.846768 93.510654 47.761669 \nL 101.039736 72.744606 \nC 110.133008 70.004175 119.742613 69.429089 129.097815 71.06547 \nC 138.453018 72.701852 147.296839 76.504752 154.919965 82.16916 \nC 162.543091 87.833568 168.736119 95.203888 173.002343 103.688987 \nC 177.268566 112.174086 179.490794 121.540885 179.490794 131.038125 \nL 205.583594 131.038125 \nz\n\" style=\"fill:#3182bd;stroke:#ffffff;stroke-linejoin:miter;\"/>\n   </g>\n   <g id=\"patch_3\">\n    <path d=\"M 93.510654 47.761669 \nC 78.078191 52.412534 64.238117 61.262943 53.542137 73.320615 \nC 42.846157 85.378287 35.709523 100.175106 32.932372 116.052098 \nC 30.155221 131.92909 31.845371 148.26986 37.813327 163.242333 \nC 43.781283 178.214806 53.795351 191.237703 66.732784 200.850937 \nC 79.670217 210.464171 95.028744 216.294526 111.086414 217.688321 \nC 127.144085 219.082116 143.277489 215.98524 157.677801 208.744904 \nC 172.078113 201.504568 184.186267 190.401865 192.644734 176.681596 \nC 201.103201 162.961327 205.583597 147.156156 205.583594 131.038109 \nL 179.490794 131.038114 \nC 179.490796 142.320747 176.354519 153.384366 170.433592 162.988555 \nC 164.512665 172.592743 156.036957 180.364635 145.956739 185.43287 \nC 135.876521 190.501105 124.583138 192.668919 113.342768 191.693262 \nC 102.102399 190.717606 91.35143 186.636357 82.295227 179.907093 \nC 73.239024 173.17783 66.229176 164.061802 62.051607 153.581071 \nC 57.874038 143.10034 56.690933 131.661801 58.634939 120.547906 \nC 60.578944 109.434012 65.574588 99.076239 73.061774 90.635868 \nC 80.54896 82.195497 90.237012 76.000211 101.039736 72.744606 \nL 93.510654 47.761669 \nz\n\" style=\"fill:#e6550d;stroke:#ffffff;stroke-linejoin:miter;\"/>\n   </g>\n   <g id=\"patch_4\">\n    <path d=\"M 179.490794 131.038125 \nC 179.490794 120.35442 176.678649 109.856575 171.338022 100.603507 \nC 165.997395 91.35044 158.314102 83.664094 149.063157 78.319791 \nL 136.010772 100.913363 \nC 141.297027 103.96725 145.68748 108.359448 148.739267 113.646915 \nC 151.791054 118.934382 153.397994 124.933151 153.397994 131.038125 \nL 179.490794 131.038125 \nz\n\" style=\"fill:#6baed6;stroke:#ffffff;stroke-linejoin:miter;\"/>\n   </g>\n   <g id=\"patch_5\">\n    <path d=\"M 149.063157 78.319791 \nC 141.86358 74.160571 133.887715 71.519935 125.628558 70.561104 \nC 117.369402 69.602273 109.000704 70.345418 101.039741 72.744604 \nL 108.568821 97.727542 \nC 113.117942 96.356578 117.900056 95.931924 122.619574 96.479827 \nC 127.339091 97.027731 131.896729 98.536665 136.010772 100.913363 \nL 149.063157 78.319791 \nz\n\" style=\"fill:#9ecae1;stroke:#ffffff;stroke-linejoin:miter;\"/>\n   </g>\n   <g id=\"patch_6\">\n    <path d=\"M 101.039741 72.744604 \nC 89.347156 76.268385 78.980907 83.229932 71.295001 92.719949 \nC 63.609095 102.209966 58.953402 113.796458 57.936036 125.966032 \nC 56.918669 138.135606 59.58594 150.334292 65.589458 160.968734 \nC 71.592976 171.603175 80.659454 180.189283 91.604657 185.605564 \nL 103.177344 162.219519 \nC 96.922942 159.124501 91.742098 154.218154 88.311516 148.14133 \nC 84.880935 142.064506 83.35678 135.093829 83.938132 128.139786 \nC 84.519484 121.185744 87.17988 114.564891 91.571826 109.142025 \nC 95.963773 103.719158 101.887344 99.741131 108.568821 97.727542 \nL 101.039741 72.744604 \nz\n\" style=\"fill:#6baed6;stroke:#ffffff;stroke-linejoin:miter;\"/>\n   </g>\n   <g id=\"patch_7\">\n    <path d=\"M 91.604657 185.605564 \nC 100.886364 190.198658 111.188296 192.348521 121.532333 191.851034 \nC 131.87637 191.353548 141.92444 188.224971 150.722527 182.762346 \nC 159.520614 177.299722 166.781172 169.681585 171.814844 160.631241 \nC 176.848517 151.580896 179.490791 141.394135 179.490794 131.038142 \nL 153.397994 131.038135 \nC 153.397992 136.955845 151.888121 142.776852 149.011737 147.948477 \nC 146.135353 153.120102 141.986462 157.473324 136.958984 160.594823 \nC 131.931506 163.716322 126.189752 165.504081 120.278873 165.788359 \nC 114.367995 166.072637 108.481177 164.844144 103.177344 162.219519 \nL 91.604657 185.605564 \nz\n\" style=\"fill:#9ecae1;stroke:#ffffff;stroke-linejoin:miter;\"/>\n   </g>\n   <g id=\"matplotlib.axis_1\"/>\n   <g id=\"matplotlib.axis_2\"/>\n   <g id=\"text_1\">\n    <!-- failed -->\n    <g transform=\"translate(178.263632 53.512772)scale(0.1 -0.1)\">\n     <defs>\n      <path d=\"M 37.109375 75.984375 \nL 37.109375 68.5 \nL 28.515625 68.5 \nQ 23.6875 68.5 21.796875 66.546875 \nQ 19.921875 64.59375 19.921875 59.515625 \nL 19.921875 54.6875 \nL 34.71875 54.6875 \nL 34.71875 47.703125 \nL 19.921875 47.703125 \nL 19.921875 0 \nL 10.890625 0 \nL 10.890625 47.703125 \nL 2.296875 47.703125 \nL 2.296875 54.6875 \nL 10.890625 54.6875 \nL 10.890625 58.5 \nQ 10.890625 67.625 15.140625 71.796875 \nQ 19.390625 75.984375 28.609375 75.984375 \nz\n\" id=\"DejaVuSans-102\"/>\n      <path d=\"M 34.28125 27.484375 \nQ 23.390625 27.484375 19.1875 25 \nQ 14.984375 22.515625 14.984375 16.5 \nQ 14.984375 11.71875 18.140625 8.90625 \nQ 21.296875 6.109375 26.703125 6.109375 \nQ 34.1875 6.109375 38.703125 11.40625 \nQ 43.21875 16.703125 43.21875 25.484375 \nL 43.21875 27.484375 \nz\nM 52.203125 31.203125 \nL 52.203125 0 \nL 43.21875 0 \nL 43.21875 8.296875 \nQ 40.140625 3.328125 35.546875 0.953125 \nQ 30.953125 -1.421875 24.3125 -1.421875 \nQ 15.921875 -1.421875 10.953125 3.296875 \nQ 6 8.015625 6 15.921875 \nQ 6 25.140625 12.171875 29.828125 \nQ 18.359375 34.515625 30.609375 34.515625 \nL 43.21875 34.515625 \nL 43.21875 35.40625 \nQ 43.21875 41.609375 39.140625 45 \nQ 35.0625 48.390625 27.6875 48.390625 \nQ 23 48.390625 18.546875 47.265625 \nQ 14.109375 46.140625 10.015625 43.890625 \nL 10.015625 52.203125 \nQ 14.9375 54.109375 19.578125 55.046875 \nQ 24.21875 56 28.609375 56 \nQ 40.484375 56 46.34375 49.84375 \nQ 52.203125 43.703125 52.203125 31.203125 \nz\n\" id=\"DejaVuSans-97\"/>\n      <path d=\"M 9.421875 54.6875 \nL 18.40625 54.6875 \nL 18.40625 0 \nL 9.421875 0 \nz\nM 9.421875 75.984375 \nL 18.40625 75.984375 \nL 18.40625 64.59375 \nL 9.421875 64.59375 \nz\n\" id=\"DejaVuSans-105\"/>\n      <path d=\"M 9.421875 75.984375 \nL 18.40625 75.984375 \nL 18.40625 0 \nL 9.421875 0 \nz\n\" id=\"DejaVuSans-108\"/>\n      <path d=\"M 56.203125 29.59375 \nL 56.203125 25.203125 \nL 14.890625 25.203125 \nQ 15.484375 15.921875 20.484375 11.0625 \nQ 25.484375 6.203125 34.421875 6.203125 \nQ 39.59375 6.203125 44.453125 7.46875 \nQ 49.3125 8.734375 54.109375 11.28125 \nL 54.109375 2.78125 \nQ 49.265625 0.734375 44.1875 -0.34375 \nQ 39.109375 -1.421875 33.890625 -1.421875 \nQ 20.796875 -1.421875 13.15625 6.1875 \nQ 5.515625 13.8125 5.515625 26.8125 \nQ 5.515625 40.234375 12.765625 48.109375 \nQ 20.015625 56 32.328125 56 \nQ 43.359375 56 49.78125 48.890625 \nQ 56.203125 41.796875 56.203125 29.59375 \nz\nM 47.21875 32.234375 \nQ 47.125 39.59375 43.09375 43.984375 \nQ 39.0625 48.390625 32.421875 48.390625 \nQ 24.90625 48.390625 20.390625 44.140625 \nQ 15.875 39.890625 15.1875 32.171875 \nz\n\" id=\"DejaVuSans-101\"/>\n      <path d=\"M 45.40625 46.390625 \nL 45.40625 75.984375 \nL 54.390625 75.984375 \nL 54.390625 0 \nL 45.40625 0 \nL 45.40625 8.203125 \nQ 42.578125 3.328125 38.25 0.953125 \nQ 33.9375 -1.421875 27.875 -1.421875 \nQ 17.96875 -1.421875 11.734375 6.484375 \nQ 5.515625 14.40625 5.515625 27.296875 \nQ 5.515625 40.1875 11.734375 48.09375 \nQ 17.96875 56 27.875 56 \nQ 33.9375 56 38.25 53.625 \nQ 42.578125 51.265625 45.40625 46.390625 \nz\nM 14.796875 27.296875 \nQ 14.796875 17.390625 18.875 11.75 \nQ 22.953125 6.109375 30.078125 6.109375 \nQ 37.203125 6.109375 41.296875 11.75 \nQ 45.40625 17.390625 45.40625 27.296875 \nQ 45.40625 37.203125 41.296875 42.84375 \nQ 37.203125 48.484375 30.078125 48.484375 \nQ 22.953125 48.484375 18.875 42.84375 \nQ 14.796875 37.203125 14.796875 27.296875 \nz\n\" id=\"DejaVuSans-100\"/>\n     </defs>\n     <use xlink:href=\"#DejaVuSans-102\"/>\n     <use x=\"35.205078\" xlink:href=\"#DejaVuSans-97\"/>\n     <use x=\"96.484375\" xlink:href=\"#DejaVuSans-105\"/>\n     <use x=\"124.267578\" xlink:href=\"#DejaVuSans-108\"/>\n     <use x=\"152.050781\" xlink:href=\"#DejaVuSans-101\"/>\n     <use x=\"213.574219\" xlink:href=\"#DejaVuSans-100\"/>\n    </g>\n   </g>\n   <g id=\"text_2\">\n    <!-- 29.66% -->\n    <g transform=\"translate(143.636344 74.456614)scale(0.1 -0.1)\">\n     <defs>\n      <path d=\"M 19.1875 8.296875 \nL 53.609375 8.296875 \nL 53.609375 0 \nL 7.328125 0 \nL 7.328125 8.296875 \nQ 12.9375 14.109375 22.625 23.890625 \nQ 32.328125 33.6875 34.8125 36.53125 \nQ 39.546875 41.84375 41.421875 45.53125 \nQ 43.3125 49.21875 43.3125 52.78125 \nQ 43.3125 58.59375 39.234375 62.25 \nQ 35.15625 65.921875 28.609375 65.921875 \nQ 23.96875 65.921875 18.8125 64.3125 \nQ 13.671875 62.703125 7.8125 59.421875 \nL 7.8125 69.390625 \nQ 13.765625 71.78125 18.9375 73 \nQ 24.125 74.21875 28.421875 74.21875 \nQ 39.75 74.21875 46.484375 68.546875 \nQ 53.21875 62.890625 53.21875 53.421875 \nQ 53.21875 48.921875 51.53125 44.890625 \nQ 49.859375 40.875 45.40625 35.40625 \nQ 44.1875 33.984375 37.640625 27.21875 \nQ 31.109375 20.453125 19.1875 8.296875 \nz\n\" id=\"DejaVuSans-50\"/>\n      <path d=\"M 10.984375 1.515625 \nL 10.984375 10.5 \nQ 14.703125 8.734375 18.5 7.8125 \nQ 22.3125 6.890625 25.984375 6.890625 \nQ 35.75 6.890625 40.890625 13.453125 \nQ 46.046875 20.015625 46.78125 33.40625 \nQ 43.953125 29.203125 39.59375 26.953125 \nQ 35.25 24.703125 29.984375 24.703125 \nQ 19.046875 24.703125 12.671875 31.3125 \nQ 6.296875 37.9375 6.296875 49.421875 \nQ 6.296875 60.640625 12.9375 67.421875 \nQ 19.578125 74.21875 30.609375 74.21875 \nQ 43.265625 74.21875 49.921875 64.515625 \nQ 56.59375 54.828125 56.59375 36.375 \nQ 56.59375 19.140625 48.40625 8.859375 \nQ 40.234375 -1.421875 26.421875 -1.421875 \nQ 22.703125 -1.421875 18.890625 -0.6875 \nQ 15.09375 0.046875 10.984375 1.515625 \nz\nM 30.609375 32.421875 \nQ 37.25 32.421875 41.125 36.953125 \nQ 45.015625 41.5 45.015625 49.421875 \nQ 45.015625 57.28125 41.125 61.84375 \nQ 37.25 66.40625 30.609375 66.40625 \nQ 23.96875 66.40625 20.09375 61.84375 \nQ 16.21875 57.28125 16.21875 49.421875 \nQ 16.21875 41.5 20.09375 36.953125 \nQ 23.96875 32.421875 30.609375 32.421875 \nz\n\" id=\"DejaVuSans-57\"/>\n      <path d=\"M 10.6875 12.40625 \nL 21 12.40625 \nL 21 0 \nL 10.6875 0 \nz\n\" id=\"DejaVuSans-46\"/>\n      <path d=\"M 33.015625 40.375 \nQ 26.375 40.375 22.484375 35.828125 \nQ 18.609375 31.296875 18.609375 23.390625 \nQ 18.609375 15.53125 22.484375 10.953125 \nQ 26.375 6.390625 33.015625 6.390625 \nQ 39.65625 6.390625 43.53125 10.953125 \nQ 47.40625 15.53125 47.40625 23.390625 \nQ 47.40625 31.296875 43.53125 35.828125 \nQ 39.65625 40.375 33.015625 40.375 \nz\nM 52.59375 71.296875 \nL 52.59375 62.3125 \nQ 48.875 64.0625 45.09375 64.984375 \nQ 41.3125 65.921875 37.59375 65.921875 \nQ 27.828125 65.921875 22.671875 59.328125 \nQ 17.53125 52.734375 16.796875 39.40625 \nQ 19.671875 43.65625 24.015625 45.921875 \nQ 28.375 48.1875 33.59375 48.1875 \nQ 44.578125 48.1875 50.953125 41.515625 \nQ 57.328125 34.859375 57.328125 23.390625 \nQ 57.328125 12.15625 50.6875 5.359375 \nQ 44.046875 -1.421875 33.015625 -1.421875 \nQ 20.359375 -1.421875 13.671875 8.265625 \nQ 6.984375 17.96875 6.984375 36.375 \nQ 6.984375 53.65625 15.1875 63.9375 \nQ 23.390625 74.21875 37.203125 74.21875 \nQ 40.921875 74.21875 44.703125 73.484375 \nQ 48.484375 72.75 52.59375 71.296875 \nz\n\" id=\"DejaVuSans-54\"/>\n      <path d=\"M 72.703125 32.078125 \nQ 68.453125 32.078125 66.03125 28.46875 \nQ 63.625 24.859375 63.625 18.40625 \nQ 63.625 12.0625 66.03125 8.421875 \nQ 68.453125 4.78125 72.703125 4.78125 \nQ 76.859375 4.78125 79.265625 8.421875 \nQ 81.6875 12.0625 81.6875 18.40625 \nQ 81.6875 24.8125 79.265625 28.4375 \nQ 76.859375 32.078125 72.703125 32.078125 \nz\nM 72.703125 38.28125 \nQ 80.421875 38.28125 84.953125 32.90625 \nQ 89.5 27.546875 89.5 18.40625 \nQ 89.5 9.28125 84.9375 3.921875 \nQ 80.375 -1.421875 72.703125 -1.421875 \nQ 64.890625 -1.421875 60.34375 3.921875 \nQ 55.8125 9.28125 55.8125 18.40625 \nQ 55.8125 27.59375 60.375 32.9375 \nQ 64.9375 38.28125 72.703125 38.28125 \nz\nM 22.3125 68.015625 \nQ 18.109375 68.015625 15.6875 64.375 \nQ 13.28125 60.75 13.28125 54.390625 \nQ 13.28125 47.953125 15.671875 44.328125 \nQ 18.0625 40.71875 22.3125 40.71875 \nQ 26.5625 40.71875 28.96875 44.328125 \nQ 31.390625 47.953125 31.390625 54.390625 \nQ 31.390625 60.6875 28.953125 64.34375 \nQ 26.515625 68.015625 22.3125 68.015625 \nz\nM 66.40625 74.21875 \nL 74.21875 74.21875 \nL 28.609375 -1.421875 \nL 20.796875 -1.421875 \nz\nM 22.3125 74.21875 \nQ 30.03125 74.21875 34.609375 68.875 \nQ 39.203125 63.53125 39.203125 54.390625 \nQ 39.203125 45.171875 34.640625 39.84375 \nQ 30.078125 34.515625 22.3125 34.515625 \nQ 14.546875 34.515625 10.03125 39.859375 \nQ 5.515625 45.21875 5.515625 54.390625 \nQ 5.515625 63.484375 10.046875 68.84375 \nQ 14.59375 74.21875 22.3125 74.21875 \nz\n\" id=\"DejaVuSans-37\"/>\n     </defs>\n     <use xlink:href=\"#DejaVuSans-50\"/>\n     <use x=\"63.623047\" xlink:href=\"#DejaVuSans-57\"/>\n     <use x=\"127.246094\" xlink:href=\"#DejaVuSans-46\"/>\n     <use x=\"159.033203\" xlink:href=\"#DejaVuSans-54\"/>\n     <use x=\"222.65625\" xlink:href=\"#DejaVuSans-54\"/>\n     <use x=\"286.279297\" xlink:href=\"#DejaVuSans-37\"/>\n    </g>\n   </g>\n   <g id=\"text_3\">\n    <!-- successful -->\n    <g transform=\"translate(7.2 214.082234)scale(0.1 -0.1)\">\n     <defs>\n      <path d=\"M 44.28125 53.078125 \nL 44.28125 44.578125 \nQ 40.484375 46.53125 36.375 47.5 \nQ 32.28125 48.484375 27.875 48.484375 \nQ 21.1875 48.484375 17.84375 46.4375 \nQ 14.5 44.390625 14.5 40.28125 \nQ 14.5 37.15625 16.890625 35.375 \nQ 19.28125 33.59375 26.515625 31.984375 \nL 29.59375 31.296875 \nQ 39.15625 29.25 43.1875 25.515625 \nQ 47.21875 21.78125 47.21875 15.09375 \nQ 47.21875 7.46875 41.1875 3.015625 \nQ 35.15625 -1.421875 24.609375 -1.421875 \nQ 20.21875 -1.421875 15.453125 -0.5625 \nQ 10.6875 0.296875 5.421875 2 \nL 5.421875 11.28125 \nQ 10.40625 8.6875 15.234375 7.390625 \nQ 20.0625 6.109375 24.8125 6.109375 \nQ 31.15625 6.109375 34.5625 8.28125 \nQ 37.984375 10.453125 37.984375 14.40625 \nQ 37.984375 18.0625 35.515625 20.015625 \nQ 33.0625 21.96875 24.703125 23.78125 \nL 21.578125 24.515625 \nQ 13.234375 26.265625 9.515625 29.90625 \nQ 5.8125 33.546875 5.8125 39.890625 \nQ 5.8125 47.609375 11.28125 51.796875 \nQ 16.75 56 26.8125 56 \nQ 31.78125 56 36.171875 55.265625 \nQ 40.578125 54.546875 44.28125 53.078125 \nz\n\" id=\"DejaVuSans-115\"/>\n      <path d=\"M 8.5 21.578125 \nL 8.5 54.6875 \nL 17.484375 54.6875 \nL 17.484375 21.921875 \nQ 17.484375 14.15625 20.5 10.265625 \nQ 23.53125 6.390625 29.59375 6.390625 \nQ 36.859375 6.390625 41.078125 11.03125 \nQ 45.3125 15.671875 45.3125 23.6875 \nL 45.3125 54.6875 \nL 54.296875 54.6875 \nL 54.296875 0 \nL 45.3125 0 \nL 45.3125 8.40625 \nQ 42.046875 3.421875 37.71875 1 \nQ 33.40625 -1.421875 27.6875 -1.421875 \nQ 18.265625 -1.421875 13.375 4.4375 \nQ 8.5 10.296875 8.5 21.578125 \nz\nM 31.109375 56 \nz\n\" id=\"DejaVuSans-117\"/>\n      <path d=\"M 48.78125 52.59375 \nL 48.78125 44.1875 \nQ 44.96875 46.296875 41.140625 47.34375 \nQ 37.3125 48.390625 33.40625 48.390625 \nQ 24.65625 48.390625 19.8125 42.84375 \nQ 14.984375 37.3125 14.984375 27.296875 \nQ 14.984375 17.28125 19.8125 11.734375 \nQ 24.65625 6.203125 33.40625 6.203125 \nQ 37.3125 6.203125 41.140625 7.25 \nQ 44.96875 8.296875 48.78125 10.40625 \nL 48.78125 2.09375 \nQ 45.015625 0.34375 40.984375 -0.53125 \nQ 36.96875 -1.421875 32.421875 -1.421875 \nQ 20.0625 -1.421875 12.78125 6.34375 \nQ 5.515625 14.109375 5.515625 27.296875 \nQ 5.515625 40.671875 12.859375 48.328125 \nQ 20.21875 56 33.015625 56 \nQ 37.15625 56 41.109375 55.140625 \nQ 45.0625 54.296875 48.78125 52.59375 \nz\n\" id=\"DejaVuSans-99\"/>\n     </defs>\n     <use xlink:href=\"#DejaVuSans-115\"/>\n     <use x=\"52.099609\" xlink:href=\"#DejaVuSans-117\"/>\n     <use x=\"115.478516\" xlink:href=\"#DejaVuSans-99\"/>\n     <use x=\"170.458984\" xlink:href=\"#DejaVuSans-99\"/>\n     <use x=\"225.439453\" xlink:href=\"#DejaVuSans-101\"/>\n     <use x=\"286.962891\" xlink:href=\"#DejaVuSans-115\"/>\n     <use x=\"339.0625\" xlink:href=\"#DejaVuSans-115\"/>\n     <use x=\"391.162109\" xlink:href=\"#DejaVuSans-102\"/>\n     <use x=\"426.367188\" xlink:href=\"#DejaVuSans-117\"/>\n     <use x=\"489.746094\" xlink:href=\"#DejaVuSans-108\"/>\n    </g>\n   </g>\n   <g id=\"text_4\">\n    <!-- 70.34% -->\n    <g transform=\"translate(55.449162 193.13839)scale(0.1 -0.1)\">\n     <defs>\n      <path d=\"M 8.203125 72.90625 \nL 55.078125 72.90625 \nL 55.078125 68.703125 \nL 28.609375 0 \nL 18.3125 0 \nL 43.21875 64.59375 \nL 8.203125 64.59375 \nz\n\" id=\"DejaVuSans-55\"/>\n      <path d=\"M 31.78125 66.40625 \nQ 24.171875 66.40625 20.328125 58.90625 \nQ 16.5 51.421875 16.5 36.375 \nQ 16.5 21.390625 20.328125 13.890625 \nQ 24.171875 6.390625 31.78125 6.390625 \nQ 39.453125 6.390625 43.28125 13.890625 \nQ 47.125 21.390625 47.125 36.375 \nQ 47.125 51.421875 43.28125 58.90625 \nQ 39.453125 66.40625 31.78125 66.40625 \nz\nM 31.78125 74.21875 \nQ 44.046875 74.21875 50.515625 64.515625 \nQ 56.984375 54.828125 56.984375 36.375 \nQ 56.984375 17.96875 50.515625 8.265625 \nQ 44.046875 -1.421875 31.78125 -1.421875 \nQ 19.53125 -1.421875 13.0625 8.265625 \nQ 6.59375 17.96875 6.59375 36.375 \nQ 6.59375 54.828125 13.0625 64.515625 \nQ 19.53125 74.21875 31.78125 74.21875 \nz\n\" id=\"DejaVuSans-48\"/>\n      <path d=\"M 40.578125 39.3125 \nQ 47.65625 37.796875 51.625 33 \nQ 55.609375 28.21875 55.609375 21.1875 \nQ 55.609375 10.40625 48.1875 4.484375 \nQ 40.765625 -1.421875 27.09375 -1.421875 \nQ 22.515625 -1.421875 17.65625 -0.515625 \nQ 12.796875 0.390625 7.625 2.203125 \nL 7.625 11.71875 \nQ 11.71875 9.328125 16.59375 8.109375 \nQ 21.484375 6.890625 26.8125 6.890625 \nQ 36.078125 6.890625 40.9375 10.546875 \nQ 45.796875 14.203125 45.796875 21.1875 \nQ 45.796875 27.640625 41.28125 31.265625 \nQ 36.765625 34.90625 28.71875 34.90625 \nL 20.21875 34.90625 \nL 20.21875 43.015625 \nL 29.109375 43.015625 \nQ 36.375 43.015625 40.234375 45.921875 \nQ 44.09375 48.828125 44.09375 54.296875 \nQ 44.09375 59.90625 40.109375 62.90625 \nQ 36.140625 65.921875 28.71875 65.921875 \nQ 24.65625 65.921875 20.015625 65.03125 \nQ 15.375 64.15625 9.8125 62.3125 \nL 9.8125 71.09375 \nQ 15.4375 72.65625 20.34375 73.4375 \nQ 25.25 74.21875 29.59375 74.21875 \nQ 40.828125 74.21875 47.359375 69.109375 \nQ 53.90625 64.015625 53.90625 55.328125 \nQ 53.90625 49.265625 50.4375 45.09375 \nQ 46.96875 40.921875 40.578125 39.3125 \nz\n\" id=\"DejaVuSans-51\"/>\n      <path d=\"M 37.796875 64.3125 \nL 12.890625 25.390625 \nL 37.796875 25.390625 \nz\nM 35.203125 72.90625 \nL 47.609375 72.90625 \nL 47.609375 25.390625 \nL 58.015625 25.390625 \nL 58.015625 17.1875 \nL 47.609375 17.1875 \nL 47.609375 0 \nL 37.796875 0 \nL 37.796875 17.1875 \nL 4.890625 17.1875 \nL 4.890625 26.703125 \nz\n\" id=\"DejaVuSans-52\"/>\n     </defs>\n     <use xlink:href=\"#DejaVuSans-55\"/>\n     <use x=\"63.623047\" xlink:href=\"#DejaVuSans-48\"/>\n     <use x=\"127.246094\" xlink:href=\"#DejaVuSans-46\"/>\n     <use x=\"159.033203\" xlink:href=\"#DejaVuSans-51\"/>\n     <use x=\"222.65625\" xlink:href=\"#DejaVuSans-52\"/>\n     <use x=\"286.279297\" xlink:href=\"#DejaVuSans-37\"/>\n    </g>\n   </g>\n   <g id=\"text_5\">\n    <!-- 1 -->\n    <g transform=\"translate(139.699765 121.623653)scale(0.1 -0.1)\">\n     <defs>\n      <path d=\"M 12.40625 8.296875 \nL 28.515625 8.296875 \nL 28.515625 63.921875 \nL 10.984375 60.40625 \nL 10.984375 69.390625 \nL 28.421875 72.90625 \nL 38.28125 72.90625 \nL 38.28125 8.296875 \nL 54.390625 8.296875 \nL 54.390625 0 \nL 12.40625 0 \nz\n\" id=\"DejaVuSans-49\"/>\n     </defs>\n     <use xlink:href=\"#DejaVuSans-49\"/>\n    </g>\n   </g>\n   <g id=\"text_6\">\n    <!-- 16.66% -->\n    <g transform=\"translate(144.363614 107.928075)scale(0.1 -0.1)\">\n     <use xlink:href=\"#DejaVuSans-49\"/>\n     <use x=\"63.623047\" xlink:href=\"#DejaVuSans-54\"/>\n     <use x=\"127.246094\" xlink:href=\"#DejaVuSans-46\"/>\n     <use x=\"159.033203\" xlink:href=\"#DejaVuSans-54\"/>\n     <use x=\"222.65625\" xlink:href=\"#DejaVuSans-54\"/>\n     <use x=\"286.279297\" xlink:href=\"#DejaVuSans-37\"/>\n    </g>\n   </g>\n   <g id=\"text_7\">\n    <!-- 2 -->\n    <g transform=\"translate(121.41598 109.606692)scale(0.1 -0.1)\">\n     <use xlink:href=\"#DejaVuSans-50\"/>\n    </g>\n   </g>\n   <g id=\"text_8\">\n    <!-- 13.00% -->\n    <g transform=\"translate(105.51057 82.392032)scale(0.1 -0.1)\">\n     <use xlink:href=\"#DejaVuSans-49\"/>\n     <use x=\"63.623047\" xlink:href=\"#DejaVuSans-51\"/>\n     <use x=\"127.246094\" xlink:href=\"#DejaVuSans-46\"/>\n     <use x=\"159.033203\" xlink:href=\"#DejaVuSans-48\"/>\n     <use x=\"222.65625\" xlink:href=\"#DejaVuSans-48\"/>\n     <use x=\"286.279297\" xlink:href=\"#DejaVuSans-37\"/>\n    </g>\n   </g>\n   <g id=\"text_9\">\n    <!-- 3 -->\n    <g transform=\"translate(87.976471 131.768663)scale(0.1 -0.1)\">\n     <use xlink:href=\"#DejaVuSans-51\"/>\n    </g>\n   </g>\n   <g id=\"text_10\">\n    <!-- 38.03% -->\n    <g transform=\"translate(47.971926 129.486221)scale(0.1 -0.1)\">\n     <defs>\n      <path d=\"M 31.78125 34.625 \nQ 24.75 34.625 20.71875 30.859375 \nQ 16.703125 27.09375 16.703125 20.515625 \nQ 16.703125 13.921875 20.71875 10.15625 \nQ 24.75 6.390625 31.78125 6.390625 \nQ 38.8125 6.390625 42.859375 10.171875 \nQ 46.921875 13.96875 46.921875 20.515625 \nQ 46.921875 27.09375 42.890625 30.859375 \nQ 38.875 34.625 31.78125 34.625 \nz\nM 21.921875 38.8125 \nQ 15.578125 40.375 12.03125 44.71875 \nQ 8.5 49.078125 8.5 55.328125 \nQ 8.5 64.0625 14.71875 69.140625 \nQ 20.953125 74.21875 31.78125 74.21875 \nQ 42.671875 74.21875 48.875 69.140625 \nQ 55.078125 64.0625 55.078125 55.328125 \nQ 55.078125 49.078125 51.53125 44.71875 \nQ 48 40.375 41.703125 38.8125 \nQ 48.828125 37.15625 52.796875 32.3125 \nQ 56.78125 27.484375 56.78125 20.515625 \nQ 56.78125 9.90625 50.3125 4.234375 \nQ 43.84375 -1.421875 31.78125 -1.421875 \nQ 19.734375 -1.421875 13.25 4.234375 \nQ 6.78125 9.90625 6.78125 20.515625 \nQ 6.78125 27.484375 10.78125 32.3125 \nQ 14.796875 37.15625 21.921875 38.8125 \nz\nM 18.3125 54.390625 \nQ 18.3125 48.734375 21.84375 45.5625 \nQ 25.390625 42.390625 31.78125 42.390625 \nQ 38.140625 42.390625 41.71875 45.5625 \nQ 45.3125 48.734375 45.3125 54.390625 \nQ 45.3125 60.0625 41.71875 63.234375 \nQ 38.140625 66.40625 31.78125 66.40625 \nQ 25.390625 66.40625 21.84375 63.234375 \nQ 18.3125 60.0625 18.3125 54.390625 \nz\n\" id=\"DejaVuSans-56\"/>\n     </defs>\n     <use xlink:href=\"#DejaVuSans-51\"/>\n     <use x=\"63.623047\" xlink:href=\"#DejaVuSans-56\"/>\n     <use x=\"127.246094\" xlink:href=\"#DejaVuSans-46\"/>\n     <use x=\"159.033203\" xlink:href=\"#DejaVuSans-48\"/>\n     <use x=\"222.65625\" xlink:href=\"#DejaVuSans-51\"/>\n     <use x=\"286.279297\" xlink:href=\"#DejaVuSans-37\"/>\n    </g>\n   </g>\n   <g id=\"text_11\">\n    <!-- 4 -->\n    <g transform=\"translate(131.453567 154.487189)scale(0.1 -0.1)\">\n     <use xlink:href=\"#DejaVuSans-52\"/>\n    </g>\n   </g>\n   <g id=\"text_12\">\n    <!-- 32.31% -->\n    <g transform=\"translate(126.840443 177.763088)scale(0.1 -0.1)\">\n     <use xlink:href=\"#DejaVuSans-51\"/>\n     <use x=\"63.623047\" xlink:href=\"#DejaVuSans-50\"/>\n     <use x=\"127.246094\" xlink:href=\"#DejaVuSans-46\"/>\n     <use x=\"159.033203\" xlink:href=\"#DejaVuSans-51\"/>\n     <use x=\"222.65625\" xlink:href=\"#DejaVuSans-49\"/>\n     <use x=\"286.279297\" xlink:href=\"#DejaVuSans-37\"/>\n    </g>\n   </g>\n   <g id=\"text_13\">\n    <!-- label ratio -->\n    <g transform=\"translate(88.355406 16.318125)scale(0.12 -0.12)\">\n     <defs>\n      <path d=\"M 48.6875 27.296875 \nQ 48.6875 37.203125 44.609375 42.84375 \nQ 40.53125 48.484375 33.40625 48.484375 \nQ 26.265625 48.484375 22.1875 42.84375 \nQ 18.109375 37.203125 18.109375 27.296875 \nQ 18.109375 17.390625 22.1875 11.75 \nQ 26.265625 6.109375 33.40625 6.109375 \nQ 40.53125 6.109375 44.609375 11.75 \nQ 48.6875 17.390625 48.6875 27.296875 \nz\nM 18.109375 46.390625 \nQ 20.953125 51.265625 25.265625 53.625 \nQ 29.59375 56 35.59375 56 \nQ 45.5625 56 51.78125 48.09375 \nQ 58.015625 40.1875 58.015625 27.296875 \nQ 58.015625 14.40625 51.78125 6.484375 \nQ 45.5625 -1.421875 35.59375 -1.421875 \nQ 29.59375 -1.421875 25.265625 0.953125 \nQ 20.953125 3.328125 18.109375 8.203125 \nL 18.109375 0 \nL 9.078125 0 \nL 9.078125 75.984375 \nL 18.109375 75.984375 \nz\n\" id=\"DejaVuSans-98\"/>\n      <path id=\"DejaVuSans-32\"/>\n      <path d=\"M 41.109375 46.296875 \nQ 39.59375 47.171875 37.8125 47.578125 \nQ 36.03125 48 33.890625 48 \nQ 26.265625 48 22.1875 43.046875 \nQ 18.109375 38.09375 18.109375 28.8125 \nL 18.109375 0 \nL 9.078125 0 \nL 9.078125 54.6875 \nL 18.109375 54.6875 \nL 18.109375 46.1875 \nQ 20.953125 51.171875 25.484375 53.578125 \nQ 30.03125 56 36.53125 56 \nQ 37.453125 56 38.578125 55.875 \nQ 39.703125 55.765625 41.0625 55.515625 \nz\n\" id=\"DejaVuSans-114\"/>\n      <path d=\"M 18.3125 70.21875 \nL 18.3125 54.6875 \nL 36.8125 54.6875 \nL 36.8125 47.703125 \nL 18.3125 47.703125 \nL 18.3125 18.015625 \nQ 18.3125 11.328125 20.140625 9.421875 \nQ 21.96875 7.515625 27.59375 7.515625 \nL 36.8125 7.515625 \nL 36.8125 0 \nL 27.59375 0 \nQ 17.1875 0 13.234375 3.875 \nQ 9.28125 7.765625 9.28125 18.015625 \nL 9.28125 47.703125 \nL 2.6875 47.703125 \nL 2.6875 54.6875 \nL 9.28125 54.6875 \nL 9.28125 70.21875 \nz\n\" id=\"DejaVuSans-116\"/>\n      <path d=\"M 30.609375 48.390625 \nQ 23.390625 48.390625 19.1875 42.75 \nQ 14.984375 37.109375 14.984375 27.296875 \nQ 14.984375 17.484375 19.15625 11.84375 \nQ 23.34375 6.203125 30.609375 6.203125 \nQ 37.796875 6.203125 41.984375 11.859375 \nQ 46.1875 17.53125 46.1875 27.296875 \nQ 46.1875 37.015625 41.984375 42.703125 \nQ 37.796875 48.390625 30.609375 48.390625 \nz\nM 30.609375 56 \nQ 42.328125 56 49.015625 48.375 \nQ 55.71875 40.765625 55.71875 27.296875 \nQ 55.71875 13.875 49.015625 6.21875 \nQ 42.328125 -1.421875 30.609375 -1.421875 \nQ 18.84375 -1.421875 12.171875 6.21875 \nQ 5.515625 13.875 5.515625 27.296875 \nQ 5.515625 40.765625 12.171875 48.375 \nQ 18.84375 56 30.609375 56 \nz\n\" id=\"DejaVuSans-111\"/>\n     </defs>\n     <use xlink:href=\"#DejaVuSans-108\"/>\n     <use x=\"27.783203\" xlink:href=\"#DejaVuSans-97\"/>\n     <use x=\"89.0625\" xlink:href=\"#DejaVuSans-98\"/>\n     <use x=\"152.539062\" xlink:href=\"#DejaVuSans-101\"/>\n     <use x=\"214.0625\" xlink:href=\"#DejaVuSans-108\"/>\n     <use x=\"241.845703\" xlink:href=\"#DejaVuSans-32\"/>\n     <use x=\"273.632812\" xlink:href=\"#DejaVuSans-114\"/>\n     <use x=\"314.746094\" xlink:href=\"#DejaVuSans-97\"/>\n     <use x=\"376.025391\" xlink:href=\"#DejaVuSans-116\"/>\n     <use x=\"415.234375\" xlink:href=\"#DejaVuSans-105\"/>\n     <use x=\"443.017578\" xlink:href=\"#DejaVuSans-111\"/>\n    </g>\n   </g>\n   <g id=\"legend_1\">\n    <g id=\"patch_8\">\n     <path d=\"M 245.296031 59.674375 \nL 329.047594 59.674375 \nQ 331.047594 59.674375 331.047594 57.674375 \nL 331.047594 29.318125 \nQ 331.047594 27.318125 329.047594 27.318125 \nL 245.296031 27.318125 \nQ 243.296031 27.318125 243.296031 29.318125 \nL 243.296031 57.674375 \nQ 243.296031 59.674375 245.296031 59.674375 \nz\n\" style=\"fill:#ffffff;opacity:0.8;stroke:#cccccc;stroke-linejoin:miter;\"/>\n    </g>\n    <g id=\"patch_9\">\n     <path d=\"M 247.296031 38.916563 \nL 267.296031 38.916563 \nL 267.296031 31.916563 \nL 247.296031 31.916563 \nz\n\" style=\"fill:#3182bd;stroke:#ffffff;stroke-linejoin:miter;\"/>\n    </g>\n    <g id=\"text_14\">\n     <!-- failed -->\n     <g transform=\"translate(275.296031 38.916563)scale(0.1 -0.1)\">\n      <use xlink:href=\"#DejaVuSans-102\"/>\n      <use x=\"35.205078\" xlink:href=\"#DejaVuSans-97\"/>\n      <use x=\"96.484375\" xlink:href=\"#DejaVuSans-105\"/>\n      <use x=\"124.267578\" xlink:href=\"#DejaVuSans-108\"/>\n      <use x=\"152.050781\" xlink:href=\"#DejaVuSans-101\"/>\n      <use x=\"213.574219\" xlink:href=\"#DejaVuSans-100\"/>\n     </g>\n    </g>\n    <g id=\"patch_10\">\n     <path d=\"M 247.296031 53.594688 \nL 267.296031 53.594688 \nL 267.296031 46.594688 \nL 247.296031 46.594688 \nz\n\" style=\"fill:#e6550d;stroke:#ffffff;stroke-linejoin:miter;\"/>\n    </g>\n    <g id=\"text_15\">\n     <!-- successful -->\n     <g transform=\"translate(275.296031 53.594688)scale(0.1 -0.1)\">\n      <use xlink:href=\"#DejaVuSans-115\"/>\n      <use x=\"52.099609\" xlink:href=\"#DejaVuSans-117\"/>\n      <use x=\"115.478516\" xlink:href=\"#DejaVuSans-99\"/>\n      <use x=\"170.458984\" xlink:href=\"#DejaVuSans-99\"/>\n      <use x=\"225.439453\" xlink:href=\"#DejaVuSans-101\"/>\n      <use x=\"286.962891\" xlink:href=\"#DejaVuSans-115\"/>\n      <use x=\"339.0625\" xlink:href=\"#DejaVuSans-115\"/>\n      <use x=\"391.162109\" xlink:href=\"#DejaVuSans-102\"/>\n      <use x=\"426.367188\" xlink:href=\"#DejaVuSans-117\"/>\n      <use x=\"489.746094\" xlink:href=\"#DejaVuSans-108\"/>\n     </g>\n    </g>\n   </g>\n  </g>\n </g>\n</svg>\n",
      "image/png": "[encoded data removed]"
     },
     "metadata": {}
    }
   ],
   "source": [
    "fig, ax = plt.subplots()\n",
    "size = 0.3\n",
    "radius=1\n",
    "vals = np.array([sum(y==i)/len(y) for i in range(1,5)])\n",
    "cmap = plt.get_cmap(\"tab20c\")\n",
    "outer_colors = cmap(np.arange(3)*4)\n",
    "inner_colors = cmap(np.array([1, 2]))\n",
    "\n",
    "ax.pie([vals[0]+vals[1],vals[2]+vals[3]],labels=[\"failed\",\"successful\"],labeldistance=radius+size/2, radius=radius, autopct=lambda pct: \"{:.2f}%\".format(pct),pctdistance=radius-size/2,colors=outer_colors,\n",
    "       wedgeprops=dict(width=size, edgecolor='w'))\n",
    "ax.legend(bbox_to_anchor=(1, 0, 0.5, 1))\n",
    "ax.pie(vals,radius=radius-size, labels=[1,2,3,4], colors=inner_colors,labeldistance=radius-size-size,autopct=lambda pct: \"{:.2f}%\".format(pct),pctdistance=radius-size/2,\n",
    "       wedgeprops=dict(width=size, edgecolor='w'))\n",
    "\n",
    "\n",
    "ax.set_title(\"label ratio\")\n",
    "plt.show()"
   ]
  },
  {
   "cell_type": "code",
   "execution_count": 14,
   "metadata": {},
   "outputs": [
    {
     "output_type": "execute_result",
     "data": {
      "text/plain": [
       "427"
      ]
     },
     "metadata": {},
     "execution_count": 14
    }
   ],
   "source": [
    "len(X_feactureName)"
   ]
  },
  {
   "cell_type": "code",
   "execution_count": 13,
   "metadata": {},
   "outputs": [
    {
     "output_type": "execute_result",
     "data": {
      "text/plain": [
       "array(['XXXinorg1', 'XXXinorg2', 'XXXinorg3', 'XXXorg1', 'XXXorg2',\n",
       "       'XXXoxlike1'], dtype='<U10')"
      ]
     },
     "metadata": {},
     "execution_count": 13
    }
   ],
   "source": [
    "onehotfeature"
   ]
  },
  {
   "cell_type": "code",
   "execution_count": 12,
   "metadata": {},
   "outputs": [
    {
     "output_type": "execute_result",
     "data": {
      "text/plain": [
       "6"
      ]
     },
     "metadata": {},
     "execution_count": 12
    }
   ],
   "source": [
    "len(onehotfeature)"
   ]
  },
  {
   "source": [
    "数据前处理\n",
    "\n",
    "X,Y是训练集\n",
    "x,y是测试集"
   ],
   "cell_type": "markdown",
   "metadata": {}
  },
  {
   "cell_type": "code",
   "execution_count": 2,
   "metadata": {},
   "outputs": [],
   "source": [
    "#处理训练集\n",
    "raw=pd.read_csv(\"./data/train.csv\")\n",
    "rawX=raw.loc[:,\"XXXinorg1\":\"purity\"]\n",
    "Y=Y=np.array((raw.loc[:,\"outcome\"]),dtype=np.float64)\n",
    "#处理测试集\n",
    "raw=pd.read_csv(\"./data/test.csv\")\n",
    "human_pred=np.array(raw.loc[:,\"XXX-Intuition\"],dtype=np.float64)\n",
    "ml_pred=np.array(raw.loc[:,\"predicted outcome\"],dtype=np.float64)\n",
    "y=np.array(raw.loc[:,\"outcome (actual)\"],dtype=np.float64)\n",
    "rawx=raw.loc[:,\"XXXinorg1\":\"purity\"]\n",
    "np.save(\"./processedData/Y.npy\",Y)\n",
    "np.save(\"./processedData/y.npy\",y)"
   ]
  },
  {
   "cell_type": "code",
   "execution_count": 6,
   "metadata": {},
   "outputs": [
    {
     "output_type": "execute_result",
     "data": {
      "text/plain": [
       "array([[  3,  48],\n",
       "       [ 13, 212]])"
      ]
     },
     "metadata": {},
     "execution_count": 6
    }
   ],
   "source": [
    "confusion_matrix(numout2boolout(y),numout2boolout(ml_pred))"
   ]
  },
  {
   "cell_type": "code",
   "execution_count": 11,
   "metadata": {},
   "outputs": [
    {
     "output_type": "execute_result",
     "data": {
      "text/plain": [
       "0.8153846153846154"
      ]
     },
     "metadata": {},
     "execution_count": 11
    }
   ],
   "source": [
    "precision_score(numout2boolout(y),numout2boolout(ml_pred))"
   ]
  },
  {
   "cell_type": "code",
   "execution_count": 8,
   "metadata": {},
   "outputs": [
    {
     "output_type": "execute_result",
     "data": {
      "text/plain": [
       "0.9422222222222222"
      ]
     },
     "metadata": {},
     "execution_count": 8
    }
   ],
   "source": [
    "recall_score(numout2boolout(y),numout2boolout(ml_pred))"
   ]
  },
  {
   "cell_type": "code",
   "execution_count": 9,
   "metadata": {},
   "outputs": [
    {
     "output_type": "execute_result",
     "data": {
      "text/plain": [
       "0.8153846153846154"
      ]
     },
     "metadata": {},
     "execution_count": 9
    }
   ],
   "source": [
    "precision_score(numout2boolout(y),numout2boolout(ml_pred))"
   ]
  },
  {
   "cell_type": "code",
   "execution_count": null,
   "metadata": {},
   "outputs": [],
   "source": [
    "rawXx=pd.concat([rawX,rawx])"
   ]
  },
  {
   "cell_type": "code",
   "execution_count": null,
   "metadata": {},
   "outputs": [],
   "source": [
    "featureName=list(rawXx)"
   ]
  },
  {
   "source": [
    "对3个feature进行特判\n",
    "\n",
    "分为实数型，字符串型，bool型\n",
    "\n",
    "第二类使用独热编码处理\n",
    "\n",
    "其中有三个特征比较特殊：\n",
    "slowCool{'?', 'no', 'yes'}\n",
    "\n",
    "XXXoxlike1{'-1', -1, 'sodium oxalate'}\n",
    "\n",
    "leak{'?', 'no', 'yes'}\n",
    "\n",
    "\"no\" 赋为0，yes赋1，? 用为yes的概率代替\n"
   ],
   "cell_type": "markdown",
   "metadata": {}
  },
  {
   "cell_type": "code",
   "execution_count": null,
   "metadata": {},
   "outputs": [],
   "source": [
    "X_featureName=[]\n",
    "Xx=np.array([],dtype=np.float64).reshape(len(rawXx),-1)\n",
    "boolFeature=[]\n",
    "oneHotFeature=[]\n",
    "errorFeature=[]\n",
    "encoders={}\n",
    "for i in featureName:\n",
    "    try:\n",
    "        feature=np.array(rawXx.loc[:,i],dtype=np.float64).reshape(-1,1)\n",
    "    except:\n",
    "        featureval=set(rawXx.loc[:,i])\n",
    "        if(len(featureval)==1):# 只有一种值的特征，没有帮助\n",
    "            continue\n",
    "        elif(featureval==set([\"yes\",\"no\"])):# bool 型\n",
    "            feature=np.array(rawXx.loc[:,i]=='yes',dtype=np.float64).reshape(-1,1)\n",
    "            boolFeature.append(i)\n",
    "        elif(featureval==set([\"yes\",\"no\",\"?\"])):# 需要补全的bool 型\n",
    "            valCnt=rawXx.loc[:,i].value_counts()\n",
    "            ratio=(valCnt[\"yes\"])/(valCnt['no'])\n",
    "            feature=np.array((rawXx.loc[:,i]=='yes')\n",
    "                +((rawXx.loc[:,i]=='?')*(ratio/(1+ratio))),dtype=np.float64).reshape(-1,1)\n",
    "            boolFeature.append(i)\n",
    "        else:\n",
    "            print(i)# 独热型\n",
    "            ohe=OneHotEncoder()\n",
    "            feature=ohe.fit_transform(np.array(rawXx.loc[:,i],dtype=str).reshape(-1,1)).toarray()\n",
    "            if(feature.shape[1]>200):\n",
    "                errorFeature.append(i)\n",
    "                continue\n",
    "            else:\n",
    "                oneHotFeature.append(i)\n",
    "                encoders[i]=ohe\n",
    "    X_featureName+=[i]*(feature.shape[1])\n",
    "    Xx=np.concatenate((Xx,feature),axis=1)"
   ]
  },
  {
   "cell_type": "code",
   "execution_count": null,
   "metadata": {},
   "outputs": [],
   "source": [
    "X=Xx[:len(rawX),:]\n",
    "x=Xx[len(rawX):,:]"
   ]
  },
  {
   "source": [
    "将处理好的数据放在文件中"
   ],
   "cell_type": "markdown",
   "metadata": {}
  },
  {
   "cell_type": "code",
   "execution_count": null,
   "metadata": {},
   "outputs": [],
   "source": [
    "np.save(\"./processedData/Y.npy\",Y)\n",
    "np.save(\"./processedData/y.npy\",y)\n",
    "np.save(\"./processedData/Xx.npy\",Xx)\n",
    "np.save(\"./processedData/X_featureName.npy\",X_featureName)\n",
    "np.save(\"./processedData/errorFeature.npy\",errorFeature)\n",
    "np.save(\"./processedData/oneHotFeature.npy\",oneHotFeature)\n",
    "np.save(\"./processedData/boolFeature.npy\",boolFeature)\n",
    "np.save(\"./processedData/encoders.npy\",encoders)"
   ]
  },
  {
   "source": [
    "SVM\n",
    "\n",
    "crossValidation\n",
    "对数据集进行shuffle能显著提高性能,但这是虚假的。作者需要求出未知化合物组合的效果\n",
    "shuffle=True是随机取样。但是作者的策略是把同一反应物组合的化合物放到一起(恰好在csv中反应物组合近似的放在一起)。则shuffle=False即可。\n"
   ],
   "cell_type": "markdown",
   "metadata": {}
  },
  {
   "cell_type": "code",
   "execution_count": null,
   "metadata": {},
   "outputs": [],
   "source": [
    "def numout2boolout(label):# 结果有1，2，3，4。但是3，4对应人的预测1，1，2\n",
    "    return label>2.5\n",
    "def crossValidation(X,y,n_splits,Model,params,shuffle=False):\n",
    "    scaler = StandardScaler()\n",
    "    X_std = scaler.fit_transform(X)\n",
    "    kf=KFold(n_splits=n_splits,shuffle=shuffle)\n",
    "    print(params)\n",
    "    for train_index, test_index in kf.split(X):\n",
    "        X_train, X_test = X_std[train_index], X_std[test_index]\n",
    "        Y_train, Y_test = Y[train_index], Y[test_index]\n",
    "        model=Model(**params)\n",
    "        model.fit(X_train,Y_train)\n",
    "        tr_pred=model.predict(X_train)\n",
    "        tr_pred=numout2boolout(tr_pred)\n",
    "        Y_train=numout2boolout(Y_train)\n",
    "        print(\"recall={:.3f}\".format(recall_score(Y_train,tr_pred,average='weighted')))\n",
    "        print(\"precision={:.3f}\".format(precision_score(Y_train,tr_pred,average=\"weighted\")))\n",
    "        print(\"accuracy={:.3f}\".format(accuracy_score(Y_train,tr_pred)))\n",
    "        print(\"confusion matrix is\")\n",
    "        print(confusion_matrix(Y_train,tr_pred))\n",
    "        \n",
    "        pred=model.predict(X_test)\n",
    "        Y_test=numout2boolout(Y_test)\n",
    "        pred=numout2boolout(pred)\n",
    "        print(\"recall={:.3f}\".format(recall_score(Y_test,pred,average='weighted')))\n",
    "        print(\"precision={:.3f}\".format(precision_score(Y_test,pred,average=\"weighted\")))\n",
    "        print(\"accuracy={:.3f}\".format(accuracy_score(Y_test,pred)))\n",
    "        print(\"confusion matrix is\")\n",
    "        print(confusion_matrix(Y_test,pred))"
   ]
  },
  {
   "cell_type": "code",
   "execution_count": null,
   "metadata": {},
   "outputs": [],
   "source": [
    "classifiers = [\n",
    "    (SVC,{\"gamma\":2, \"C\":1}),\n",
    "    #(GaussianProcessClassifier,{\"kernel\":1.0 * RBF(1.0)}),# slow\n",
    "    (DecisionTreeClassifier,{\"max_depth\":5}),\n",
    "    (RandomForestClassifier,{\"max_depth\":5, \"n_estimators\":10, \"max_features\":1}),\n",
    "    (MLPClassifier,{\"alpha\":1, \"max_iter\":1000}),\n",
    "    (AdaBoostClassifier,{}),\n",
    "    (GaussianNB,{}),\n",
    "    (QuadraticDiscriminantAnalysis,{})]"
   ]
  },
  {
   "cell_type": "code",
   "execution_count": null,
   "metadata": {},
   "outputs": [],
   "source": [
    "for i in classifiers:\n",
    "    crossValidation(X,Y,3,i[0],i[1])"
   ]
  },
  {
   "source": [
    "文献中使用的svm https://github.com/rlphilli/sklearn-PUK-kernel/blob/master/PUK_kernel.py\n",
    "\n",
    "以下函数是文献中使用的svm核，效果不如RBF核"
   ],
   "cell_type": "markdown",
   "metadata": {}
  },
  {
   "cell_type": "code",
   "execution_count": null,
   "metadata": {},
   "outputs": [],
   "source": [
    "from scipy.spatial.distance import pdist, cdist\n",
    "from scipy.spatial.distance import squareform\n",
    "\n",
    "def PUK_kernel(X1,X2, sigma=1.0, omega=1.0):\n",
    "    # Compute the kernel matrix between two arrays using the Pearson VII function-based universal kernel.\n",
    "    \n",
    "    # Compute squared euclidean distance between each row element pair of the two matrices\n",
    "    if X1 is X2 :\n",
    "        kernel = squareform(pdist(X1, 'sqeuclidean'))\n",
    "    else:\n",
    "        kernel = cdist(X1, X2, 'sqeuclidean')\n",
    "\n",
    "    kernel = (1 + (kernel * 4 * np.sqrt(2**(1.0/omega)-1)) / sigma**2) ** omega\n",
    "    kernel = 1/kernel\n",
    "\n",
    "    return kernel"
   ]
  },
  {
   "source": [
    "很糟，train,testset差别太大"
   ],
   "cell_type": "markdown",
   "metadata": {}
  },
  {
   "cell_type": "code",
   "execution_count": null,
   "metadata": {},
   "outputs": [],
   "source": [
    "crossValidation(X,Y,3,SVC,{\"kernel\":PUK_kernel,\"class_weight\":\"balanced\",\"C\":1})"
   ]
  },
  {
   "source": [
    "将相同反应物的反应聚在一起再shuffle，达到了原文献的效果"
   ],
   "cell_type": "markdown",
   "metadata": {}
  },
  {
   "source": [
    "reactantMask选择了表示反应物组合的特征。"
   ],
   "cell_type": "markdown",
   "metadata": {}
  },
  {
   "cell_type": "code",
   "execution_count": 4,
   "metadata": {},
   "outputs": [],
   "source": [
    "comb=[]\n",
    "reactantCombination=[]\n",
    "reactantMask=[\"XXXinorg1\",\"XXXinorg2\",\"XXXinorg3\",\"XXXorg1\",\"XXXorg2\"]\n",
    "for i in range(0,len(rawX)):\n",
    "    try:\n",
    "        id=comb.index(set(rawX.loc[i,reactantMask]))\n",
    "        reactantCombination[id].append(i)\n",
    "    except:\n",
    "        comb.append(set(rawX.loc[i,reactantMask]))\n",
    "        reactantCombination.append([i])\n",
    "\n",
    "def CV_author(X,Y,n_splits,Model,params,shuffle=True):\n",
    "    scaler = StandardScaler()\n",
    "    X_std = scaler.fit_transform(X)\n",
    "    kf=KFold(n_splits=n_splits,shuffle=shuffle)\n",
    "    print(params)\n",
    "    for train_index_rc, test_index_rc in kf.split(reactantCombination):\n",
    "        train_index=[i for rc  in train_index_rc  for i in reactantCombination[rc] ]\n",
    "        test_index=[i for rc  in test_index_rc  for i in reactantCombination[rc]]\n",
    "        X_train, X_test = X_std[train_index], X_std[test_index]\n",
    "        Y_train, Y_test = Y[train_index], Y[test_index]\n",
    "        model=Model(**params)\n",
    "        model.fit(X_train,Y_train)\n",
    "        \n",
    "        pred=model.predict(X_test)\n",
    "        Y_test=numout2boolout(Y_test)\n",
    "        pred=numout2boolout(pred)\n",
    "        print(\"recall={:.3f}\".format(recall_score(Y_test,pred,average='weighted')))\n",
    "        print(\"precision={:.3f}\".format(precision_score(Y_test,pred,average=\"weighted\")))\n",
    "        print(\"accuracy={:.3f}\".format(accuracy_score(Y_test,pred)))\n",
    "        print(\"confusion matrix is\")\n",
    "        print(confusion_matrix(Y_test,pred))"
   ]
  },
  {
   "cell_type": "code",
   "execution_count": null,
   "metadata": {},
   "outputs": [],
   "source": [
    "CV_author(X,Y,3,SVC,{\"kernel\":PUK_kernel,\"class_weight\":\"balanced\",\"C\":1})"
   ]
  },
  {
   "source": [
    "对测试集的测试"
   ],
   "cell_type": "markdown",
   "metadata": {}
  },
  {
   "cell_type": "code",
   "execution_count": null,
   "metadata": {},
   "outputs": [],
   "source": [
    "model=SVC(kernel=PUK_kernel,class_weight=\"balanced\",C=1)\n",
    "model.fit(X,Y)\n",
    "pred=model.predict(x)\n",
    "print(precision_score(numout2boolout(y),numout2boolout(pred)))"
   ]
  },
  {
   "source": [
    "将模型解释为决策树, 使用sklearn.tree.plot_tree进行可视化\n",
    "\n",
    "注意决策树只使用一些特征进行重解释，用tree_X_mask表示"
   ],
   "cell_type": "markdown",
   "metadata": {}
  },
  {
   "cell_type": "code",
   "execution_count": null,
   "metadata": {},
   "outputs": [],
   "source": [
    "def reinterpret(X_model,model,X_tree):\n",
    "    pred=model.predict(X_model)\n",
    "    ret=DecisionTreeClassifier()\n",
    "    ret.fit(X_tree,pred)\n",
    "    return ret\n",
    "    "
   ]
  },
  {
   "cell_type": "code",
   "execution_count": null,
   "metadata": {},
   "outputs": [],
   "source": [
    "def in_tree_X_mask(s):\n",
    "    for i in [\"orgvanderwaals\",\"orgASA+\",\"orghbdamsdon\",\"PaulingElectronegMean\", \"hardnessMeanWeighted\", \"AtomicRadiusMeanWeighted\"]:\n",
    "        if i in s:\n",
    "            return 1\n",
    "    return 0"
   ]
  },
  {
   "cell_type": "code",
   "execution_count": null,
   "metadata": {},
   "outputs": [],
   "source": [
    "tree_X_mask=[i for i in range(len(X_featureName)) if in_tree_X_mask(X_featureName[i])]\n"
   ]
  },
  {
   "cell_type": "code",
   "execution_count": null,
   "metadata": {},
   "outputs": [],
   "source": [
    "tree=reinterpret(X,model,X[:,tree_X_mask])"
   ]
  },
  {
   "cell_type": "code",
   "execution_count": null,
   "metadata": {},
   "outputs": [],
   "source": [
    "plot_tree(tree,max_depth=5,feature_names=[X_featureName[i] for i in tree_X_mask])"
   ]
  },
  {
   "source": [
    "特征选择"
   ],
   "cell_type": "markdown",
   "metadata": {}
  },
  {
   "source": [
    "sklearn应该没有实现CFS方法，但是可以用其他方法，此处没有实现"
   ],
   "cell_type": "markdown",
   "metadata": {}
  },
  {
   "source": [
    "from sklearn.feature_selection import SelectFromModel\n",
    "from sklearn.linear_model import LassoCV\n",
    "\n",
    "sfm = SelectFromModel(LassoCV(), ).fit(X, y)\n",
    "toc = time()\n",
    "print(\"Features selected by SelectFromModel: \"\n",
    "      f\"{feature_names[sfm.get_support()]}\")"
   ],
   "cell_type": "markdown",
   "metadata": {}
  }
 ]
}