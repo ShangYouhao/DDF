{
 "metadata": {
  "language_info": {
   "codemirror_mode": {
    "name": "ipython",
    "version": 3
   },
   "file_extension": ".py",
   "mimetype": "text/x-python",
   "name": "python",
   "nbconvert_exporter": "python",
   "pygments_lexer": "ipython3",
   "version": "3.8.6-final"
  },
  "orig_nbformat": 2,
  "kernelspec": {
   "name": "python38664bittorchgeoconda6f756dd914a64c5bbfcc12322cd6a319",
   "display_name": "Python 3.8.6 64-bit ('torch_geo': conda)",
   "language": "python"
  }
 },
 "nbformat": 4,
 "nbformat_minor": 2,
 "cells": [
  {
   "cell_type": "code",
   "execution_count": 3,
   "metadata": {},
   "outputs": [],
   "source": [
    "import pandas as pd \n",
    "import numpy as np\n",
    "from sklearn.preprocessing import LabelEncoder\n",
    "from sklearn.preprocessing import OneHotEncoder\n",
    "from sklearn.metrics import recall_score\n",
    "from sklearn.metrics import precision_score\n",
    "from sklearn.metrics import accuracy_score\n",
    "from sklearn.metrics import confusion_matrix\n",
    "from sklearn.model_selection import KFold\n",
    "from sklearn.tree import plot_tree\n",
    "\n",
    "from sklearn.preprocessing import StandardScaler\n",
    "from sklearn.gaussian_process.kernels import RBF\n",
    "from sklearn.tree import DecisionTreeClassifier\n",
    "from sklearn.linear_model import LogisticRegression\n",
    "from sklearn.ensemble import RandomForestClassifier\n",
    "from sklearn.neural_network import MLPClassifier\n",
    "from sklearn.neighbors import KNeighborsClassifier\n",
    "from sklearn.svm import SVC\n",
    "from sklearn.gaussian_process import GaussianProcessClassifier\n",
    "from sklearn.ensemble import RandomForestClassifier, AdaBoostClassifier\n",
    "from sklearn.naive_bayes import GaussianNB\n",
    "from sklearn.discriminant_analysis import QuadraticDiscriminantAnalysis"
   ]
  },
  {
   "source": [
    "数据前处理"
   ],
   "cell_type": "markdown",
   "metadata": {}
  },
  {
   "cell_type": "code",
   "execution_count": 6,
   "metadata": {},
   "outputs": [],
   "source": [
    "#处理训练集\n",
    "raw=pd.read_csv(\"./data/train.csv\")\n",
    "rawX=raw.loc[:,\"XXXinorg1\":\"purity\"]\n",
    "Y=Y=np.array((raw.loc[:,\"outcome\"]),dtype=np.float64)\n",
    "#处理测试集\n",
    "raw=pd.read_csv(\"./data/test.csv\")\n",
    "human_pred=np.array(raw.loc[:,\"XXX-Intuition\"],dtype=np.float64)\n",
    "ml_pred=np.array(raw.loc[:,\"predicted outcome\"],dtype=np.float64)\n",
    "y=np.array(raw.loc[:,\"outcome (actual)\"],dtype=np.float64)\n",
    "rawx=raw.loc[:,\"XXXinorg1\":\"purity\"]"
   ]
  },
  {
   "cell_type": "code",
   "execution_count": 4,
   "metadata": {},
   "outputs": [],
   "source": [
    "rawXx=pd.concat([rawX,rawx])"
   ]
  },
  {
   "cell_type": "code",
   "execution_count": 6,
   "metadata": {},
   "outputs": [],
   "source": [
    "featureName=list(rawXx)"
   ]
  },
  {
   "source": [
    "对3个feature进行特判\n",
    "\n",
    "分为实数型，字符串型，bool型\n",
    "\n",
    "其中有三类比较特殊，需要判断：\n",
    "slowCool{'?', 'no', 'yes'}\n",
    "\n",
    "XXXoxlike1{'-1', -1, 'sodium oxalate'}\n",
    "\n",
    "leak{'?', 'no', 'yes'}\n",
    "\n",
    "\"no\" 赋为0，\n"
   ],
   "cell_type": "markdown",
   "metadata": {}
  },
  {
   "cell_type": "code",
   "execution_count": 47,
   "metadata": {},
   "outputs": [
    {
     "output_type": "stream",
     "name": "stdout",
     "text": [
      "XXXinorg1\nXXXinorg2\nXXXinorg3\nXXXorg1\nXXXorg2\nXXXoxlike1\n"
     ]
    }
   ],
   "source": [
    "X_featureName=[]\n",
    "Xx=np.array([],dtype=np.float64).reshape(len(rawXx),-1)\n",
    "boolFeature=[]\n",
    "oneHotFeature=[]\n",
    "errorFeature=[]\n",
    "encoders={}\n",
    "for i in featureName:\n",
    "    try:\n",
    "        feature=np.array(rawXx.loc[:,i],dtype=np.float64).reshape(-1,1)\n",
    "    except:\n",
    "        featureval=set(rawXx.loc[:,i])\n",
    "        if(len(featureval)==1):# 只有一种值的特征，没有帮助\n",
    "            continue\n",
    "        elif(featureval==set([\"yes\",\"no\"])):\n",
    "            feature=np.array(rawXx.loc[:,i]=='yes',dtype=np.float64).reshape(-1,1)\n",
    "            boolFeature.append(i)\n",
    "        elif(featureval==set([\"yes\",\"no\",\"?\"])):\n",
    "            valCnt=rawXx.loc[:,i].value_counts()\n",
    "            ratio=(valCnt[\"yes\"])/(valCnt['no'])\n",
    "            feature=np.array((rawXx.loc[:,i]=='yes')\n",
    "                +((rawXx.loc[:,i]=='?')*(ratio/(1+ratio))),dtype=np.float64).reshape(-1,1)\n",
    "            boolFeature.append(i)\n",
    "        else:\n",
    "            print(i)\n",
    "            ohe=OneHotEncoder()\n",
    "            feature=ohe.fit_transform(np.array(rawXx.loc[:,i],dtype=str).reshape(-1,1)).toarray()\n",
    "            if(feature.shape[1]>200):\n",
    "                errorFeature.append(i)\n",
    "                continue\n",
    "            else:\n",
    "                oneHotFeature.append(i)\n",
    "                encoders[i]=ohe\n",
    "    X_featureName+=[i]*(feature.shape[1])\n",
    "    Xx=np.concatenate((Xx,feature),axis=1)"
   ]
  },
  {
   "cell_type": "code",
   "execution_count": 7,
   "metadata": {},
   "outputs": [],
   "source": [
    "X=Xx[:len(rawX),:]\n",
    "x=Xx[len(rawX):,:]"
   ]
  },
  {
   "cell_type": "code",
   "execution_count": 50,
   "metadata": {},
   "outputs": [],
   "source": [
    "np.save(\"./processedData/Xx.npy\",Xx)\n",
    "np.save(\"./processedData/X_featureName.npy\",X_featureName)\n",
    "np.save(\"./processedData/errorFeature.npy\",errorFeature)\n",
    "np.save(\"./processedData/oneHotFeature.npy\",oneHotFeature)\n",
    "np.save(\"./processedData/boolFeature.npy\",boolFeature)\n",
    "np.save(\"./processedData/encoders.npy\",encoders)"
   ]
  },
  {
   "source": [
    "SVM\n",
    "\n",
    "对数据集进行shuffle能显著提高性能,但这是虚假的。作者需要求出未知化合物组合的效果\n",
    "shuffle=True是随机取样。但是作者的策略是把同一反应物组合的化合物放到一起(恰好在csv中反应物组合近似的放在一起)。则shuffle=False即可。\n",
    "\n",
    "但这样太不均衡，因此考虑9分类，每次取3个作为数据集"
   ],
   "cell_type": "markdown",
   "metadata": {}
  },
  {
   "cell_type": "code",
   "execution_count": 53,
   "metadata": {},
   "outputs": [],
   "source": [
    "def numout2boolout(label):# 结果有1，2，3，4。但是3，4对应人的预测1\n",
    "    return label>2.5\n",
    "def crossValidation(X,y,n_splits,Model,params,shuffle=False):\n",
    "    scaler = StandardScaler()\n",
    "    X_std = scaler.fit_transform(X)\n",
    "    kf=KFold(n_splits=n_splits,shuffle=shuffle)\n",
    "    print(params)\n",
    "    for train_index, test_index in kf.split(X):\n",
    "        X_train, X_test = X_std[train_index], X_std[test_index]\n",
    "        Y_train, Y_test = Y[train_index], Y[test_index]\n",
    "        model=Model(**params)\n",
    "        model.fit(X_train,Y_train)\n",
    "        tr_pred=model.predict(X_train)\n",
    "        tr_pred=numout2boolout(tr_pred)\n",
    "        Y_train=numout2boolout(Y_train)\n",
    "        print(\"recall={:.3f}\".format(recall_score(Y_train,tr_pred,average='weighted')))\n",
    "        print(\"precision={:.3f}\".format(precision_score(Y_train,tr_pred,average=\"weighted\")))\n",
    "        print(\"accuracy={:.3f}\".format(accuracy_score(Y_train,tr_pred)))\n",
    "        print(\"confusion matrix is\")\n",
    "        print(confusion_matrix(Y_train,tr_pred))\n",
    "        \n",
    "        pred=model.predict(X_test)\n",
    "        Y_test=numout2boolout(Y_test)\n",
    "        pred=numout2boolout(pred)\n",
    "        print(\"recall={:.3f}\".format(recall_score(Y_test,pred,average='weighted')))\n",
    "        print(\"precision={:.3f}\".format(precision_score(Y_test,pred,average=\"weighted\")))\n",
    "        print(\"accuracy={:.3f}\".format(accuracy_score(Y_test,pred)))\n",
    "        print(\"confusion matrix is\")\n",
    "        print(confusion_matrix(Y_test,pred))"
   ]
  },
  {
   "cell_type": "code",
   "execution_count": 10,
   "metadata": {},
   "outputs": [],
   "source": [
    "classifiers = [\n",
    "    (SVC,{\"gamma\":2, \"C\":1}),\n",
    "    #(GaussianProcessClassifier,{\"kernel\":1.0 * RBF(1.0)}),# slow\n",
    "    (DecisionTreeClassifier,{\"max_depth\":5}),\n",
    "    (RandomForestClassifier,{\"max_depth\":5, \"n_estimators\":10, \"max_features\":1}),\n",
    "    (MLPClassifier,{\"alpha\":1, \"max_iter\":1000}),\n",
    "    (AdaBoostClassifier,{}),\n",
    "    (GaussianNB,{}),\n",
    "    (QuadraticDiscriminantAnalysis,{})]"
   ]
  },
  {
   "cell_type": "code",
   "execution_count": 13,
   "metadata": {},
   "outputs": [
    {
     "output_type": "stream",
     "name": "stdout",
     "text": [
      "{'gamma': 2, 'C': 1}\n",
      "recall=0.531\n",
      "precision=0.751\n",
      "accuracy=0.531\n",
      "confusion matrix is\n",
      "[[  1 619]\n",
      " [  0 699]]\n",
      "recall=0.885\n",
      "precision=0.806\n",
      "accuracy=0.885\n",
      "confusion matrix is\n",
      "[[   1  143]\n",
      " [   8 1166]]\n",
      "recall=0.686\n",
      "precision=0.544\n",
      "accuracy=0.686\n",
      "confusion matrix is\n",
      "[[  2 407]\n",
      " [  7 902]]\n",
      "{'kernel': 1**2 * RBF(length_scale=1)}\n"
     ]
    },
    {
     "output_type": "error",
     "ename": "KeyboardInterrupt",
     "evalue": "",
     "traceback": [
      "\u001b[0;31m---------------------------------------------------------------------------\u001b[0m",
      "\u001b[0;31mKeyboardInterrupt\u001b[0m                         Traceback (most recent call last)",
      "\u001b[0;32m<ipython-input-13-cc88dcc522e3>\u001b[0m in \u001b[0;36m<module>\u001b[0;34m\u001b[0m\n\u001b[1;32m      1\u001b[0m \u001b[0;32mfor\u001b[0m \u001b[0mi\u001b[0m \u001b[0;32min\u001b[0m \u001b[0mclassifiers\u001b[0m\u001b[0;34m:\u001b[0m\u001b[0;34m\u001b[0m\u001b[0;34m\u001b[0m\u001b[0m\n\u001b[0;32m----> 2\u001b[0;31m     \u001b[0mcrossValidation\u001b[0m\u001b[0;34m(\u001b[0m\u001b[0mX\u001b[0m\u001b[0;34m,\u001b[0m\u001b[0mY\u001b[0m\u001b[0;34m,\u001b[0m\u001b[0;36m3\u001b[0m\u001b[0;34m,\u001b[0m\u001b[0mi\u001b[0m\u001b[0;34m[\u001b[0m\u001b[0;36m0\u001b[0m\u001b[0;34m]\u001b[0m\u001b[0;34m,\u001b[0m\u001b[0mi\u001b[0m\u001b[0;34m[\u001b[0m\u001b[0;36m1\u001b[0m\u001b[0;34m]\u001b[0m\u001b[0;34m)\u001b[0m\u001b[0;34m\u001b[0m\u001b[0;34m\u001b[0m\u001b[0m\n\u001b[0m",
      "\u001b[0;32m<ipython-input-12-8bbcc0a32beb>\u001b[0m in \u001b[0;36mcrossValidation\u001b[0;34m(X, y, n_splits, Model, params)\u001b[0m\n\u001b[1;32m      6\u001b[0m         \u001b[0my_train\u001b[0m\u001b[0;34m,\u001b[0m \u001b[0my_test\u001b[0m \u001b[0;34m=\u001b[0m \u001b[0my\u001b[0m\u001b[0;34m[\u001b[0m\u001b[0mtrain_index\u001b[0m\u001b[0;34m]\u001b[0m\u001b[0;34m,\u001b[0m \u001b[0my\u001b[0m\u001b[0;34m[\u001b[0m\u001b[0mtest_index\u001b[0m\u001b[0;34m]\u001b[0m\u001b[0;34m\u001b[0m\u001b[0;34m\u001b[0m\u001b[0m\n\u001b[1;32m      7\u001b[0m         \u001b[0mmodel\u001b[0m\u001b[0;34m=\u001b[0m\u001b[0mModel\u001b[0m\u001b[0;34m(\u001b[0m\u001b[0;34m**\u001b[0m\u001b[0mparams\u001b[0m\u001b[0;34m)\u001b[0m\u001b[0;34m\u001b[0m\u001b[0;34m\u001b[0m\u001b[0m\n\u001b[0;32m----> 8\u001b[0;31m         \u001b[0mmodel\u001b[0m\u001b[0;34m.\u001b[0m\u001b[0mfit\u001b[0m\u001b[0;34m(\u001b[0m\u001b[0mX_train\u001b[0m\u001b[0;34m,\u001b[0m\u001b[0my_train\u001b[0m\u001b[0;34m)\u001b[0m\u001b[0;34m\u001b[0m\u001b[0;34m\u001b[0m\u001b[0m\n\u001b[0m\u001b[1;32m      9\u001b[0m         \u001b[0mpred\u001b[0m\u001b[0;34m=\u001b[0m\u001b[0mmodel\u001b[0m\u001b[0;34m.\u001b[0m\u001b[0mpredict\u001b[0m\u001b[0;34m(\u001b[0m\u001b[0mX_test\u001b[0m\u001b[0;34m)\u001b[0m\u001b[0;34m\u001b[0m\u001b[0;34m\u001b[0m\u001b[0m\n\u001b[1;32m     10\u001b[0m         \u001b[0mprint\u001b[0m\u001b[0;34m(\u001b[0m\u001b[0;34m\"recall={:.3f}\"\u001b[0m\u001b[0;34m.\u001b[0m\u001b[0mformat\u001b[0m\u001b[0;34m(\u001b[0m\u001b[0mrecall_score\u001b[0m\u001b[0;34m(\u001b[0m\u001b[0my_test\u001b[0m\u001b[0;34m,\u001b[0m\u001b[0mpred\u001b[0m\u001b[0;34m,\u001b[0m\u001b[0maverage\u001b[0m\u001b[0;34m=\u001b[0m\u001b[0;34m'weighted'\u001b[0m\u001b[0;34m)\u001b[0m\u001b[0;34m)\u001b[0m\u001b[0;34m)\u001b[0m\u001b[0;34m\u001b[0m\u001b[0;34m\u001b[0m\u001b[0m\n",
      "\u001b[0;32m~/miniconda3/envs/torch_geo/lib/python3.8/site-packages/sklearn/gaussian_process/_gpc.py\u001b[0m in \u001b[0;36mfit\u001b[0;34m(self, X, y)\u001b[0m\n\u001b[1;32m    655\u001b[0m                                  % self.multi_class)\n\u001b[1;32m    656\u001b[0m \u001b[0;34m\u001b[0m\u001b[0m\n\u001b[0;32m--> 657\u001b[0;31m         \u001b[0mself\u001b[0m\u001b[0;34m.\u001b[0m\u001b[0mbase_estimator_\u001b[0m\u001b[0;34m.\u001b[0m\u001b[0mfit\u001b[0m\u001b[0;34m(\u001b[0m\u001b[0mX\u001b[0m\u001b[0;34m,\u001b[0m \u001b[0my\u001b[0m\u001b[0;34m)\u001b[0m\u001b[0;34m\u001b[0m\u001b[0;34m\u001b[0m\u001b[0m\n\u001b[0m\u001b[1;32m    658\u001b[0m \u001b[0;34m\u001b[0m\u001b[0m\n\u001b[1;32m    659\u001b[0m         \u001b[0;32mif\u001b[0m \u001b[0mself\u001b[0m\u001b[0;34m.\u001b[0m\u001b[0mn_classes_\u001b[0m \u001b[0;34m>\u001b[0m \u001b[0;36m2\u001b[0m\u001b[0;34m:\u001b[0m\u001b[0;34m\u001b[0m\u001b[0;34m\u001b[0m\u001b[0m\n",
      "\u001b[0;32m~/miniconda3/envs/torch_geo/lib/python3.8/site-packages/sklearn/gaussian_process/_gpc.py\u001b[0m in \u001b[0;36mfit\u001b[0;34m(self, X, y)\u001b[0m\n\u001b[1;32m    210\u001b[0m \u001b[0;34m\u001b[0m\u001b[0m\n\u001b[1;32m    211\u001b[0m             \u001b[0;31m# First optimize starting from theta specified in kernel\u001b[0m\u001b[0;34m\u001b[0m\u001b[0;34m\u001b[0m\u001b[0;34m\u001b[0m\u001b[0m\n\u001b[0;32m--> 212\u001b[0;31m             optima = [self._constrained_optimization(obj_func,\n\u001b[0m\u001b[1;32m    213\u001b[0m                                                      \u001b[0mself\u001b[0m\u001b[0;34m.\u001b[0m\u001b[0mkernel_\u001b[0m\u001b[0;34m.\u001b[0m\u001b[0mtheta\u001b[0m\u001b[0;34m,\u001b[0m\u001b[0;34m\u001b[0m\u001b[0;34m\u001b[0m\u001b[0m\n\u001b[1;32m    214\u001b[0m                                                      self.kernel_.bounds)]\n",
      "\u001b[0;32m~/miniconda3/envs/torch_geo/lib/python3.8/site-packages/sklearn/gaussian_process/_gpc.py\u001b[0m in \u001b[0;36m_constrained_optimization\u001b[0;34m(self, obj_func, initial_theta, bounds)\u001b[0m\n\u001b[1;32m    441\u001b[0m     \u001b[0;32mdef\u001b[0m \u001b[0m_constrained_optimization\u001b[0m\u001b[0;34m(\u001b[0m\u001b[0mself\u001b[0m\u001b[0;34m,\u001b[0m \u001b[0mobj_func\u001b[0m\u001b[0;34m,\u001b[0m \u001b[0minitial_theta\u001b[0m\u001b[0;34m,\u001b[0m \u001b[0mbounds\u001b[0m\u001b[0;34m)\u001b[0m\u001b[0;34m:\u001b[0m\u001b[0;34m\u001b[0m\u001b[0;34m\u001b[0m\u001b[0m\n\u001b[1;32m    442\u001b[0m         \u001b[0;32mif\u001b[0m \u001b[0mself\u001b[0m\u001b[0;34m.\u001b[0m\u001b[0moptimizer\u001b[0m \u001b[0;34m==\u001b[0m \u001b[0;34m\"fmin_l_bfgs_b\"\u001b[0m\u001b[0;34m:\u001b[0m\u001b[0;34m\u001b[0m\u001b[0;34m\u001b[0m\u001b[0m\n\u001b[0;32m--> 443\u001b[0;31m             opt_res = scipy.optimize.minimize(\n\u001b[0m\u001b[1;32m    444\u001b[0m                 \u001b[0mobj_func\u001b[0m\u001b[0;34m,\u001b[0m \u001b[0minitial_theta\u001b[0m\u001b[0;34m,\u001b[0m \u001b[0mmethod\u001b[0m\u001b[0;34m=\u001b[0m\u001b[0;34m\"L-BFGS-B\"\u001b[0m\u001b[0;34m,\u001b[0m \u001b[0mjac\u001b[0m\u001b[0;34m=\u001b[0m\u001b[0;32mTrue\u001b[0m\u001b[0;34m,\u001b[0m\u001b[0;34m\u001b[0m\u001b[0;34m\u001b[0m\u001b[0m\n\u001b[1;32m    445\u001b[0m                 bounds=bounds)\n",
      "\u001b[0;32m~/.local/lib/python3.8/site-packages/scipy/optimize/_minimize.py\u001b[0m in \u001b[0;36mminimize\u001b[0;34m(fun, x0, args, method, jac, hess, hessp, bounds, constraints, tol, callback, options)\u001b[0m\n\u001b[1;32m    615\u001b[0m                                   **options)\n\u001b[1;32m    616\u001b[0m     \u001b[0;32melif\u001b[0m \u001b[0mmeth\u001b[0m \u001b[0;34m==\u001b[0m \u001b[0;34m'l-bfgs-b'\u001b[0m\u001b[0;34m:\u001b[0m\u001b[0;34m\u001b[0m\u001b[0;34m\u001b[0m\u001b[0m\n\u001b[0;32m--> 617\u001b[0;31m         return _minimize_lbfgsb(fun, x0, args, jac, bounds,\n\u001b[0m\u001b[1;32m    618\u001b[0m                                 callback=callback, **options)\n\u001b[1;32m    619\u001b[0m     \u001b[0;32melif\u001b[0m \u001b[0mmeth\u001b[0m \u001b[0;34m==\u001b[0m \u001b[0;34m'tnc'\u001b[0m\u001b[0;34m:\u001b[0m\u001b[0;34m\u001b[0m\u001b[0;34m\u001b[0m\u001b[0m\n",
      "\u001b[0;32m~/.local/lib/python3.8/site-packages/scipy/optimize/lbfgsb.py\u001b[0m in \u001b[0;36m_minimize_lbfgsb\u001b[0;34m(fun, x0, args, jac, bounds, disp, maxcor, ftol, gtol, eps, maxfun, maxiter, iprint, callback, maxls, finite_diff_rel_step, **unknown_options)\u001b[0m\n\u001b[1;32m    358\u001b[0m             \u001b[0;31m# until the completion of the current minimization iteration.\u001b[0m\u001b[0;34m\u001b[0m\u001b[0;34m\u001b[0m\u001b[0;34m\u001b[0m\u001b[0m\n\u001b[1;32m    359\u001b[0m             \u001b[0;31m# Overwrite f and g:\u001b[0m\u001b[0;34m\u001b[0m\u001b[0;34m\u001b[0m\u001b[0;34m\u001b[0m\u001b[0m\n\u001b[0;32m--> 360\u001b[0;31m             \u001b[0mf\u001b[0m\u001b[0;34m,\u001b[0m \u001b[0mg\u001b[0m \u001b[0;34m=\u001b[0m \u001b[0mfunc_and_grad\u001b[0m\u001b[0;34m(\u001b[0m\u001b[0mx\u001b[0m\u001b[0;34m)\u001b[0m\u001b[0;34m\u001b[0m\u001b[0;34m\u001b[0m\u001b[0m\n\u001b[0m\u001b[1;32m    361\u001b[0m         \u001b[0;32melif\u001b[0m \u001b[0mtask_str\u001b[0m\u001b[0;34m.\u001b[0m\u001b[0mstartswith\u001b[0m\u001b[0;34m(\u001b[0m\u001b[0;34mb'NEW_X'\u001b[0m\u001b[0;34m)\u001b[0m\u001b[0;34m:\u001b[0m\u001b[0;34m\u001b[0m\u001b[0;34m\u001b[0m\u001b[0m\n\u001b[1;32m    362\u001b[0m             \u001b[0;31m# new iteration\u001b[0m\u001b[0;34m\u001b[0m\u001b[0;34m\u001b[0m\u001b[0;34m\u001b[0m\u001b[0m\n",
      "\u001b[0;32m~/.local/lib/python3.8/site-packages/scipy/optimize/_differentiable_functions.py\u001b[0m in \u001b[0;36mfun_and_grad\u001b[0;34m(self, x)\u001b[0m\n\u001b[1;32m    198\u001b[0m         \u001b[0;32mif\u001b[0m \u001b[0;32mnot\u001b[0m \u001b[0mnp\u001b[0m\u001b[0;34m.\u001b[0m\u001b[0marray_equal\u001b[0m\u001b[0;34m(\u001b[0m\u001b[0mx\u001b[0m\u001b[0;34m,\u001b[0m \u001b[0mself\u001b[0m\u001b[0;34m.\u001b[0m\u001b[0mx\u001b[0m\u001b[0;34m)\u001b[0m\u001b[0;34m:\u001b[0m\u001b[0;34m\u001b[0m\u001b[0;34m\u001b[0m\u001b[0m\n\u001b[1;32m    199\u001b[0m             \u001b[0mself\u001b[0m\u001b[0;34m.\u001b[0m\u001b[0m_update_x_impl\u001b[0m\u001b[0;34m(\u001b[0m\u001b[0mx\u001b[0m\u001b[0;34m)\u001b[0m\u001b[0;34m\u001b[0m\u001b[0;34m\u001b[0m\u001b[0m\n\u001b[0;32m--> 200\u001b[0;31m         \u001b[0mself\u001b[0m\u001b[0;34m.\u001b[0m\u001b[0m_update_fun\u001b[0m\u001b[0;34m(\u001b[0m\u001b[0;34m)\u001b[0m\u001b[0;34m\u001b[0m\u001b[0;34m\u001b[0m\u001b[0m\n\u001b[0m\u001b[1;32m    201\u001b[0m         \u001b[0mself\u001b[0m\u001b[0;34m.\u001b[0m\u001b[0m_update_grad\u001b[0m\u001b[0;34m(\u001b[0m\u001b[0;34m)\u001b[0m\u001b[0;34m\u001b[0m\u001b[0;34m\u001b[0m\u001b[0m\n\u001b[1;32m    202\u001b[0m         \u001b[0;32mreturn\u001b[0m \u001b[0mself\u001b[0m\u001b[0;34m.\u001b[0m\u001b[0mf\u001b[0m\u001b[0;34m,\u001b[0m \u001b[0mself\u001b[0m\u001b[0;34m.\u001b[0m\u001b[0mg\u001b[0m\u001b[0;34m\u001b[0m\u001b[0;34m\u001b[0m\u001b[0m\n",
      "\u001b[0;32m~/.local/lib/python3.8/site-packages/scipy/optimize/_differentiable_functions.py\u001b[0m in \u001b[0;36m_update_fun\u001b[0;34m(self)\u001b[0m\n\u001b[1;32m    164\u001b[0m     \u001b[0;32mdef\u001b[0m \u001b[0m_update_fun\u001b[0m\u001b[0;34m(\u001b[0m\u001b[0mself\u001b[0m\u001b[0;34m)\u001b[0m\u001b[0;34m:\u001b[0m\u001b[0;34m\u001b[0m\u001b[0;34m\u001b[0m\u001b[0m\n\u001b[1;32m    165\u001b[0m         \u001b[0;32mif\u001b[0m \u001b[0;32mnot\u001b[0m \u001b[0mself\u001b[0m\u001b[0;34m.\u001b[0m\u001b[0mf_updated\u001b[0m\u001b[0;34m:\u001b[0m\u001b[0;34m\u001b[0m\u001b[0;34m\u001b[0m\u001b[0m\n\u001b[0;32m--> 166\u001b[0;31m             \u001b[0mself\u001b[0m\u001b[0;34m.\u001b[0m\u001b[0m_update_fun_impl\u001b[0m\u001b[0;34m(\u001b[0m\u001b[0;34m)\u001b[0m\u001b[0;34m\u001b[0m\u001b[0;34m\u001b[0m\u001b[0m\n\u001b[0m\u001b[1;32m    167\u001b[0m             \u001b[0mself\u001b[0m\u001b[0;34m.\u001b[0m\u001b[0mf_updated\u001b[0m \u001b[0;34m=\u001b[0m \u001b[0;32mTrue\u001b[0m\u001b[0;34m\u001b[0m\u001b[0;34m\u001b[0m\u001b[0m\n\u001b[1;32m    168\u001b[0m \u001b[0;34m\u001b[0m\u001b[0m\n",
      "\u001b[0;32m~/.local/lib/python3.8/site-packages/scipy/optimize/_differentiable_functions.py\u001b[0m in \u001b[0;36mupdate_fun\u001b[0;34m()\u001b[0m\n\u001b[1;32m     71\u001b[0m \u001b[0;34m\u001b[0m\u001b[0m\n\u001b[1;32m     72\u001b[0m         \u001b[0;32mdef\u001b[0m \u001b[0mupdate_fun\u001b[0m\u001b[0;34m(\u001b[0m\u001b[0;34m)\u001b[0m\u001b[0;34m:\u001b[0m\u001b[0;34m\u001b[0m\u001b[0;34m\u001b[0m\u001b[0m\n\u001b[0;32m---> 73\u001b[0;31m             \u001b[0mself\u001b[0m\u001b[0;34m.\u001b[0m\u001b[0mf\u001b[0m \u001b[0;34m=\u001b[0m \u001b[0mfun_wrapped\u001b[0m\u001b[0;34m(\u001b[0m\u001b[0mself\u001b[0m\u001b[0;34m.\u001b[0m\u001b[0mx\u001b[0m\u001b[0;34m)\u001b[0m\u001b[0;34m\u001b[0m\u001b[0;34m\u001b[0m\u001b[0m\n\u001b[0m\u001b[1;32m     74\u001b[0m \u001b[0;34m\u001b[0m\u001b[0m\n\u001b[1;32m     75\u001b[0m         \u001b[0mself\u001b[0m\u001b[0;34m.\u001b[0m\u001b[0m_update_fun_impl\u001b[0m \u001b[0;34m=\u001b[0m \u001b[0mupdate_fun\u001b[0m\u001b[0;34m\u001b[0m\u001b[0;34m\u001b[0m\u001b[0m\n",
      "\u001b[0;32m~/.local/lib/python3.8/site-packages/scipy/optimize/_differentiable_functions.py\u001b[0m in \u001b[0;36mfun_wrapped\u001b[0;34m(x)\u001b[0m\n\u001b[1;32m     68\u001b[0m         \u001b[0;32mdef\u001b[0m \u001b[0mfun_wrapped\u001b[0m\u001b[0;34m(\u001b[0m\u001b[0mx\u001b[0m\u001b[0;34m)\u001b[0m\u001b[0;34m:\u001b[0m\u001b[0;34m\u001b[0m\u001b[0;34m\u001b[0m\u001b[0m\n\u001b[1;32m     69\u001b[0m             \u001b[0mself\u001b[0m\u001b[0;34m.\u001b[0m\u001b[0mnfev\u001b[0m \u001b[0;34m+=\u001b[0m \u001b[0;36m1\u001b[0m\u001b[0;34m\u001b[0m\u001b[0;34m\u001b[0m\u001b[0m\n\u001b[0;32m---> 70\u001b[0;31m             \u001b[0;32mreturn\u001b[0m \u001b[0mfun\u001b[0m\u001b[0;34m(\u001b[0m\u001b[0mx\u001b[0m\u001b[0;34m,\u001b[0m \u001b[0;34m*\u001b[0m\u001b[0margs\u001b[0m\u001b[0;34m)\u001b[0m\u001b[0;34m\u001b[0m\u001b[0;34m\u001b[0m\u001b[0m\n\u001b[0m\u001b[1;32m     71\u001b[0m \u001b[0;34m\u001b[0m\u001b[0m\n\u001b[1;32m     72\u001b[0m         \u001b[0;32mdef\u001b[0m \u001b[0mupdate_fun\u001b[0m\u001b[0;34m(\u001b[0m\u001b[0;34m)\u001b[0m\u001b[0;34m:\u001b[0m\u001b[0;34m\u001b[0m\u001b[0;34m\u001b[0m\u001b[0m\n",
      "\u001b[0;32m~/.local/lib/python3.8/site-packages/scipy/optimize/optimize.py\u001b[0m in \u001b[0;36m__call__\u001b[0;34m(self, x, *args)\u001b[0m\n\u001b[1;32m     72\u001b[0m     \u001b[0;32mdef\u001b[0m \u001b[0m__call__\u001b[0m\u001b[0;34m(\u001b[0m\u001b[0mself\u001b[0m\u001b[0;34m,\u001b[0m \u001b[0mx\u001b[0m\u001b[0;34m,\u001b[0m \u001b[0;34m*\u001b[0m\u001b[0margs\u001b[0m\u001b[0;34m)\u001b[0m\u001b[0;34m:\u001b[0m\u001b[0;34m\u001b[0m\u001b[0;34m\u001b[0m\u001b[0m\n\u001b[1;32m     73\u001b[0m         \u001b[0;34m\"\"\" returns the the function value \"\"\"\u001b[0m\u001b[0;34m\u001b[0m\u001b[0;34m\u001b[0m\u001b[0m\n\u001b[0;32m---> 74\u001b[0;31m         \u001b[0mself\u001b[0m\u001b[0;34m.\u001b[0m\u001b[0m_compute_if_needed\u001b[0m\u001b[0;34m(\u001b[0m\u001b[0mx\u001b[0m\u001b[0;34m,\u001b[0m \u001b[0;34m*\u001b[0m\u001b[0margs\u001b[0m\u001b[0;34m)\u001b[0m\u001b[0;34m\u001b[0m\u001b[0;34m\u001b[0m\u001b[0m\n\u001b[0m\u001b[1;32m     75\u001b[0m         \u001b[0;32mreturn\u001b[0m \u001b[0mself\u001b[0m\u001b[0;34m.\u001b[0m\u001b[0m_value\u001b[0m\u001b[0;34m\u001b[0m\u001b[0;34m\u001b[0m\u001b[0m\n\u001b[1;32m     76\u001b[0m \u001b[0;34m\u001b[0m\u001b[0m\n",
      "\u001b[0;32m~/.local/lib/python3.8/site-packages/scipy/optimize/optimize.py\u001b[0m in \u001b[0;36m_compute_if_needed\u001b[0;34m(self, x, *args)\u001b[0m\n\u001b[1;32m     66\u001b[0m         \u001b[0;32mif\u001b[0m \u001b[0;32mnot\u001b[0m \u001b[0mnp\u001b[0m\u001b[0;34m.\u001b[0m\u001b[0mall\u001b[0m\u001b[0;34m(\u001b[0m\u001b[0mx\u001b[0m \u001b[0;34m==\u001b[0m \u001b[0mself\u001b[0m\u001b[0;34m.\u001b[0m\u001b[0mx\u001b[0m\u001b[0;34m)\u001b[0m \u001b[0;32mor\u001b[0m \u001b[0mself\u001b[0m\u001b[0;34m.\u001b[0m\u001b[0m_value\u001b[0m \u001b[0;32mis\u001b[0m \u001b[0;32mNone\u001b[0m \u001b[0;32mor\u001b[0m \u001b[0mself\u001b[0m\u001b[0;34m.\u001b[0m\u001b[0mjac\u001b[0m \u001b[0;32mis\u001b[0m \u001b[0;32mNone\u001b[0m\u001b[0;34m:\u001b[0m\u001b[0;34m\u001b[0m\u001b[0;34m\u001b[0m\u001b[0m\n\u001b[1;32m     67\u001b[0m             \u001b[0mself\u001b[0m\u001b[0;34m.\u001b[0m\u001b[0mx\u001b[0m \u001b[0;34m=\u001b[0m \u001b[0mnp\u001b[0m\u001b[0;34m.\u001b[0m\u001b[0masarray\u001b[0m\u001b[0;34m(\u001b[0m\u001b[0mx\u001b[0m\u001b[0;34m)\u001b[0m\u001b[0;34m.\u001b[0m\u001b[0mcopy\u001b[0m\u001b[0;34m(\u001b[0m\u001b[0;34m)\u001b[0m\u001b[0;34m\u001b[0m\u001b[0;34m\u001b[0m\u001b[0m\n\u001b[0;32m---> 68\u001b[0;31m             \u001b[0mfg\u001b[0m \u001b[0;34m=\u001b[0m \u001b[0mself\u001b[0m\u001b[0;34m.\u001b[0m\u001b[0mfun\u001b[0m\u001b[0;34m(\u001b[0m\u001b[0mx\u001b[0m\u001b[0;34m,\u001b[0m \u001b[0;34m*\u001b[0m\u001b[0margs\u001b[0m\u001b[0;34m)\u001b[0m\u001b[0;34m\u001b[0m\u001b[0;34m\u001b[0m\u001b[0m\n\u001b[0m\u001b[1;32m     69\u001b[0m             \u001b[0mself\u001b[0m\u001b[0;34m.\u001b[0m\u001b[0mjac\u001b[0m \u001b[0;34m=\u001b[0m \u001b[0mfg\u001b[0m\u001b[0;34m[\u001b[0m\u001b[0;36m1\u001b[0m\u001b[0;34m]\u001b[0m\u001b[0;34m\u001b[0m\u001b[0;34m\u001b[0m\u001b[0m\n\u001b[1;32m     70\u001b[0m             \u001b[0mself\u001b[0m\u001b[0;34m.\u001b[0m\u001b[0m_value\u001b[0m \u001b[0;34m=\u001b[0m \u001b[0mfg\u001b[0m\u001b[0;34m[\u001b[0m\u001b[0;36m0\u001b[0m\u001b[0;34m]\u001b[0m\u001b[0;34m\u001b[0m\u001b[0;34m\u001b[0m\u001b[0m\n",
      "\u001b[0;32m~/miniconda3/envs/torch_geo/lib/python3.8/site-packages/sklearn/gaussian_process/_gpc.py\u001b[0m in \u001b[0;36mobj_func\u001b[0;34m(theta, eval_gradient)\u001b[0m\n\u001b[1;32m    202\u001b[0m             \u001b[0;32mdef\u001b[0m \u001b[0mobj_func\u001b[0m\u001b[0;34m(\u001b[0m\u001b[0mtheta\u001b[0m\u001b[0;34m,\u001b[0m \u001b[0meval_gradient\u001b[0m\u001b[0;34m=\u001b[0m\u001b[0;32mTrue\u001b[0m\u001b[0;34m)\u001b[0m\u001b[0;34m:\u001b[0m\u001b[0;34m\u001b[0m\u001b[0;34m\u001b[0m\u001b[0m\n\u001b[1;32m    203\u001b[0m                 \u001b[0;32mif\u001b[0m \u001b[0meval_gradient\u001b[0m\u001b[0;34m:\u001b[0m\u001b[0;34m\u001b[0m\u001b[0;34m\u001b[0m\u001b[0m\n\u001b[0;32m--> 204\u001b[0;31m                     lml, grad = self.log_marginal_likelihood(\n\u001b[0m\u001b[1;32m    205\u001b[0m                         theta, eval_gradient=True, clone_kernel=False)\n\u001b[1;32m    206\u001b[0m                     \u001b[0;32mreturn\u001b[0m \u001b[0;34m-\u001b[0m\u001b[0mlml\u001b[0m\u001b[0;34m,\u001b[0m \u001b[0;34m-\u001b[0m\u001b[0mgrad\u001b[0m\u001b[0;34m\u001b[0m\u001b[0;34m\u001b[0m\u001b[0m\n",
      "\u001b[0;32m~/miniconda3/envs/torch_geo/lib/python3.8/site-packages/sklearn/gaussian_process/_gpc.py\u001b[0m in \u001b[0;36mlog_marginal_likelihood\u001b[0;34m(self, theta, eval_gradient, clone_kernel)\u001b[0m\n\u001b[1;32m    369\u001b[0m         \u001b[0;31m# XXX: Get rid of the np.diag() in the next line\u001b[0m\u001b[0;34m\u001b[0m\u001b[0;34m\u001b[0m\u001b[0;34m\u001b[0m\u001b[0m\n\u001b[1;32m    370\u001b[0m         \u001b[0mR\u001b[0m \u001b[0;34m=\u001b[0m \u001b[0mW_sr\u001b[0m\u001b[0;34m[\u001b[0m\u001b[0;34m:\u001b[0m\u001b[0;34m,\u001b[0m \u001b[0mnp\u001b[0m\u001b[0;34m.\u001b[0m\u001b[0mnewaxis\u001b[0m\u001b[0;34m]\u001b[0m \u001b[0;34m*\u001b[0m \u001b[0mcho_solve\u001b[0m\u001b[0;34m(\u001b[0m\u001b[0;34m(\u001b[0m\u001b[0mL\u001b[0m\u001b[0;34m,\u001b[0m \u001b[0;32mTrue\u001b[0m\u001b[0;34m)\u001b[0m\u001b[0;34m,\u001b[0m \u001b[0mnp\u001b[0m\u001b[0;34m.\u001b[0m\u001b[0mdiag\u001b[0m\u001b[0;34m(\u001b[0m\u001b[0mW_sr\u001b[0m\u001b[0;34m)\u001b[0m\u001b[0;34m)\u001b[0m  \u001b[0;31m# Line 7\u001b[0m\u001b[0;34m\u001b[0m\u001b[0;34m\u001b[0m\u001b[0m\n\u001b[0;32m--> 371\u001b[0;31m         \u001b[0mC\u001b[0m \u001b[0;34m=\u001b[0m \u001b[0msolve\u001b[0m\u001b[0;34m(\u001b[0m\u001b[0mL\u001b[0m\u001b[0;34m,\u001b[0m \u001b[0mW_sr\u001b[0m\u001b[0;34m[\u001b[0m\u001b[0;34m:\u001b[0m\u001b[0;34m,\u001b[0m \u001b[0mnp\u001b[0m\u001b[0;34m.\u001b[0m\u001b[0mnewaxis\u001b[0m\u001b[0;34m]\u001b[0m \u001b[0;34m*\u001b[0m \u001b[0mK\u001b[0m\u001b[0;34m)\u001b[0m  \u001b[0;31m# Line 8\u001b[0m\u001b[0;34m\u001b[0m\u001b[0;34m\u001b[0m\u001b[0m\n\u001b[0m\u001b[1;32m    372\u001b[0m         \u001b[0;31m# Line 9: (use einsum to compute np.diag(C.T.dot(C))))\u001b[0m\u001b[0;34m\u001b[0m\u001b[0;34m\u001b[0m\u001b[0;34m\u001b[0m\u001b[0m\n\u001b[1;32m    373\u001b[0m         \u001b[0ms_2\u001b[0m \u001b[0;34m=\u001b[0m \u001b[0;34m-\u001b[0m\u001b[0;36m0.5\u001b[0m \u001b[0;34m*\u001b[0m \u001b[0;34m(\u001b[0m\u001b[0mnp\u001b[0m\u001b[0;34m.\u001b[0m\u001b[0mdiag\u001b[0m\u001b[0;34m(\u001b[0m\u001b[0mK\u001b[0m\u001b[0;34m)\u001b[0m \u001b[0;34m-\u001b[0m \u001b[0mnp\u001b[0m\u001b[0;34m.\u001b[0m\u001b[0meinsum\u001b[0m\u001b[0;34m(\u001b[0m\u001b[0;34m'ij, ij -> j'\u001b[0m\u001b[0;34m,\u001b[0m \u001b[0mC\u001b[0m\u001b[0;34m,\u001b[0m \u001b[0mC\u001b[0m\u001b[0;34m)\u001b[0m\u001b[0;34m)\u001b[0m\u001b[0;31m \u001b[0m\u001b[0;31m\\\u001b[0m\u001b[0;34m\u001b[0m\u001b[0;34m\u001b[0m\u001b[0m\n",
      "\u001b[0;32m~/.local/lib/python3.8/site-packages/scipy/linalg/basic.py\u001b[0m in \u001b[0;36msolve\u001b[0;34m(a, b, sym_pos, lower, overwrite_a, overwrite_b, debug, check_finite, assume_a, transposed)\u001b[0m\n\u001b[1;32m    211\u001b[0m         gecon, getrf, getrs = get_lapack_funcs(('gecon', 'getrf', 'getrs'),\n\u001b[1;32m    212\u001b[0m                                                (a1, b1))\n\u001b[0;32m--> 213\u001b[0;31m         \u001b[0mlu\u001b[0m\u001b[0;34m,\u001b[0m \u001b[0mipvt\u001b[0m\u001b[0;34m,\u001b[0m \u001b[0minfo\u001b[0m \u001b[0;34m=\u001b[0m \u001b[0mgetrf\u001b[0m\u001b[0;34m(\u001b[0m\u001b[0ma1\u001b[0m\u001b[0;34m,\u001b[0m \u001b[0moverwrite_a\u001b[0m\u001b[0;34m=\u001b[0m\u001b[0moverwrite_a\u001b[0m\u001b[0;34m)\u001b[0m\u001b[0;34m\u001b[0m\u001b[0;34m\u001b[0m\u001b[0m\n\u001b[0m\u001b[1;32m    214\u001b[0m         \u001b[0m_solve_check\u001b[0m\u001b[0;34m(\u001b[0m\u001b[0mn\u001b[0m\u001b[0;34m,\u001b[0m \u001b[0minfo\u001b[0m\u001b[0;34m)\u001b[0m\u001b[0;34m\u001b[0m\u001b[0;34m\u001b[0m\u001b[0m\n\u001b[1;32m    215\u001b[0m         x, info = getrs(lu, ipvt, b1,\n",
      "\u001b[0;31mKeyboardInterrupt\u001b[0m: "
     ]
    }
   ],
   "source": [
    "for i in classifiers:\n",
    "    crossValidation(X,Y,3,i[0],i[1])"
   ]
  },
  {
   "source": [
    "文献中使用的svm https://github.com/rlphilli/sklearn-PUK-kernel/blob/master/PUK_kernel.py\n",
    "\n",
    "以下函数是文献中使用的svm核，效果不如RBF核"
   ],
   "cell_type": "markdown",
   "metadata": {}
  },
  {
   "cell_type": "code",
   "execution_count": 34,
   "metadata": {},
   "outputs": [],
   "source": [
    "from scipy.spatial.distance import pdist, cdist\n",
    "from scipy.spatial.distance import squareform\n",
    "\n",
    "def PUK_kernel(X1,X2, sigma=1.0, omega=1.0):\n",
    "    # Compute the kernel matrix between two arrays using the Pearson VII function-based universal kernel.\n",
    "    \n",
    "    # Compute squared euclidean distance between each row element pair of the two matrices\n",
    "    if X1 is X2 :\n",
    "        kernel = squareform(pdist(X1, 'sqeuclidean'))\n",
    "    else:\n",
    "        kernel = cdist(X1, X2, 'sqeuclidean')\n",
    "\n",
    "    kernel = (1 + (kernel * 4 * np.sqrt(2**(1.0/omega)-1)) / sigma**2) ** omega\n",
    "    kernel = 1/kernel\n",
    "\n",
    "    return kernel"
   ]
  },
  {
   "source": [
    "很糟，train,testset差别太大"
   ],
   "cell_type": "markdown",
   "metadata": {}
  },
  {
   "cell_type": "code",
   "execution_count": 10,
   "metadata": {},
   "outputs": [
    {
     "output_type": "stream",
     "name": "stdout",
     "text": [
      "{'class_weight': 'balanced', 'C': 1}\n",
      "recall=0.862\n",
      "precision=0.887\n",
      "accuracy=0.862\n",
      "confusion matrix is\n",
      "[[ 471   82]\n",
      " [ 281 1802]]\n",
      "recall=0.554\n",
      "precision=0.567\n",
      "accuracy=0.554\n",
      "confusion matrix is\n",
      "[[108 512]\n",
      " [ 76 623]]\n",
      "recall=0.846\n",
      "precision=0.857\n",
      "accuracy=0.846\n",
      "confusion matrix is\n",
      "[[ 914  115]\n",
      " [ 291 1317]]\n",
      "recall=0.646\n",
      "precision=0.819\n",
      "accuracy=0.646\n",
      "confusion matrix is\n",
      "[[ 59  85]\n",
      " [381 793]]\n",
      "recall=0.848\n",
      "precision=0.857\n",
      "accuracy=0.848\n",
      "confusion matrix is\n",
      "[[ 621  143]\n",
      " [ 257 1616]]\n",
      "recall=0.581\n",
      "precision=0.597\n",
      "accuracy=0.581\n",
      "confusion matrix is\n",
      "[[162 247]\n",
      " [305 604]]\n"
     ]
    }
   ],
   "source": [
    "crossValidation(X,Y,3,SVC,{\"class_weight\":\"balanced\",\"C\":1})# \"kernel\":PUK_kernel,\"C\":0.1"
   ]
  },
  {
   "source": [
    "将相同反应物的反应聚在一起再shuffle，达到了原文献的效果"
   ],
   "cell_type": "markdown",
   "metadata": {}
  },
  {
   "cell_type": "code",
   "execution_count": null,
   "metadata": {},
   "outputs": [],
   "source": [
    "reactantCombination=[[0]]\n",
    "for i in range(1,len(rawX)):\n",
    "    if((rawX.loc[i-1,[\"XXXinorg1\",\"XXXinorg2\",\"XXXinorg3\",\"XXXorg1\",\"XXXorg2\"]]==rawX.loc[i,[\"XXXinorg1\",\"XXXinorg2\",\"XXXinorg3\",\"XXXorg1\",\"XXXorg2\"]]).all()):\n",
    "        reactantCombination[-1].append(i)\n",
    "    else:\n",
    "        reactantCombination.append([i])"
   ]
  },
  {
   "cell_type": "code",
   "execution_count": 56,
   "metadata": {},
   "outputs": [],
   "source": [
    "def CV_author(X,Y,n_splits,Model,params,shuffle=True):\n",
    "    scaler = StandardScaler()\n",
    "    X_std = scaler.fit_transform(X)\n",
    "    kf=KFold(n_splits=n_splits,shuffle=shuffle)\n",
    "    print(params)\n",
    "    for train_index_rc, test_index_rc in kf.split(reactantCombination):\n",
    "        train_index=[i for rc  in train_index_rc  for i in reactantCombination[rc] ]\n",
    "        test_index=[i for rc  in test_index_rc  for i in reactantCombination[rc]]\n",
    "        X_train, X_test = X_std[train_index], X_std[test_index]\n",
    "        Y_train, Y_test = Y[train_index], Y[test_index]\n",
    "        model=Model(**params)\n",
    "        model.fit(X_train,Y_train)\n",
    "        \n",
    "        pred=model.predict(X_test)\n",
    "        Y_test=numout2boolout(Y_test)\n",
    "        pred=numout2boolout(pred)\n",
    "        print(\"recall={:.3f}\".format(recall_score(Y_test,pred,average='weighted')))\n",
    "        print(\"precision={:.3f}\".format(precision_score(Y_test,pred,average=\"weighted\")))\n",
    "        print(\"accuracy={:.3f}\".format(accuracy_score(Y_test,pred)))\n",
    "        print(\"confusion matrix is\")\n",
    "        print(confusion_matrix(Y_test,pred))"
   ]
  },
  {
   "cell_type": "code",
   "execution_count": 57,
   "metadata": {},
   "outputs": [
    {
     "output_type": "stream",
     "name": "stdout",
     "text": [
      "{'kernel': <function PUK_kernel at 0x7f9310cff430>, 'class_weight': 'balanced', 'C': 1}\n",
      "recall=0.763\n",
      "precision=0.784\n",
      "accuracy=0.763\n",
      "confusion matrix is\n",
      "[[ 97 296]\n",
      " [ 17 913]]\n",
      "recall=0.772\n",
      "precision=0.780\n",
      "accuracy=0.772\n",
      "confusion matrix is\n",
      "[[ 94 279]\n",
      " [ 22 927]]\n",
      "recall=0.730\n",
      "precision=0.769\n",
      "accuracy=0.730\n",
      "confusion matrix is\n",
      "[[ 62 345]\n",
      " [  9 894]]\n"
     ]
    }
   ],
   "source": [
    "CV_author(X,Y,3,SVC,{\"kernel\":PUK_kernel,\"class_weight\":\"balanced\",\"C\":1})"
   ]
  },
  {
   "source": [
    "对测试集的测试"
   ],
   "cell_type": "markdown",
   "metadata": {}
  },
  {
   "cell_type": "code",
   "execution_count": 60,
   "metadata": {},
   "outputs": [
    {
     "output_type": "stream",
     "name": "stdout",
     "text": [
      "0.8152173913043478\n"
     ]
    }
   ],
   "source": [
    "model=SVC(kernel=PUK_kernel,class_weight=\"balanced\",C=1)\n",
    "model.fit(X,Y)\n",
    "pred=model.predict(x)\n",
    "print(precision_score(numout2boolout(y),numout2boolout(pred)))"
   ]
  },
  {
   "source": [
    "将模型解释为决策树, 使用sklearn.tree.plot_tree进行可视化"
   ],
   "cell_type": "markdown",
   "metadata": {}
  },
  {
   "cell_type": "code",
   "execution_count": 74,
   "metadata": {},
   "outputs": [],
   "source": [
    "def reinterpret(X_model,model,X_tree):\n",
    "    pred=model.predict(X_model)\n",
    "    ret=DecisionTreeClassifier()\n",
    "    ret.fit(X_tree,pred)\n",
    "    return ret\n",
    "    "
   ]
  },
  {
   "cell_type": "code",
   "execution_count": null,
   "metadata": {},
   "outputs": [],
   "source": [
    "def in_tree_X_mask(s):\n",
    "    for i in [\"orgvanderwaals\",\"orgASA+\",\"orghbdamsdon\",\"PaulingElectronegMean\", \"hardnessMeanWeighted\", \"AtomicRadiusMeanWeighted\"]:\n",
    "        if i in s:\n",
    "            return 1\n",
    "    return 0"
   ]
  },
  {
   "cell_type": "code",
   "execution_count": null,
   "metadata": {},
   "outputs": [],
   "source": [
    "tree_X_mask=[i for i in range(len(X_featureName)) if in_tree_X_mask(X_featureName[i])]\n"
   ]
  },
  {
   "cell_type": "code",
   "execution_count": 76,
   "metadata": {},
   "outputs": [],
   "source": [
    "tree=reinterpret(X,model,X[:,tree_X_mask])"
   ]
  },
  {
   "cell_type": "code",
   "execution_count": 78,
   "metadata": {},
   "outputs": [
    {
     "output_type": "execute_result",
     "data": {
      "text/plain": [
       "[Text(167.4, 190.26, 'purity <= 0.5\\ngini = 0.708\\nsamples = 3955\\nvalue = [657, 532, 1493, 1273]'),\n",
       " Text(83.7, 135.9, 'XXXinorg1 <= 0.5\\ngini = 0.093\\nsamples = 499\\nvalue = [475, 10, 5, 9]'),\n",
       " Text(41.85, 81.53999999999999, 'XXXinorg1mass <= 1.136\\ngini = 0.025\\nsamples = 481\\nvalue = [475, 2, 1, 3]'),\n",
       " Text(20.925, 27.180000000000007, '\\n  (...)  \\n'),\n",
       " Text(62.775000000000006, 27.180000000000007, '\\n  (...)  \\n'),\n",
       " Text(125.55000000000001, 81.53999999999999, 'pH <= 4.5\\ngini = 0.642\\nsamples = 18\\nvalue = [0, 8, 4, 6]'),\n",
       " Text(104.625, 27.180000000000007, '\\n  (...)  \\n'),\n",
       " Text(146.475, 27.180000000000007, '\\n  (...)  \\n'),\n",
       " Text(251.10000000000002, 135.9, 'XXXoxlike1mass <= 0.199\\ngini = 0.655\\nsamples = 3456\\nvalue = [182, 522, 1488, 1264]'),\n",
       " Text(209.25, 81.53999999999999, 'hardnessMinWeighted <= 0.098\\ngini = 0.642\\nsamples = 3327\\nvalue = [104, 514, 1457, 1252]'),\n",
       " Text(188.32500000000002, 27.180000000000007, '\\n  (...)  \\n'),\n",
       " Text(230.175, 27.180000000000007, '\\n  (...)  \\n'),\n",
       " Text(292.95, 81.53999999999999, 'orgmaximalprojectionareaMin <= 35.49\\ngini = 0.564\\nsamples = 129\\nvalue = [78, 8, 31, 12]'),\n",
       " Text(272.02500000000003, 27.180000000000007, '\\n  (...)  \\n'),\n",
       " Text(313.875, 27.180000000000007, '\\n  (...)  \\n')]"
      ]
     },
     "metadata": {},
     "execution_count": 78
    },
    {
     "output_type": "display_data",
     "data": {
      "text/plain": "<Figure size 432x288 with 1 Axes>",
      "image/svg+xml": "<?xml version=\"1.0\" encoding=\"utf-8\" standalone=\"no\"?>\n<!DOCTYPE svg PUBLIC \"-//W3C//DTD SVG 1.1//EN\"\n  \"http://www.w3.org/Graphics/SVG/1.1/DTD/svg11.dtd\">\n<!-- Created with matplotlib (https://matplotlib.org/) -->\n<svg height=\"231.84pt\" version=\"1.1\" viewBox=\"0 0 349.2 231.84\" width=\"349.2pt\" xmlns=\"http://www.w3.org/2000/svg\" xmlns:xlink=\"http://www.w3.org/1999/xlink\">\n <metadata>\n  <rdf:RDF xmlns:cc=\"http://creativecommons.org/ns#\" xmlns:dc=\"http://purl.org/dc/elements/1.1/\" xmlns:rdf=\"http://www.w3.org/1999/02/22-rdf-syntax-ns#\">\n   <cc:Work>\n    <dc:type rdf:resource=\"http://purl.org/dc/dcmitype/StillImage\"/>\n    <dc:date>2020-12-29T23:26:05.931058</dc:date>\n    <dc:format>image/svg+xml</dc:format>\n    <dc:creator>\n     <cc:Agent>\n      <dc:title>Matplotlib v3.3.1, https://matplotlib.org/</dc:title>\n     </cc:Agent>\n    </dc:creator>\n   </cc:Work>\n  </rdf:RDF>\n </metadata>\n <defs>\n  <style type=\"text/css\">*{stroke-linecap:butt;stroke-linejoin:round;}</style>\n </defs>\n <g id=\"figure_1\">\n  <g id=\"patch_1\">\n   <path d=\"M 0 231.84 \nL 349.2 231.84 \nL 349.2 0 \nL 0 0 \nz\n\" style=\"fill:none;\"/>\n  </g>\n  <g id=\"axes_1\">\n   <g id=\"patch_2\">\n    <path d=\"M 30.982721 190.036072 \nQ 39.45651 168.022443 48.33194 144.965413 \n\" style=\"fill:none;stroke:#000000;stroke-linecap:round;\"/>\n    <path d=\"M 31.644992 189.431726 \nL 30.982721 190.036072 \nL 30.896607 189.143647 \n\" style=\"fill:none;stroke:#000000;stroke-linecap:round;\"/>\n   </g>\n   <g id=\"text_1\">\n    <g id=\"patch_3\">\n     <path d=\"M 24.310886 201.476974 \nL 31.939114 201.476974 \nL 31.939114 193.443026 \nL 24.310886 193.443026 \nz\n\" style=\"fill:#808080;stroke:#000000;stroke-linejoin:miter;\"/>\n    </g>\n    <!--  -->\n    <g transform=\"translate(28.125 195.76827)scale(0.020048 -0.020048)\"/>\n    <!--   (...)   -->\n    <g transform=\"translate(25.112802 198.013197)scale(0.020048 -0.020048)\">\n     <defs>\n      <path id=\"DejaVuSans-32\"/>\n      <path d=\"M 31 75.875 \nQ 24.46875 64.65625 21.28125 53.65625 \nQ 18.109375 42.671875 18.109375 31.390625 \nQ 18.109375 20.125 21.3125 9.0625 \nQ 24.515625 -2 31 -13.1875 \nL 23.1875 -13.1875 \nQ 15.875 -1.703125 12.234375 9.375 \nQ 8.59375 20.453125 8.59375 31.390625 \nQ 8.59375 42.28125 12.203125 53.3125 \nQ 15.828125 64.359375 23.1875 75.875 \nz\n\" id=\"DejaVuSans-40\"/>\n      <path d=\"M 10.6875 12.40625 \nL 21 12.40625 \nL 21 0 \nL 10.6875 0 \nz\n\" id=\"DejaVuSans-46\"/>\n      <path d=\"M 8.015625 75.875 \nL 15.828125 75.875 \nQ 23.140625 64.359375 26.78125 53.3125 \nQ 30.421875 42.28125 30.421875 31.390625 \nQ 30.421875 20.453125 26.78125 9.375 \nQ 23.140625 -1.703125 15.828125 -13.1875 \nL 8.015625 -13.1875 \nQ 14.5 -2 17.703125 9.0625 \nQ 20.90625 20.125 20.90625 31.390625 \nQ 20.90625 42.671875 17.703125 53.65625 \nQ 14.5 64.65625 8.015625 75.875 \nz\n\" id=\"DejaVuSans-41\"/>\n     </defs>\n     <use xlink:href=\"#DejaVuSans-32\"/>\n     <use x=\"31.787109\" xlink:href=\"#DejaVuSans-32\"/>\n     <use x=\"63.574219\" xlink:href=\"#DejaVuSans-40\"/>\n     <use x=\"102.587891\" xlink:href=\"#DejaVuSans-46\"/>\n     <use x=\"134.375\" xlink:href=\"#DejaVuSans-46\"/>\n     <use x=\"166.162109\" xlink:href=\"#DejaVuSans-46\"/>\n     <use x=\"197.949219\" xlink:href=\"#DejaVuSans-41\"/>\n     <use x=\"236.962891\" xlink:href=\"#DejaVuSans-32\"/>\n     <use x=\"268.75\" xlink:href=\"#DejaVuSans-32\"/>\n    </g>\n    <!--  -->\n    <g transform=\"translate(28.125 200.258124)scale(0.020048 -0.020048)\"/>\n   </g>\n   <g id=\"patch_4\">\n    <path d=\"M 67.117279 190.036072 \nQ 58.64349 168.022443 49.76806 144.965413 \n\" style=\"fill:none;stroke:#000000;stroke-linecap:round;\"/>\n    <path d=\"M 67.203393 189.143647 \nL 67.117279 190.036072 \nL 66.455008 189.431726 \n\" style=\"fill:none;stroke:#000000;stroke-linecap:round;\"/>\n   </g>\n   <g id=\"text_2\">\n    <g id=\"patch_5\">\n     <path d=\"M 66.160886 201.476974 \nL 73.789114 201.476974 \nL 73.789114 193.443026 \nL 66.160886 193.443026 \nz\n\" style=\"fill:#808080;stroke:#000000;stroke-linejoin:miter;\"/>\n    </g>\n    <!--  -->\n    <g transform=\"translate(69.975 195.76827)scale(0.020048 -0.020048)\"/>\n    <!--   (...)   -->\n    <g transform=\"translate(66.962802 198.013197)scale(0.020048 -0.020048)\">\n     <use xlink:href=\"#DejaVuSans-32\"/>\n     <use x=\"31.787109\" xlink:href=\"#DejaVuSans-32\"/>\n     <use x=\"63.574219\" xlink:href=\"#DejaVuSans-40\"/>\n     <use x=\"102.587891\" xlink:href=\"#DejaVuSans-46\"/>\n     <use x=\"134.375\" xlink:href=\"#DejaVuSans-46\"/>\n     <use x=\"166.162109\" xlink:href=\"#DejaVuSans-46\"/>\n     <use x=\"197.949219\" xlink:href=\"#DejaVuSans-41\"/>\n     <use x=\"236.962891\" xlink:href=\"#DejaVuSans-32\"/>\n     <use x=\"268.75\" xlink:href=\"#DejaVuSans-32\"/>\n    </g>\n    <!--  -->\n    <g transform=\"translate(69.975 200.258124)scale(0.020048 -0.020048)\"/>\n   </g>\n   <g id=\"patch_6\">\n    <path d=\"M 114.682721 190.036072 \nQ 123.15651 168.022443 132.03194 144.965413 \n\" style=\"fill:none;stroke:#000000;stroke-linecap:round;\"/>\n    <path d=\"M 115.344992 189.431726 \nL 114.682721 190.036072 \nL 114.596607 189.143647 \n\" style=\"fill:none;stroke:#000000;stroke-linecap:round;\"/>\n   </g>\n   <g id=\"text_3\">\n    <g id=\"patch_7\">\n     <path d=\"M 108.010886 201.476974 \nL 115.639114 201.476974 \nL 115.639114 193.443026 \nL 108.010886 193.443026 \nz\n\" style=\"fill:#808080;stroke:#000000;stroke-linejoin:miter;\"/>\n    </g>\n    <!--  -->\n    <g transform=\"translate(111.825 195.76827)scale(0.020048 -0.020048)\"/>\n    <!--   (...)   -->\n    <g transform=\"translate(108.812802 198.013197)scale(0.020048 -0.020048)\">\n     <use xlink:href=\"#DejaVuSans-32\"/>\n     <use x=\"31.787109\" xlink:href=\"#DejaVuSans-32\"/>\n     <use x=\"63.574219\" xlink:href=\"#DejaVuSans-40\"/>\n     <use x=\"102.587891\" xlink:href=\"#DejaVuSans-46\"/>\n     <use x=\"134.375\" xlink:href=\"#DejaVuSans-46\"/>\n     <use x=\"166.162109\" xlink:href=\"#DejaVuSans-46\"/>\n     <use x=\"197.949219\" xlink:href=\"#DejaVuSans-41\"/>\n     <use x=\"236.962891\" xlink:href=\"#DejaVuSans-32\"/>\n     <use x=\"268.75\" xlink:href=\"#DejaVuSans-32\"/>\n    </g>\n    <!--  -->\n    <g transform=\"translate(111.825 200.258124)scale(0.020048 -0.020048)\"/>\n   </g>\n   <g id=\"patch_8\">\n    <path d=\"M 150.817279 190.036072 \nQ 142.34349 168.022443 133.46806 144.965413 \n\" style=\"fill:none;stroke:#000000;stroke-linecap:round;\"/>\n    <path d=\"M 150.903393 189.143647 \nL 150.817279 190.036072 \nL 150.155008 189.431726 \n\" style=\"fill:none;stroke:#000000;stroke-linecap:round;\"/>\n   </g>\n   <g id=\"text_4\">\n    <g id=\"patch_9\">\n     <path d=\"M 149.860886 201.476974 \nL 157.489114 201.476974 \nL 157.489114 193.443026 \nL 149.860886 193.443026 \nz\n\" style=\"fill:#808080;stroke:#000000;stroke-linejoin:miter;\"/>\n    </g>\n    <!--  -->\n    <g transform=\"translate(153.675 195.76827)scale(0.020048 -0.020048)\"/>\n    <!--   (...)   -->\n    <g transform=\"translate(150.662802 198.013197)scale(0.020048 -0.020048)\">\n     <use xlink:href=\"#DejaVuSans-32\"/>\n     <use x=\"31.787109\" xlink:href=\"#DejaVuSans-32\"/>\n     <use x=\"63.574219\" xlink:href=\"#DejaVuSans-40\"/>\n     <use x=\"102.587891\" xlink:href=\"#DejaVuSans-46\"/>\n     <use x=\"134.375\" xlink:href=\"#DejaVuSans-46\"/>\n     <use x=\"166.162109\" xlink:href=\"#DejaVuSans-46\"/>\n     <use x=\"197.949219\" xlink:href=\"#DejaVuSans-41\"/>\n     <use x=\"236.962891\" xlink:href=\"#DejaVuSans-32\"/>\n     <use x=\"268.75\" xlink:href=\"#DejaVuSans-32\"/>\n    </g>\n    <!--  -->\n    <g transform=\"translate(153.675 200.258124)scale(0.020048 -0.020048)\"/>\n   </g>\n   <g id=\"patch_10\">\n    <path d=\"M 198.382721 190.036072 \nQ 206.85651 168.022443 215.73194 144.965413 \n\" style=\"fill:none;stroke:#000000;stroke-linecap:round;\"/>\n    <path d=\"M 199.044992 189.431726 \nL 198.382721 190.036072 \nL 198.296607 189.143647 \n\" style=\"fill:none;stroke:#000000;stroke-linecap:round;\"/>\n   </g>\n   <g id=\"text_5\">\n    <g id=\"patch_11\">\n     <path d=\"M 191.710886 201.476974 \nL 199.339114 201.476974 \nL 199.339114 193.443026 \nL 191.710886 193.443026 \nz\n\" style=\"fill:#808080;stroke:#000000;stroke-linejoin:miter;\"/>\n    </g>\n    <!--  -->\n    <g transform=\"translate(195.525 195.76827)scale(0.020048 -0.020048)\"/>\n    <!--   (...)   -->\n    <g transform=\"translate(192.512802 198.013197)scale(0.020048 -0.020048)\">\n     <use xlink:href=\"#DejaVuSans-32\"/>\n     <use x=\"31.787109\" xlink:href=\"#DejaVuSans-32\"/>\n     <use x=\"63.574219\" xlink:href=\"#DejaVuSans-40\"/>\n     <use x=\"102.587891\" xlink:href=\"#DejaVuSans-46\"/>\n     <use x=\"134.375\" xlink:href=\"#DejaVuSans-46\"/>\n     <use x=\"166.162109\" xlink:href=\"#DejaVuSans-46\"/>\n     <use x=\"197.949219\" xlink:href=\"#DejaVuSans-41\"/>\n     <use x=\"236.962891\" xlink:href=\"#DejaVuSans-32\"/>\n     <use x=\"268.75\" xlink:href=\"#DejaVuSans-32\"/>\n    </g>\n    <!--  -->\n    <g transform=\"translate(195.525 200.258124)scale(0.020048 -0.020048)\"/>\n   </g>\n   <g id=\"patch_12\">\n    <path d=\"M 234.517279 190.036072 \nQ 226.04349 168.022443 217.16806 144.965413 \n\" style=\"fill:none;stroke:#000000;stroke-linecap:round;\"/>\n    <path d=\"M 234.603393 189.143647 \nL 234.517279 190.036072 \nL 233.855008 189.431726 \n\" style=\"fill:none;stroke:#000000;stroke-linecap:round;\"/>\n   </g>\n   <g id=\"text_6\">\n    <g id=\"patch_13\">\n     <path d=\"M 233.560886 201.476974 \nL 241.189114 201.476974 \nL 241.189114 193.443026 \nL 233.560886 193.443026 \nz\n\" style=\"fill:#808080;stroke:#000000;stroke-linejoin:miter;\"/>\n    </g>\n    <!--  -->\n    <g transform=\"translate(237.375 195.76827)scale(0.020048 -0.020048)\"/>\n    <!--   (...)   -->\n    <g transform=\"translate(234.362802 198.013197)scale(0.020048 -0.020048)\">\n     <use xlink:href=\"#DejaVuSans-32\"/>\n     <use x=\"31.787109\" xlink:href=\"#DejaVuSans-32\"/>\n     <use x=\"63.574219\" xlink:href=\"#DejaVuSans-40\"/>\n     <use x=\"102.587891\" xlink:href=\"#DejaVuSans-46\"/>\n     <use x=\"134.375\" xlink:href=\"#DejaVuSans-46\"/>\n     <use x=\"166.162109\" xlink:href=\"#DejaVuSans-46\"/>\n     <use x=\"197.949219\" xlink:href=\"#DejaVuSans-41\"/>\n     <use x=\"236.962891\" xlink:href=\"#DejaVuSans-32\"/>\n     <use x=\"268.75\" xlink:href=\"#DejaVuSans-32\"/>\n    </g>\n    <!--  -->\n    <g transform=\"translate(237.375 200.258124)scale(0.020048 -0.020048)\"/>\n   </g>\n   <g id=\"patch_14\">\n    <path d=\"M 282.082721 190.036072 \nQ 290.55651 168.022443 299.43194 144.965413 \n\" style=\"fill:none;stroke:#000000;stroke-linecap:round;\"/>\n    <path d=\"M 282.744992 189.431726 \nL 282.082721 190.036072 \nL 281.996607 189.143647 \n\" style=\"fill:none;stroke:#000000;stroke-linecap:round;\"/>\n   </g>\n   <g id=\"text_7\">\n    <g id=\"patch_15\">\n     <path d=\"M 275.410886 201.476974 \nL 283.039114 201.476974 \nL 283.039114 193.443026 \nL 275.410886 193.443026 \nz\n\" style=\"fill:#808080;stroke:#000000;stroke-linejoin:miter;\"/>\n    </g>\n    <!--  -->\n    <g transform=\"translate(279.225 195.76827)scale(0.020048 -0.020048)\"/>\n    <!--   (...)   -->\n    <g transform=\"translate(276.212802 198.013197)scale(0.020048 -0.020048)\">\n     <use xlink:href=\"#DejaVuSans-32\"/>\n     <use x=\"31.787109\" xlink:href=\"#DejaVuSans-32\"/>\n     <use x=\"63.574219\" xlink:href=\"#DejaVuSans-40\"/>\n     <use x=\"102.587891\" xlink:href=\"#DejaVuSans-46\"/>\n     <use x=\"134.375\" xlink:href=\"#DejaVuSans-46\"/>\n     <use x=\"166.162109\" xlink:href=\"#DejaVuSans-46\"/>\n     <use x=\"197.949219\" xlink:href=\"#DejaVuSans-41\"/>\n     <use x=\"236.962891\" xlink:href=\"#DejaVuSans-32\"/>\n     <use x=\"268.75\" xlink:href=\"#DejaVuSans-32\"/>\n    </g>\n    <!--  -->\n    <g transform=\"translate(279.225 200.258124)scale(0.020048 -0.020048)\"/>\n   </g>\n   <g id=\"patch_16\">\n    <path d=\"M 318.217279 190.036072 \nQ 309.74349 168.022443 300.86806 144.965413 \n\" style=\"fill:none;stroke:#000000;stroke-linecap:round;\"/>\n    <path d=\"M 318.303393 189.143647 \nL 318.217279 190.036072 \nL 317.555008 189.431726 \n\" style=\"fill:none;stroke:#000000;stroke-linecap:round;\"/>\n   </g>\n   <g id=\"text_8\">\n    <g id=\"patch_17\">\n     <path d=\"M 317.260886 201.476974 \nL 324.889114 201.476974 \nL 324.889114 193.443026 \nL 317.260886 193.443026 \nz\n\" style=\"fill:#808080;stroke:#000000;stroke-linejoin:miter;\"/>\n    </g>\n    <!--  -->\n    <g transform=\"translate(321.075 195.76827)scale(0.020048 -0.020048)\"/>\n    <!--   (...)   -->\n    <g transform=\"translate(318.062802 198.013197)scale(0.020048 -0.020048)\">\n     <use xlink:href=\"#DejaVuSans-32\"/>\n     <use x=\"31.787109\" xlink:href=\"#DejaVuSans-32\"/>\n     <use x=\"63.574219\" xlink:href=\"#DejaVuSans-40\"/>\n     <use x=\"102.587891\" xlink:href=\"#DejaVuSans-46\"/>\n     <use x=\"134.375\" xlink:href=\"#DejaVuSans-46\"/>\n     <use x=\"166.162109\" xlink:href=\"#DejaVuSans-46\"/>\n     <use x=\"197.949219\" xlink:href=\"#DejaVuSans-41\"/>\n     <use x=\"236.962891\" xlink:href=\"#DejaVuSans-32\"/>\n     <use x=\"268.75\" xlink:href=\"#DejaVuSans-32\"/>\n    </g>\n    <!--  -->\n    <g transform=\"translate(321.075 200.258124)scale(0.020048 -0.020048)\"/>\n   </g>\n   <g id=\"patch_18\">\n    <path d=\"M 55.292096 134.991987 \nQ 72.14481 113.10158 89.679556 90.325265 \n\" style=\"fill:none;stroke:#000000;stroke-linecap:round;\"/>\n    <path d=\"M 56.098998 134.60116 \nL 55.292096 134.991987 \nL 55.463576 134.111969 \n\" style=\"fill:none;stroke:#000000;stroke-linecap:round;\"/>\n   </g>\n   <g id=\"text_9\">\n    <g id=\"patch_19\">\n     <path d=\"M 35.170585 148.239437 \nL 62.929415 148.239437 \nL 62.929415 137.960563 \nL 35.170585 137.960563 \nz\n\" style=\"fill:#ffffff;stroke:#000000;stroke-linejoin:miter;\"/>\n    </g>\n    <!-- XXXinorg1mass &lt;= 1.136 -->\n    <g transform=\"translate(35.972501 140.285807)scale(0.020048 -0.020048)\">\n     <defs>\n      <path d=\"M 6.296875 72.90625 \nL 16.890625 72.90625 \nL 35.015625 45.796875 \nL 53.21875 72.90625 \nL 63.8125 72.90625 \nL 40.375 37.890625 \nL 65.375 0 \nL 54.78125 0 \nL 34.28125 31 \nL 13.625 0 \nL 2.984375 0 \nL 29 38.921875 \nz\n\" id=\"DejaVuSans-88\"/>\n      <path d=\"M 9.421875 54.6875 \nL 18.40625 54.6875 \nL 18.40625 0 \nL 9.421875 0 \nz\nM 9.421875 75.984375 \nL 18.40625 75.984375 \nL 18.40625 64.59375 \nL 9.421875 64.59375 \nz\n\" id=\"DejaVuSans-105\"/>\n      <path d=\"M 54.890625 33.015625 \nL 54.890625 0 \nL 45.90625 0 \nL 45.90625 32.71875 \nQ 45.90625 40.484375 42.875 44.328125 \nQ 39.84375 48.1875 33.796875 48.1875 \nQ 26.515625 48.1875 22.3125 43.546875 \nQ 18.109375 38.921875 18.109375 30.90625 \nL 18.109375 0 \nL 9.078125 0 \nL 9.078125 54.6875 \nL 18.109375 54.6875 \nL 18.109375 46.1875 \nQ 21.34375 51.125 25.703125 53.5625 \nQ 30.078125 56 35.796875 56 \nQ 45.21875 56 50.046875 50.171875 \nQ 54.890625 44.34375 54.890625 33.015625 \nz\n\" id=\"DejaVuSans-110\"/>\n      <path d=\"M 30.609375 48.390625 \nQ 23.390625 48.390625 19.1875 42.75 \nQ 14.984375 37.109375 14.984375 27.296875 \nQ 14.984375 17.484375 19.15625 11.84375 \nQ 23.34375 6.203125 30.609375 6.203125 \nQ 37.796875 6.203125 41.984375 11.859375 \nQ 46.1875 17.53125 46.1875 27.296875 \nQ 46.1875 37.015625 41.984375 42.703125 \nQ 37.796875 48.390625 30.609375 48.390625 \nz\nM 30.609375 56 \nQ 42.328125 56 49.015625 48.375 \nQ 55.71875 40.765625 55.71875 27.296875 \nQ 55.71875 13.875 49.015625 6.21875 \nQ 42.328125 -1.421875 30.609375 -1.421875 \nQ 18.84375 -1.421875 12.171875 6.21875 \nQ 5.515625 13.875 5.515625 27.296875 \nQ 5.515625 40.765625 12.171875 48.375 \nQ 18.84375 56 30.609375 56 \nz\n\" id=\"DejaVuSans-111\"/>\n      <path d=\"M 41.109375 46.296875 \nQ 39.59375 47.171875 37.8125 47.578125 \nQ 36.03125 48 33.890625 48 \nQ 26.265625 48 22.1875 43.046875 \nQ 18.109375 38.09375 18.109375 28.8125 \nL 18.109375 0 \nL 9.078125 0 \nL 9.078125 54.6875 \nL 18.109375 54.6875 \nL 18.109375 46.1875 \nQ 20.953125 51.171875 25.484375 53.578125 \nQ 30.03125 56 36.53125 56 \nQ 37.453125 56 38.578125 55.875 \nQ 39.703125 55.765625 41.0625 55.515625 \nz\n\" id=\"DejaVuSans-114\"/>\n      <path d=\"M 45.40625 27.984375 \nQ 45.40625 37.75 41.375 43.109375 \nQ 37.359375 48.484375 30.078125 48.484375 \nQ 22.859375 48.484375 18.828125 43.109375 \nQ 14.796875 37.75 14.796875 27.984375 \nQ 14.796875 18.265625 18.828125 12.890625 \nQ 22.859375 7.515625 30.078125 7.515625 \nQ 37.359375 7.515625 41.375 12.890625 \nQ 45.40625 18.265625 45.40625 27.984375 \nz\nM 54.390625 6.78125 \nQ 54.390625 -7.171875 48.1875 -13.984375 \nQ 42 -20.796875 29.203125 -20.796875 \nQ 24.46875 -20.796875 20.265625 -20.09375 \nQ 16.0625 -19.390625 12.109375 -17.921875 \nL 12.109375 -9.1875 \nQ 16.0625 -11.328125 19.921875 -12.34375 \nQ 23.78125 -13.375 27.78125 -13.375 \nQ 36.625 -13.375 41.015625 -8.765625 \nQ 45.40625 -4.15625 45.40625 5.171875 \nL 45.40625 9.625 \nQ 42.625 4.78125 38.28125 2.390625 \nQ 33.9375 0 27.875 0 \nQ 17.828125 0 11.671875 7.65625 \nQ 5.515625 15.328125 5.515625 27.984375 \nQ 5.515625 40.671875 11.671875 48.328125 \nQ 17.828125 56 27.875 56 \nQ 33.9375 56 38.28125 53.609375 \nQ 42.625 51.21875 45.40625 46.390625 \nL 45.40625 54.6875 \nL 54.390625 54.6875 \nz\n\" id=\"DejaVuSans-103\"/>\n      <path d=\"M 12.40625 8.296875 \nL 28.515625 8.296875 \nL 28.515625 63.921875 \nL 10.984375 60.40625 \nL 10.984375 69.390625 \nL 28.421875 72.90625 \nL 38.28125 72.90625 \nL 38.28125 8.296875 \nL 54.390625 8.296875 \nL 54.390625 0 \nL 12.40625 0 \nz\n\" id=\"DejaVuSans-49\"/>\n      <path d=\"M 52 44.1875 \nQ 55.375 50.25 60.0625 53.125 \nQ 64.75 56 71.09375 56 \nQ 79.640625 56 84.28125 50.015625 \nQ 88.921875 44.046875 88.921875 33.015625 \nL 88.921875 0 \nL 79.890625 0 \nL 79.890625 32.71875 \nQ 79.890625 40.578125 77.09375 44.375 \nQ 74.3125 48.1875 68.609375 48.1875 \nQ 61.625 48.1875 57.5625 43.546875 \nQ 53.515625 38.921875 53.515625 30.90625 \nL 53.515625 0 \nL 44.484375 0 \nL 44.484375 32.71875 \nQ 44.484375 40.625 41.703125 44.40625 \nQ 38.921875 48.1875 33.109375 48.1875 \nQ 26.21875 48.1875 22.15625 43.53125 \nQ 18.109375 38.875 18.109375 30.90625 \nL 18.109375 0 \nL 9.078125 0 \nL 9.078125 54.6875 \nL 18.109375 54.6875 \nL 18.109375 46.1875 \nQ 21.1875 51.21875 25.484375 53.609375 \nQ 29.78125 56 35.6875 56 \nQ 41.65625 56 45.828125 52.96875 \nQ 50 49.953125 52 44.1875 \nz\n\" id=\"DejaVuSans-109\"/>\n      <path d=\"M 34.28125 27.484375 \nQ 23.390625 27.484375 19.1875 25 \nQ 14.984375 22.515625 14.984375 16.5 \nQ 14.984375 11.71875 18.140625 8.90625 \nQ 21.296875 6.109375 26.703125 6.109375 \nQ 34.1875 6.109375 38.703125 11.40625 \nQ 43.21875 16.703125 43.21875 25.484375 \nL 43.21875 27.484375 \nz\nM 52.203125 31.203125 \nL 52.203125 0 \nL 43.21875 0 \nL 43.21875 8.296875 \nQ 40.140625 3.328125 35.546875 0.953125 \nQ 30.953125 -1.421875 24.3125 -1.421875 \nQ 15.921875 -1.421875 10.953125 3.296875 \nQ 6 8.015625 6 15.921875 \nQ 6 25.140625 12.171875 29.828125 \nQ 18.359375 34.515625 30.609375 34.515625 \nL 43.21875 34.515625 \nL 43.21875 35.40625 \nQ 43.21875 41.609375 39.140625 45 \nQ 35.0625 48.390625 27.6875 48.390625 \nQ 23 48.390625 18.546875 47.265625 \nQ 14.109375 46.140625 10.015625 43.890625 \nL 10.015625 52.203125 \nQ 14.9375 54.109375 19.578125 55.046875 \nQ 24.21875 56 28.609375 56 \nQ 40.484375 56 46.34375 49.84375 \nQ 52.203125 43.703125 52.203125 31.203125 \nz\n\" id=\"DejaVuSans-97\"/>\n      <path d=\"M 44.28125 53.078125 \nL 44.28125 44.578125 \nQ 40.484375 46.53125 36.375 47.5 \nQ 32.28125 48.484375 27.875 48.484375 \nQ 21.1875 48.484375 17.84375 46.4375 \nQ 14.5 44.390625 14.5 40.28125 \nQ 14.5 37.15625 16.890625 35.375 \nQ 19.28125 33.59375 26.515625 31.984375 \nL 29.59375 31.296875 \nQ 39.15625 29.25 43.1875 25.515625 \nQ 47.21875 21.78125 47.21875 15.09375 \nQ 47.21875 7.46875 41.1875 3.015625 \nQ 35.15625 -1.421875 24.609375 -1.421875 \nQ 20.21875 -1.421875 15.453125 -0.5625 \nQ 10.6875 0.296875 5.421875 2 \nL 5.421875 11.28125 \nQ 10.40625 8.6875 15.234375 7.390625 \nQ 20.0625 6.109375 24.8125 6.109375 \nQ 31.15625 6.109375 34.5625 8.28125 \nQ 37.984375 10.453125 37.984375 14.40625 \nQ 37.984375 18.0625 35.515625 20.015625 \nQ 33.0625 21.96875 24.703125 23.78125 \nL 21.578125 24.515625 \nQ 13.234375 26.265625 9.515625 29.90625 \nQ 5.8125 33.546875 5.8125 39.890625 \nQ 5.8125 47.609375 11.28125 51.796875 \nQ 16.75 56 26.8125 56 \nQ 31.78125 56 36.171875 55.265625 \nQ 40.578125 54.546875 44.28125 53.078125 \nz\n\" id=\"DejaVuSans-115\"/>\n      <path d=\"M 73.1875 49.21875 \nL 22.796875 31.296875 \nL 73.1875 13.484375 \nL 73.1875 4.59375 \nL 10.59375 27.296875 \nL 10.59375 35.40625 \nL 73.1875 58.109375 \nz\n\" id=\"DejaVuSans-60\"/>\n      <path d=\"M 10.59375 45.40625 \nL 73.1875 45.40625 \nL 73.1875 37.203125 \nL 10.59375 37.203125 \nz\nM 10.59375 25.484375 \nL 73.1875 25.484375 \nL 73.1875 17.1875 \nL 10.59375 17.1875 \nz\n\" id=\"DejaVuSans-61\"/>\n      <path d=\"M 40.578125 39.3125 \nQ 47.65625 37.796875 51.625 33 \nQ 55.609375 28.21875 55.609375 21.1875 \nQ 55.609375 10.40625 48.1875 4.484375 \nQ 40.765625 -1.421875 27.09375 -1.421875 \nQ 22.515625 -1.421875 17.65625 -0.515625 \nQ 12.796875 0.390625 7.625 2.203125 \nL 7.625 11.71875 \nQ 11.71875 9.328125 16.59375 8.109375 \nQ 21.484375 6.890625 26.8125 6.890625 \nQ 36.078125 6.890625 40.9375 10.546875 \nQ 45.796875 14.203125 45.796875 21.1875 \nQ 45.796875 27.640625 41.28125 31.265625 \nQ 36.765625 34.90625 28.71875 34.90625 \nL 20.21875 34.90625 \nL 20.21875 43.015625 \nL 29.109375 43.015625 \nQ 36.375 43.015625 40.234375 45.921875 \nQ 44.09375 48.828125 44.09375 54.296875 \nQ 44.09375 59.90625 40.109375 62.90625 \nQ 36.140625 65.921875 28.71875 65.921875 \nQ 24.65625 65.921875 20.015625 65.03125 \nQ 15.375 64.15625 9.8125 62.3125 \nL 9.8125 71.09375 \nQ 15.4375 72.65625 20.34375 73.4375 \nQ 25.25 74.21875 29.59375 74.21875 \nQ 40.828125 74.21875 47.359375 69.109375 \nQ 53.90625 64.015625 53.90625 55.328125 \nQ 53.90625 49.265625 50.4375 45.09375 \nQ 46.96875 40.921875 40.578125 39.3125 \nz\n\" id=\"DejaVuSans-51\"/>\n      <path d=\"M 33.015625 40.375 \nQ 26.375 40.375 22.484375 35.828125 \nQ 18.609375 31.296875 18.609375 23.390625 \nQ 18.609375 15.53125 22.484375 10.953125 \nQ 26.375 6.390625 33.015625 6.390625 \nQ 39.65625 6.390625 43.53125 10.953125 \nQ 47.40625 15.53125 47.40625 23.390625 \nQ 47.40625 31.296875 43.53125 35.828125 \nQ 39.65625 40.375 33.015625 40.375 \nz\nM 52.59375 71.296875 \nL 52.59375 62.3125 \nQ 48.875 64.0625 45.09375 64.984375 \nQ 41.3125 65.921875 37.59375 65.921875 \nQ 27.828125 65.921875 22.671875 59.328125 \nQ 17.53125 52.734375 16.796875 39.40625 \nQ 19.671875 43.65625 24.015625 45.921875 \nQ 28.375 48.1875 33.59375 48.1875 \nQ 44.578125 48.1875 50.953125 41.515625 \nQ 57.328125 34.859375 57.328125 23.390625 \nQ 57.328125 12.15625 50.6875 5.359375 \nQ 44.046875 -1.421875 33.015625 -1.421875 \nQ 20.359375 -1.421875 13.671875 8.265625 \nQ 6.984375 17.96875 6.984375 36.375 \nQ 6.984375 53.65625 15.1875 63.9375 \nQ 23.390625 74.21875 37.203125 74.21875 \nQ 40.921875 74.21875 44.703125 73.484375 \nQ 48.484375 72.75 52.59375 71.296875 \nz\n\" id=\"DejaVuSans-54\"/>\n     </defs>\n     <use xlink:href=\"#DejaVuSans-88\"/>\n     <use x=\"68.505859\" xlink:href=\"#DejaVuSans-88\"/>\n     <use x=\"137.011719\" xlink:href=\"#DejaVuSans-88\"/>\n     <use x=\"205.517578\" xlink:href=\"#DejaVuSans-105\"/>\n     <use x=\"233.300781\" xlink:href=\"#DejaVuSans-110\"/>\n     <use x=\"296.679688\" xlink:href=\"#DejaVuSans-111\"/>\n     <use x=\"357.861328\" xlink:href=\"#DejaVuSans-114\"/>\n     <use x=\"397.224609\" xlink:href=\"#DejaVuSans-103\"/>\n     <use x=\"460.701172\" xlink:href=\"#DejaVuSans-49\"/>\n     <use x=\"524.324219\" xlink:href=\"#DejaVuSans-109\"/>\n     <use x=\"621.736328\" xlink:href=\"#DejaVuSans-97\"/>\n     <use x=\"683.015625\" xlink:href=\"#DejaVuSans-115\"/>\n     <use x=\"735.115234\" xlink:href=\"#DejaVuSans-115\"/>\n     <use x=\"787.214844\" xlink:href=\"#DejaVuSans-32\"/>\n     <use x=\"819.001953\" xlink:href=\"#DejaVuSans-60\"/>\n     <use x=\"902.791016\" xlink:href=\"#DejaVuSans-61\"/>\n     <use x=\"986.580078\" xlink:href=\"#DejaVuSans-32\"/>\n     <use x=\"1018.367188\" xlink:href=\"#DejaVuSans-49\"/>\n     <use x=\"1081.990234\" xlink:href=\"#DejaVuSans-46\"/>\n     <use x=\"1113.777344\" xlink:href=\"#DejaVuSans-49\"/>\n     <use x=\"1177.400391\" xlink:href=\"#DejaVuSans-51\"/>\n     <use x=\"1241.023438\" xlink:href=\"#DejaVuSans-54\"/>\n    </g>\n    <!-- gini = 0.025 -->\n    <g transform=\"translate(42.874619 142.530733)scale(0.020048 -0.020048)\">\n     <defs>\n      <path d=\"M 31.78125 66.40625 \nQ 24.171875 66.40625 20.328125 58.90625 \nQ 16.5 51.421875 16.5 36.375 \nQ 16.5 21.390625 20.328125 13.890625 \nQ 24.171875 6.390625 31.78125 6.390625 \nQ 39.453125 6.390625 43.28125 13.890625 \nQ 47.125 21.390625 47.125 36.375 \nQ 47.125 51.421875 43.28125 58.90625 \nQ 39.453125 66.40625 31.78125 66.40625 \nz\nM 31.78125 74.21875 \nQ 44.046875 74.21875 50.515625 64.515625 \nQ 56.984375 54.828125 56.984375 36.375 \nQ 56.984375 17.96875 50.515625 8.265625 \nQ 44.046875 -1.421875 31.78125 -1.421875 \nQ 19.53125 -1.421875 13.0625 8.265625 \nQ 6.59375 17.96875 6.59375 36.375 \nQ 6.59375 54.828125 13.0625 64.515625 \nQ 19.53125 74.21875 31.78125 74.21875 \nz\n\" id=\"DejaVuSans-48\"/>\n      <path d=\"M 19.1875 8.296875 \nL 53.609375 8.296875 \nL 53.609375 0 \nL 7.328125 0 \nL 7.328125 8.296875 \nQ 12.9375 14.109375 22.625 23.890625 \nQ 32.328125 33.6875 34.8125 36.53125 \nQ 39.546875 41.84375 41.421875 45.53125 \nQ 43.3125 49.21875 43.3125 52.78125 \nQ 43.3125 58.59375 39.234375 62.25 \nQ 35.15625 65.921875 28.609375 65.921875 \nQ 23.96875 65.921875 18.8125 64.3125 \nQ 13.671875 62.703125 7.8125 59.421875 \nL 7.8125 69.390625 \nQ 13.765625 71.78125 18.9375 73 \nQ 24.125 74.21875 28.421875 74.21875 \nQ 39.75 74.21875 46.484375 68.546875 \nQ 53.21875 62.890625 53.21875 53.421875 \nQ 53.21875 48.921875 51.53125 44.890625 \nQ 49.859375 40.875 45.40625 35.40625 \nQ 44.1875 33.984375 37.640625 27.21875 \nQ 31.109375 20.453125 19.1875 8.296875 \nz\n\" id=\"DejaVuSans-50\"/>\n      <path d=\"M 10.796875 72.90625 \nL 49.515625 72.90625 \nL 49.515625 64.59375 \nL 19.828125 64.59375 \nL 19.828125 46.734375 \nQ 21.96875 47.46875 24.109375 47.828125 \nQ 26.265625 48.1875 28.421875 48.1875 \nQ 40.625 48.1875 47.75 41.5 \nQ 54.890625 34.8125 54.890625 23.390625 \nQ 54.890625 11.625 47.5625 5.09375 \nQ 40.234375 -1.421875 26.90625 -1.421875 \nQ 22.3125 -1.421875 17.546875 -0.640625 \nQ 12.796875 0.140625 7.71875 1.703125 \nL 7.71875 11.625 \nQ 12.109375 9.234375 16.796875 8.0625 \nQ 21.484375 6.890625 26.703125 6.890625 \nQ 35.15625 6.890625 40.078125 11.328125 \nQ 45.015625 15.765625 45.015625 23.390625 \nQ 45.015625 31 40.078125 35.4375 \nQ 35.15625 39.890625 26.703125 39.890625 \nQ 22.75 39.890625 18.8125 39.015625 \nQ 14.890625 38.140625 10.796875 36.28125 \nz\n\" id=\"DejaVuSans-53\"/>\n     </defs>\n     <use xlink:href=\"#DejaVuSans-103\"/>\n     <use x=\"63.476562\" xlink:href=\"#DejaVuSans-105\"/>\n     <use x=\"91.259766\" xlink:href=\"#DejaVuSans-110\"/>\n     <use x=\"154.638672\" xlink:href=\"#DejaVuSans-105\"/>\n     <use x=\"182.421875\" xlink:href=\"#DejaVuSans-32\"/>\n     <use x=\"214.208984\" xlink:href=\"#DejaVuSans-61\"/>\n     <use x=\"297.998047\" xlink:href=\"#DejaVuSans-32\"/>\n     <use x=\"329.785156\" xlink:href=\"#DejaVuSans-48\"/>\n     <use x=\"393.408203\" xlink:href=\"#DejaVuSans-46\"/>\n     <use x=\"425.195312\" xlink:href=\"#DejaVuSans-48\"/>\n     <use x=\"488.818359\" xlink:href=\"#DejaVuSans-50\"/>\n     <use x=\"552.441406\" xlink:href=\"#DejaVuSans-53\"/>\n    </g>\n    <!-- samples = 481 -->\n    <g transform=\"translate(41.49288 144.77566)scale(0.020048 -0.020048)\">\n     <defs>\n      <path d=\"M 18.109375 8.203125 \nL 18.109375 -20.796875 \nL 9.078125 -20.796875 \nL 9.078125 54.6875 \nL 18.109375 54.6875 \nL 18.109375 46.390625 \nQ 20.953125 51.265625 25.265625 53.625 \nQ 29.59375 56 35.59375 56 \nQ 45.5625 56 51.78125 48.09375 \nQ 58.015625 40.1875 58.015625 27.296875 \nQ 58.015625 14.40625 51.78125 6.484375 \nQ 45.5625 -1.421875 35.59375 -1.421875 \nQ 29.59375 -1.421875 25.265625 0.953125 \nQ 20.953125 3.328125 18.109375 8.203125 \nz\nM 48.6875 27.296875 \nQ 48.6875 37.203125 44.609375 42.84375 \nQ 40.53125 48.484375 33.40625 48.484375 \nQ 26.265625 48.484375 22.1875 42.84375 \nQ 18.109375 37.203125 18.109375 27.296875 \nQ 18.109375 17.390625 22.1875 11.75 \nQ 26.265625 6.109375 33.40625 6.109375 \nQ 40.53125 6.109375 44.609375 11.75 \nQ 48.6875 17.390625 48.6875 27.296875 \nz\n\" id=\"DejaVuSans-112\"/>\n      <path d=\"M 9.421875 75.984375 \nL 18.40625 75.984375 \nL 18.40625 0 \nL 9.421875 0 \nz\n\" id=\"DejaVuSans-108\"/>\n      <path d=\"M 56.203125 29.59375 \nL 56.203125 25.203125 \nL 14.890625 25.203125 \nQ 15.484375 15.921875 20.484375 11.0625 \nQ 25.484375 6.203125 34.421875 6.203125 \nQ 39.59375 6.203125 44.453125 7.46875 \nQ 49.3125 8.734375 54.109375 11.28125 \nL 54.109375 2.78125 \nQ 49.265625 0.734375 44.1875 -0.34375 \nQ 39.109375 -1.421875 33.890625 -1.421875 \nQ 20.796875 -1.421875 13.15625 6.1875 \nQ 5.515625 13.8125 5.515625 26.8125 \nQ 5.515625 40.234375 12.765625 48.109375 \nQ 20.015625 56 32.328125 56 \nQ 43.359375 56 49.78125 48.890625 \nQ 56.203125 41.796875 56.203125 29.59375 \nz\nM 47.21875 32.234375 \nQ 47.125 39.59375 43.09375 43.984375 \nQ 39.0625 48.390625 32.421875 48.390625 \nQ 24.90625 48.390625 20.390625 44.140625 \nQ 15.875 39.890625 15.1875 32.171875 \nz\n\" id=\"DejaVuSans-101\"/>\n      <path d=\"M 37.796875 64.3125 \nL 12.890625 25.390625 \nL 37.796875 25.390625 \nz\nM 35.203125 72.90625 \nL 47.609375 72.90625 \nL 47.609375 25.390625 \nL 58.015625 25.390625 \nL 58.015625 17.1875 \nL 47.609375 17.1875 \nL 47.609375 0 \nL 37.796875 0 \nL 37.796875 17.1875 \nL 4.890625 17.1875 \nL 4.890625 26.703125 \nz\n\" id=\"DejaVuSans-52\"/>\n      <path d=\"M 31.78125 34.625 \nQ 24.75 34.625 20.71875 30.859375 \nQ 16.703125 27.09375 16.703125 20.515625 \nQ 16.703125 13.921875 20.71875 10.15625 \nQ 24.75 6.390625 31.78125 6.390625 \nQ 38.8125 6.390625 42.859375 10.171875 \nQ 46.921875 13.96875 46.921875 20.515625 \nQ 46.921875 27.09375 42.890625 30.859375 \nQ 38.875 34.625 31.78125 34.625 \nz\nM 21.921875 38.8125 \nQ 15.578125 40.375 12.03125 44.71875 \nQ 8.5 49.078125 8.5 55.328125 \nQ 8.5 64.0625 14.71875 69.140625 \nQ 20.953125 74.21875 31.78125 74.21875 \nQ 42.671875 74.21875 48.875 69.140625 \nQ 55.078125 64.0625 55.078125 55.328125 \nQ 55.078125 49.078125 51.53125 44.71875 \nQ 48 40.375 41.703125 38.8125 \nQ 48.828125 37.15625 52.796875 32.3125 \nQ 56.78125 27.484375 56.78125 20.515625 \nQ 56.78125 9.90625 50.3125 4.234375 \nQ 43.84375 -1.421875 31.78125 -1.421875 \nQ 19.734375 -1.421875 13.25 4.234375 \nQ 6.78125 9.90625 6.78125 20.515625 \nQ 6.78125 27.484375 10.78125 32.3125 \nQ 14.796875 37.15625 21.921875 38.8125 \nz\nM 18.3125 54.390625 \nQ 18.3125 48.734375 21.84375 45.5625 \nQ 25.390625 42.390625 31.78125 42.390625 \nQ 38.140625 42.390625 41.71875 45.5625 \nQ 45.3125 48.734375 45.3125 54.390625 \nQ 45.3125 60.0625 41.71875 63.234375 \nQ 38.140625 66.40625 31.78125 66.40625 \nQ 25.390625 66.40625 21.84375 63.234375 \nQ 18.3125 60.0625 18.3125 54.390625 \nz\n\" id=\"DejaVuSans-56\"/>\n     </defs>\n     <use xlink:href=\"#DejaVuSans-115\"/>\n     <use x=\"52.099609\" xlink:href=\"#DejaVuSans-97\"/>\n     <use x=\"113.378906\" xlink:href=\"#DejaVuSans-109\"/>\n     <use x=\"210.791016\" xlink:href=\"#DejaVuSans-112\"/>\n     <use x=\"274.267578\" xlink:href=\"#DejaVuSans-108\"/>\n     <use x=\"302.050781\" xlink:href=\"#DejaVuSans-101\"/>\n     <use x=\"363.574219\" xlink:href=\"#DejaVuSans-115\"/>\n     <use x=\"415.673828\" xlink:href=\"#DejaVuSans-32\"/>\n     <use x=\"447.460938\" xlink:href=\"#DejaVuSans-61\"/>\n     <use x=\"531.25\" xlink:href=\"#DejaVuSans-32\"/>\n     <use x=\"563.037109\" xlink:href=\"#DejaVuSans-52\"/>\n     <use x=\"626.660156\" xlink:href=\"#DejaVuSans-56\"/>\n     <use x=\"690.283203\" xlink:href=\"#DejaVuSans-49\"/>\n    </g>\n    <!-- value = [475, 2, 1, 3] -->\n    <g transform=\"translate(38.314504 147.020587)scale(0.020048 -0.020048)\">\n     <defs>\n      <path d=\"M 2.984375 54.6875 \nL 12.5 54.6875 \nL 29.59375 8.796875 \nL 46.6875 54.6875 \nL 56.203125 54.6875 \nL 35.6875 0 \nL 23.484375 0 \nz\n\" id=\"DejaVuSans-118\"/>\n      <path d=\"M 8.5 21.578125 \nL 8.5 54.6875 \nL 17.484375 54.6875 \nL 17.484375 21.921875 \nQ 17.484375 14.15625 20.5 10.265625 \nQ 23.53125 6.390625 29.59375 6.390625 \nQ 36.859375 6.390625 41.078125 11.03125 \nQ 45.3125 15.671875 45.3125 23.6875 \nL 45.3125 54.6875 \nL 54.296875 54.6875 \nL 54.296875 0 \nL 45.3125 0 \nL 45.3125 8.40625 \nQ 42.046875 3.421875 37.71875 1 \nQ 33.40625 -1.421875 27.6875 -1.421875 \nQ 18.265625 -1.421875 13.375 4.4375 \nQ 8.5 10.296875 8.5 21.578125 \nz\nM 31.109375 56 \nz\n\" id=\"DejaVuSans-117\"/>\n      <path d=\"M 8.59375 75.984375 \nL 29.296875 75.984375 \nL 29.296875 69 \nL 17.578125 69 \nL 17.578125 -6.203125 \nL 29.296875 -6.203125 \nL 29.296875 -13.1875 \nL 8.59375 -13.1875 \nz\n\" id=\"DejaVuSans-91\"/>\n      <path d=\"M 8.203125 72.90625 \nL 55.078125 72.90625 \nL 55.078125 68.703125 \nL 28.609375 0 \nL 18.3125 0 \nL 43.21875 64.59375 \nL 8.203125 64.59375 \nz\n\" id=\"DejaVuSans-55\"/>\n      <path d=\"M 11.71875 12.40625 \nL 22.015625 12.40625 \nL 22.015625 4 \nL 14.015625 -11.625 \nL 7.71875 -11.625 \nL 11.71875 4 \nz\n\" id=\"DejaVuSans-44\"/>\n      <path d=\"M 30.421875 75.984375 \nL 30.421875 -13.1875 \nL 9.71875 -13.1875 \nL 9.71875 -6.203125 \nL 21.390625 -6.203125 \nL 21.390625 69 \nL 9.71875 69 \nL 9.71875 75.984375 \nz\n\" id=\"DejaVuSans-93\"/>\n     </defs>\n     <use xlink:href=\"#DejaVuSans-118\"/>\n     <use x=\"59.179688\" xlink:href=\"#DejaVuSans-97\"/>\n     <use x=\"120.458984\" xlink:href=\"#DejaVuSans-108\"/>\n     <use x=\"148.242188\" xlink:href=\"#DejaVuSans-117\"/>\n     <use x=\"211.621094\" xlink:href=\"#DejaVuSans-101\"/>\n     <use x=\"273.144531\" xlink:href=\"#DejaVuSans-32\"/>\n     <use x=\"304.931641\" xlink:href=\"#DejaVuSans-61\"/>\n     <use x=\"388.720703\" xlink:href=\"#DejaVuSans-32\"/>\n     <use x=\"420.507812\" xlink:href=\"#DejaVuSans-91\"/>\n     <use x=\"459.521484\" xlink:href=\"#DejaVuSans-52\"/>\n     <use x=\"523.144531\" xlink:href=\"#DejaVuSans-55\"/>\n     <use x=\"586.767578\" xlink:href=\"#DejaVuSans-53\"/>\n     <use x=\"650.390625\" xlink:href=\"#DejaVuSans-44\"/>\n     <use x=\"682.177734\" xlink:href=\"#DejaVuSans-32\"/>\n     <use x=\"713.964844\" xlink:href=\"#DejaVuSans-50\"/>\n     <use x=\"777.587891\" xlink:href=\"#DejaVuSans-44\"/>\n     <use x=\"809.375\" xlink:href=\"#DejaVuSans-32\"/>\n     <use x=\"841.162109\" xlink:href=\"#DejaVuSans-49\"/>\n     <use x=\"904.785156\" xlink:href=\"#DejaVuSans-44\"/>\n     <use x=\"936.572266\" xlink:href=\"#DejaVuSans-32\"/>\n     <use x=\"968.359375\" xlink:href=\"#DejaVuSans-51\"/>\n     <use x=\"1031.982422\" xlink:href=\"#DejaVuSans-93\"/>\n    </g>\n   </g>\n   <g id=\"patch_20\">\n    <path d=\"M 126.507904 134.991987 \nQ 109.65519 113.10158 92.120444 90.325265 \n\" style=\"fill:none;stroke:#000000;stroke-linecap:round;\"/>\n    <path d=\"M 126.336424 134.111969 \nL 126.507904 134.991987 \nL 125.701002 134.60116 \n\" style=\"fill:none;stroke:#000000;stroke-linecap:round;\"/>\n   </g>\n   <g id=\"text_10\">\n    <g id=\"patch_21\">\n     <path d=\"M 122.488136 148.239437 \nL 143.011864 148.239437 \nL 143.011864 137.960563 \nL 122.488136 137.960563 \nz\n\" style=\"fill:#808080;stroke:#000000;stroke-linejoin:miter;\"/>\n    </g>\n    <!-- pH &lt;= 4.5 -->\n    <g transform=\"translate(127.448582 140.285807)scale(0.020048 -0.020048)\">\n     <defs>\n      <path d=\"M 9.8125 72.90625 \nL 19.671875 72.90625 \nL 19.671875 43.015625 \nL 55.515625 43.015625 \nL 55.515625 72.90625 \nL 65.375 72.90625 \nL 65.375 0 \nL 55.515625 0 \nL 55.515625 34.71875 \nL 19.671875 34.71875 \nL 19.671875 0 \nL 9.8125 0 \nz\n\" id=\"DejaVuSans-72\"/>\n     </defs>\n     <use xlink:href=\"#DejaVuSans-112\"/>\n     <use x=\"63.476562\" xlink:href=\"#DejaVuSans-72\"/>\n     <use x=\"138.671875\" xlink:href=\"#DejaVuSans-32\"/>\n     <use x=\"170.458984\" xlink:href=\"#DejaVuSans-60\"/>\n     <use x=\"254.248047\" xlink:href=\"#DejaVuSans-61\"/>\n     <use x=\"338.037109\" xlink:href=\"#DejaVuSans-32\"/>\n     <use x=\"369.824219\" xlink:href=\"#DejaVuSans-52\"/>\n     <use x=\"433.447266\" xlink:href=\"#DejaVuSans-46\"/>\n     <use x=\"465.234375\" xlink:href=\"#DejaVuSans-53\"/>\n    </g>\n    <!-- gini = 0.642 -->\n    <g transform=\"translate(126.574619 142.530733)scale(0.020048 -0.020048)\">\n     <use xlink:href=\"#DejaVuSans-103\"/>\n     <use x=\"63.476562\" xlink:href=\"#DejaVuSans-105\"/>\n     <use x=\"91.259766\" xlink:href=\"#DejaVuSans-110\"/>\n     <use x=\"154.638672\" xlink:href=\"#DejaVuSans-105\"/>\n     <use x=\"182.421875\" xlink:href=\"#DejaVuSans-32\"/>\n     <use x=\"214.208984\" xlink:href=\"#DejaVuSans-61\"/>\n     <use x=\"297.998047\" xlink:href=\"#DejaVuSans-32\"/>\n     <use x=\"329.785156\" xlink:href=\"#DejaVuSans-48\"/>\n     <use x=\"393.408203\" xlink:href=\"#DejaVuSans-46\"/>\n     <use x=\"425.195312\" xlink:href=\"#DejaVuSans-54\"/>\n     <use x=\"488.818359\" xlink:href=\"#DejaVuSans-52\"/>\n     <use x=\"552.441406\" xlink:href=\"#DejaVuSans-50\"/>\n    </g>\n    <!-- samples = 18 -->\n    <g transform=\"translate(125.830654 144.77566)scale(0.020048 -0.020048)\">\n     <use xlink:href=\"#DejaVuSans-115\"/>\n     <use x=\"52.099609\" xlink:href=\"#DejaVuSans-97\"/>\n     <use x=\"113.378906\" xlink:href=\"#DejaVuSans-109\"/>\n     <use x=\"210.791016\" xlink:href=\"#DejaVuSans-112\"/>\n     <use x=\"274.267578\" xlink:href=\"#DejaVuSans-108\"/>\n     <use x=\"302.050781\" xlink:href=\"#DejaVuSans-101\"/>\n     <use x=\"363.574219\" xlink:href=\"#DejaVuSans-115\"/>\n     <use x=\"415.673828\" xlink:href=\"#DejaVuSans-32\"/>\n     <use x=\"447.460938\" xlink:href=\"#DejaVuSans-61\"/>\n     <use x=\"531.25\" xlink:href=\"#DejaVuSans-32\"/>\n     <use x=\"563.037109\" xlink:href=\"#DejaVuSans-49\"/>\n     <use x=\"626.660156\" xlink:href=\"#DejaVuSans-56\"/>\n    </g>\n    <!-- value = [0, 8, 4, 6] -->\n    <g transform=\"translate(123.290052 147.020587)scale(0.020048 -0.020048)\">\n     <use xlink:href=\"#DejaVuSans-118\"/>\n     <use x=\"59.179688\" xlink:href=\"#DejaVuSans-97\"/>\n     <use x=\"120.458984\" xlink:href=\"#DejaVuSans-108\"/>\n     <use x=\"148.242188\" xlink:href=\"#DejaVuSans-117\"/>\n     <use x=\"211.621094\" xlink:href=\"#DejaVuSans-101\"/>\n     <use x=\"273.144531\" xlink:href=\"#DejaVuSans-32\"/>\n     <use x=\"304.931641\" xlink:href=\"#DejaVuSans-61\"/>\n     <use x=\"388.720703\" xlink:href=\"#DejaVuSans-32\"/>\n     <use x=\"420.507812\" xlink:href=\"#DejaVuSans-91\"/>\n     <use x=\"459.521484\" xlink:href=\"#DejaVuSans-48\"/>\n     <use x=\"523.144531\" xlink:href=\"#DejaVuSans-44\"/>\n     <use x=\"554.931641\" xlink:href=\"#DejaVuSans-32\"/>\n     <use x=\"586.71875\" xlink:href=\"#DejaVuSans-56\"/>\n     <use x=\"650.341797\" xlink:href=\"#DejaVuSans-44\"/>\n     <use x=\"682.128906\" xlink:href=\"#DejaVuSans-32\"/>\n     <use x=\"713.916016\" xlink:href=\"#DejaVuSans-52\"/>\n     <use x=\"777.539062\" xlink:href=\"#DejaVuSans-44\"/>\n     <use x=\"809.326172\" xlink:href=\"#DejaVuSans-32\"/>\n     <use x=\"841.113281\" xlink:href=\"#DejaVuSans-54\"/>\n     <use x=\"904.736328\" xlink:href=\"#DejaVuSans-93\"/>\n    </g>\n   </g>\n   <g id=\"patch_22\">\n    <path d=\"M 222.692096 134.991987 \nQ 239.54481 113.10158 257.079556 90.325265 \n\" style=\"fill:none;stroke:#000000;stroke-linecap:round;\"/>\n    <path d=\"M 223.498998 134.60116 \nL 222.692096 134.991987 \nL 222.863576 134.111969 \n\" style=\"fill:none;stroke:#000000;stroke-linecap:round;\"/>\n   </g>\n   <g id=\"text_11\">\n    <g id=\"patch_23\">\n     <path d=\"M 199.360571 148.239437 \nL 233.539429 148.239437 \nL 233.539429 137.960563 \nL 199.360571 137.960563 \nz\n\" style=\"fill:#808080;stroke:#000000;stroke-linejoin:miter;\"/>\n    </g>\n    <!-- hardnessMinWeighted &lt;= 0.098 -->\n    <g transform=\"translate(200.162487 140.285807)scale(0.020048 -0.020048)\">\n     <defs>\n      <path d=\"M 54.890625 33.015625 \nL 54.890625 0 \nL 45.90625 0 \nL 45.90625 32.71875 \nQ 45.90625 40.484375 42.875 44.328125 \nQ 39.84375 48.1875 33.796875 48.1875 \nQ 26.515625 48.1875 22.3125 43.546875 \nQ 18.109375 38.921875 18.109375 30.90625 \nL 18.109375 0 \nL 9.078125 0 \nL 9.078125 75.984375 \nL 18.109375 75.984375 \nL 18.109375 46.1875 \nQ 21.34375 51.125 25.703125 53.5625 \nQ 30.078125 56 35.796875 56 \nQ 45.21875 56 50.046875 50.171875 \nQ 54.890625 44.34375 54.890625 33.015625 \nz\n\" id=\"DejaVuSans-104\"/>\n      <path d=\"M 45.40625 46.390625 \nL 45.40625 75.984375 \nL 54.390625 75.984375 \nL 54.390625 0 \nL 45.40625 0 \nL 45.40625 8.203125 \nQ 42.578125 3.328125 38.25 0.953125 \nQ 33.9375 -1.421875 27.875 -1.421875 \nQ 17.96875 -1.421875 11.734375 6.484375 \nQ 5.515625 14.40625 5.515625 27.296875 \nQ 5.515625 40.1875 11.734375 48.09375 \nQ 17.96875 56 27.875 56 \nQ 33.9375 56 38.25 53.625 \nQ 42.578125 51.265625 45.40625 46.390625 \nz\nM 14.796875 27.296875 \nQ 14.796875 17.390625 18.875 11.75 \nQ 22.953125 6.109375 30.078125 6.109375 \nQ 37.203125 6.109375 41.296875 11.75 \nQ 45.40625 17.390625 45.40625 27.296875 \nQ 45.40625 37.203125 41.296875 42.84375 \nQ 37.203125 48.484375 30.078125 48.484375 \nQ 22.953125 48.484375 18.875 42.84375 \nQ 14.796875 37.203125 14.796875 27.296875 \nz\n\" id=\"DejaVuSans-100\"/>\n      <path d=\"M 9.8125 72.90625 \nL 24.515625 72.90625 \nL 43.109375 23.296875 \nL 61.8125 72.90625 \nL 76.515625 72.90625 \nL 76.515625 0 \nL 66.890625 0 \nL 66.890625 64.015625 \nL 48.09375 14.015625 \nL 38.1875 14.015625 \nL 19.390625 64.015625 \nL 19.390625 0 \nL 9.8125 0 \nz\n\" id=\"DejaVuSans-77\"/>\n      <path d=\"M 3.328125 72.90625 \nL 13.28125 72.90625 \nL 28.609375 11.28125 \nL 43.890625 72.90625 \nL 54.984375 72.90625 \nL 70.3125 11.28125 \nL 85.59375 72.90625 \nL 95.609375 72.90625 \nL 77.296875 0 \nL 64.890625 0 \nL 49.515625 63.28125 \nL 33.984375 0 \nL 21.578125 0 \nz\n\" id=\"DejaVuSans-87\"/>\n      <path d=\"M 18.3125 70.21875 \nL 18.3125 54.6875 \nL 36.8125 54.6875 \nL 36.8125 47.703125 \nL 18.3125 47.703125 \nL 18.3125 18.015625 \nQ 18.3125 11.328125 20.140625 9.421875 \nQ 21.96875 7.515625 27.59375 7.515625 \nL 36.8125 7.515625 \nL 36.8125 0 \nL 27.59375 0 \nQ 17.1875 0 13.234375 3.875 \nQ 9.28125 7.765625 9.28125 18.015625 \nL 9.28125 47.703125 \nL 2.6875 47.703125 \nL 2.6875 54.6875 \nL 9.28125 54.6875 \nL 9.28125 70.21875 \nz\n\" id=\"DejaVuSans-116\"/>\n      <path d=\"M 10.984375 1.515625 \nL 10.984375 10.5 \nQ 14.703125 8.734375 18.5 7.8125 \nQ 22.3125 6.890625 25.984375 6.890625 \nQ 35.75 6.890625 40.890625 13.453125 \nQ 46.046875 20.015625 46.78125 33.40625 \nQ 43.953125 29.203125 39.59375 26.953125 \nQ 35.25 24.703125 29.984375 24.703125 \nQ 19.046875 24.703125 12.671875 31.3125 \nQ 6.296875 37.9375 6.296875 49.421875 \nQ 6.296875 60.640625 12.9375 67.421875 \nQ 19.578125 74.21875 30.609375 74.21875 \nQ 43.265625 74.21875 49.921875 64.515625 \nQ 56.59375 54.828125 56.59375 36.375 \nQ 56.59375 19.140625 48.40625 8.859375 \nQ 40.234375 -1.421875 26.421875 -1.421875 \nQ 22.703125 -1.421875 18.890625 -0.6875 \nQ 15.09375 0.046875 10.984375 1.515625 \nz\nM 30.609375 32.421875 \nQ 37.25 32.421875 41.125 36.953125 \nQ 45.015625 41.5 45.015625 49.421875 \nQ 45.015625 57.28125 41.125 61.84375 \nQ 37.25 66.40625 30.609375 66.40625 \nQ 23.96875 66.40625 20.09375 61.84375 \nQ 16.21875 57.28125 16.21875 49.421875 \nQ 16.21875 41.5 20.09375 36.953125 \nQ 23.96875 32.421875 30.609375 32.421875 \nz\n\" id=\"DejaVuSans-57\"/>\n     </defs>\n     <use xlink:href=\"#DejaVuSans-104\"/>\n     <use x=\"63.378906\" xlink:href=\"#DejaVuSans-97\"/>\n     <use x=\"124.658203\" xlink:href=\"#DejaVuSans-114\"/>\n     <use x=\"164.021484\" xlink:href=\"#DejaVuSans-100\"/>\n     <use x=\"227.498047\" xlink:href=\"#DejaVuSans-110\"/>\n     <use x=\"290.876953\" xlink:href=\"#DejaVuSans-101\"/>\n     <use x=\"352.400391\" xlink:href=\"#DejaVuSans-115\"/>\n     <use x=\"404.5\" xlink:href=\"#DejaVuSans-115\"/>\n     <use x=\"456.599609\" xlink:href=\"#DejaVuSans-77\"/>\n     <use x=\"542.878906\" xlink:href=\"#DejaVuSans-105\"/>\n     <use x=\"570.662109\" xlink:href=\"#DejaVuSans-110\"/>\n     <use x=\"634.041016\" xlink:href=\"#DejaVuSans-87\"/>\n     <use x=\"727.042969\" xlink:href=\"#DejaVuSans-101\"/>\n     <use x=\"788.566406\" xlink:href=\"#DejaVuSans-105\"/>\n     <use x=\"816.349609\" xlink:href=\"#DejaVuSans-103\"/>\n     <use x=\"879.826172\" xlink:href=\"#DejaVuSans-104\"/>\n     <use x=\"943.205078\" xlink:href=\"#DejaVuSans-116\"/>\n     <use x=\"982.414062\" xlink:href=\"#DejaVuSans-101\"/>\n     <use x=\"1043.9375\" xlink:href=\"#DejaVuSans-100\"/>\n     <use x=\"1107.414062\" xlink:href=\"#DejaVuSans-32\"/>\n     <use x=\"1139.201172\" xlink:href=\"#DejaVuSans-60\"/>\n     <use x=\"1222.990234\" xlink:href=\"#DejaVuSans-61\"/>\n     <use x=\"1306.779297\" xlink:href=\"#DejaVuSans-32\"/>\n     <use x=\"1338.566406\" xlink:href=\"#DejaVuSans-48\"/>\n     <use x=\"1402.189453\" xlink:href=\"#DejaVuSans-46\"/>\n     <use x=\"1433.976562\" xlink:href=\"#DejaVuSans-48\"/>\n     <use x=\"1497.599609\" xlink:href=\"#DejaVuSans-57\"/>\n     <use x=\"1561.222656\" xlink:href=\"#DejaVuSans-56\"/>\n    </g>\n    <!-- gini = 0.642 -->\n    <g transform=\"translate(210.274619 142.530733)scale(0.020048 -0.020048)\">\n     <use xlink:href=\"#DejaVuSans-103\"/>\n     <use x=\"63.476562\" xlink:href=\"#DejaVuSans-105\"/>\n     <use x=\"91.259766\" xlink:href=\"#DejaVuSans-110\"/>\n     <use x=\"154.638672\" xlink:href=\"#DejaVuSans-105\"/>\n     <use x=\"182.421875\" xlink:href=\"#DejaVuSans-32\"/>\n     <use x=\"214.208984\" xlink:href=\"#DejaVuSans-61\"/>\n     <use x=\"297.998047\" xlink:href=\"#DejaVuSans-32\"/>\n     <use x=\"329.785156\" xlink:href=\"#DejaVuSans-48\"/>\n     <use x=\"393.408203\" xlink:href=\"#DejaVuSans-46\"/>\n     <use x=\"425.195312\" xlink:href=\"#DejaVuSans-54\"/>\n     <use x=\"488.818359\" xlink:href=\"#DejaVuSans-52\"/>\n     <use x=\"552.441406\" xlink:href=\"#DejaVuSans-50\"/>\n    </g>\n    <!-- samples = 3327 -->\n    <g transform=\"translate(208.255106 144.77566)scale(0.020048 -0.020048)\">\n     <use xlink:href=\"#DejaVuSans-115\"/>\n     <use x=\"52.099609\" xlink:href=\"#DejaVuSans-97\"/>\n     <use x=\"113.378906\" xlink:href=\"#DejaVuSans-109\"/>\n     <use x=\"210.791016\" xlink:href=\"#DejaVuSans-112\"/>\n     <use x=\"274.267578\" xlink:href=\"#DejaVuSans-108\"/>\n     <use x=\"302.050781\" xlink:href=\"#DejaVuSans-101\"/>\n     <use x=\"363.574219\" xlink:href=\"#DejaVuSans-115\"/>\n     <use x=\"415.673828\" xlink:href=\"#DejaVuSans-32\"/>\n     <use x=\"447.460938\" xlink:href=\"#DejaVuSans-61\"/>\n     <use x=\"531.25\" xlink:href=\"#DejaVuSans-32\"/>\n     <use x=\"563.037109\" xlink:href=\"#DejaVuSans-51\"/>\n     <use x=\"626.660156\" xlink:href=\"#DejaVuSans-51\"/>\n     <use x=\"690.283203\" xlink:href=\"#DejaVuSans-50\"/>\n     <use x=\"753.90625\" xlink:href=\"#DejaVuSans-55\"/>\n    </g>\n    <!-- value = [104, 514, 1457, 1252] -->\n    <g transform=\"translate(200.612312 147.020587)scale(0.020048 -0.020048)\">\n     <use xlink:href=\"#DejaVuSans-118\"/>\n     <use x=\"59.179688\" xlink:href=\"#DejaVuSans-97\"/>\n     <use x=\"120.458984\" xlink:href=\"#DejaVuSans-108\"/>\n     <use x=\"148.242188\" xlink:href=\"#DejaVuSans-117\"/>\n     <use x=\"211.621094\" xlink:href=\"#DejaVuSans-101\"/>\n     <use x=\"273.144531\" xlink:href=\"#DejaVuSans-32\"/>\n     <use x=\"304.931641\" xlink:href=\"#DejaVuSans-61\"/>\n     <use x=\"388.720703\" xlink:href=\"#DejaVuSans-32\"/>\n     <use x=\"420.507812\" xlink:href=\"#DejaVuSans-91\"/>\n     <use x=\"459.521484\" xlink:href=\"#DejaVuSans-49\"/>\n     <use x=\"523.144531\" xlink:href=\"#DejaVuSans-48\"/>\n     <use x=\"586.767578\" xlink:href=\"#DejaVuSans-52\"/>\n     <use x=\"650.390625\" xlink:href=\"#DejaVuSans-44\"/>\n     <use x=\"682.177734\" xlink:href=\"#DejaVuSans-32\"/>\n     <use x=\"713.964844\" xlink:href=\"#DejaVuSans-53\"/>\n     <use x=\"777.587891\" xlink:href=\"#DejaVuSans-49\"/>\n     <use x=\"841.210938\" xlink:href=\"#DejaVuSans-52\"/>\n     <use x=\"904.833984\" xlink:href=\"#DejaVuSans-44\"/>\n     <use x=\"936.621094\" xlink:href=\"#DejaVuSans-32\"/>\n     <use x=\"968.408203\" xlink:href=\"#DejaVuSans-49\"/>\n     <use x=\"1032.03125\" xlink:href=\"#DejaVuSans-52\"/>\n     <use x=\"1095.654297\" xlink:href=\"#DejaVuSans-53\"/>\n     <use x=\"1159.277344\" xlink:href=\"#DejaVuSans-55\"/>\n     <use x=\"1222.900391\" xlink:href=\"#DejaVuSans-44\"/>\n     <use x=\"1254.6875\" xlink:href=\"#DejaVuSans-32\"/>\n     <use x=\"1286.474609\" xlink:href=\"#DejaVuSans-49\"/>\n     <use x=\"1350.097656\" xlink:href=\"#DejaVuSans-50\"/>\n     <use x=\"1413.720703\" xlink:href=\"#DejaVuSans-53\"/>\n     <use x=\"1477.34375\" xlink:href=\"#DejaVuSans-50\"/>\n     <use x=\"1540.966797\" xlink:href=\"#DejaVuSans-93\"/>\n    </g>\n   </g>\n   <g id=\"patch_24\">\n    <path d=\"M 293.907904 134.991987 \nQ 277.05519 113.10158 259.520444 90.325265 \n\" style=\"fill:none;stroke:#000000;stroke-linecap:round;\"/>\n    <path d=\"M 293.736424 134.111969 \nL 293.907904 134.991987 \nL 293.101002 134.60116 \n\" style=\"fill:none;stroke:#000000;stroke-linecap:round;\"/>\n   </g>\n   <g id=\"text_12\">\n    <g id=\"patch_25\">\n     <path d=\"M 279.166266 148.239437 \nL 321.133734 148.239437 \nL 321.133734 137.960563 \nL 279.166266 137.960563 \nz\n\" style=\"fill:#808080;stroke:#000000;stroke-linejoin:miter;\"/>\n    </g>\n    <!-- orgmaximalprojectionareaMin &lt;= 35.49 -->\n    <g transform=\"translate(279.968182 140.285807)scale(0.020048 -0.020048)\">\n     <defs>\n      <path d=\"M 54.890625 54.6875 \nL 35.109375 28.078125 \nL 55.90625 0 \nL 45.3125 0 \nL 29.390625 21.484375 \nL 13.484375 0 \nL 2.875 0 \nL 24.125 28.609375 \nL 4.6875 54.6875 \nL 15.28125 54.6875 \nL 29.78125 35.203125 \nL 44.28125 54.6875 \nz\n\" id=\"DejaVuSans-120\"/>\n      <path d=\"M 9.421875 54.6875 \nL 18.40625 54.6875 \nL 18.40625 -0.984375 \nQ 18.40625 -11.421875 14.421875 -16.109375 \nQ 10.453125 -20.796875 1.609375 -20.796875 \nL -1.8125 -20.796875 \nL -1.8125 -13.1875 \nL 0.59375 -13.1875 \nQ 5.71875 -13.1875 7.5625 -10.8125 \nQ 9.421875 -8.453125 9.421875 -0.984375 \nz\nM 9.421875 75.984375 \nL 18.40625 75.984375 \nL 18.40625 64.59375 \nL 9.421875 64.59375 \nz\n\" id=\"DejaVuSans-106\"/>\n      <path d=\"M 48.78125 52.59375 \nL 48.78125 44.1875 \nQ 44.96875 46.296875 41.140625 47.34375 \nQ 37.3125 48.390625 33.40625 48.390625 \nQ 24.65625 48.390625 19.8125 42.84375 \nQ 14.984375 37.3125 14.984375 27.296875 \nQ 14.984375 17.28125 19.8125 11.734375 \nQ 24.65625 6.203125 33.40625 6.203125 \nQ 37.3125 6.203125 41.140625 7.25 \nQ 44.96875 8.296875 48.78125 10.40625 \nL 48.78125 2.09375 \nQ 45.015625 0.34375 40.984375 -0.53125 \nQ 36.96875 -1.421875 32.421875 -1.421875 \nQ 20.0625 -1.421875 12.78125 6.34375 \nQ 5.515625 14.109375 5.515625 27.296875 \nQ 5.515625 40.671875 12.859375 48.328125 \nQ 20.21875 56 33.015625 56 \nQ 37.15625 56 41.109375 55.140625 \nQ 45.0625 54.296875 48.78125 52.59375 \nz\n\" id=\"DejaVuSans-99\"/>\n     </defs>\n     <use xlink:href=\"#DejaVuSans-111\"/>\n     <use x=\"61.181641\" xlink:href=\"#DejaVuSans-114\"/>\n     <use x=\"100.544922\" xlink:href=\"#DejaVuSans-103\"/>\n     <use x=\"164.021484\" xlink:href=\"#DejaVuSans-109\"/>\n     <use x=\"261.433594\" xlink:href=\"#DejaVuSans-97\"/>\n     <use x=\"322.712891\" xlink:href=\"#DejaVuSans-120\"/>\n     <use x=\"381.892578\" xlink:href=\"#DejaVuSans-105\"/>\n     <use x=\"409.675781\" xlink:href=\"#DejaVuSans-109\"/>\n     <use x=\"507.087891\" xlink:href=\"#DejaVuSans-97\"/>\n     <use x=\"568.367188\" xlink:href=\"#DejaVuSans-108\"/>\n     <use x=\"596.150391\" xlink:href=\"#DejaVuSans-112\"/>\n     <use x=\"659.626953\" xlink:href=\"#DejaVuSans-114\"/>\n     <use x=\"698.490234\" xlink:href=\"#DejaVuSans-111\"/>\n     <use x=\"759.671875\" xlink:href=\"#DejaVuSans-106\"/>\n     <use x=\"787.455078\" xlink:href=\"#DejaVuSans-101\"/>\n     <use x=\"848.978516\" xlink:href=\"#DejaVuSans-99\"/>\n     <use x=\"903.958984\" xlink:href=\"#DejaVuSans-116\"/>\n     <use x=\"943.167969\" xlink:href=\"#DejaVuSans-105\"/>\n     <use x=\"970.951172\" xlink:href=\"#DejaVuSans-111\"/>\n     <use x=\"1032.132812\" xlink:href=\"#DejaVuSans-110\"/>\n     <use x=\"1095.511719\" xlink:href=\"#DejaVuSans-97\"/>\n     <use x=\"1156.791016\" xlink:href=\"#DejaVuSans-114\"/>\n     <use x=\"1195.654297\" xlink:href=\"#DejaVuSans-101\"/>\n     <use x=\"1257.177734\" xlink:href=\"#DejaVuSans-97\"/>\n     <use x=\"1318.457031\" xlink:href=\"#DejaVuSans-77\"/>\n     <use x=\"1404.736328\" xlink:href=\"#DejaVuSans-105\"/>\n     <use x=\"1432.519531\" xlink:href=\"#DejaVuSans-110\"/>\n     <use x=\"1495.898438\" xlink:href=\"#DejaVuSans-32\"/>\n     <use x=\"1527.685547\" xlink:href=\"#DejaVuSans-60\"/>\n     <use x=\"1611.474609\" xlink:href=\"#DejaVuSans-61\"/>\n     <use x=\"1695.263672\" xlink:href=\"#DejaVuSans-32\"/>\n     <use x=\"1727.050781\" xlink:href=\"#DejaVuSans-51\"/>\n     <use x=\"1790.673828\" xlink:href=\"#DejaVuSans-53\"/>\n     <use x=\"1854.296875\" xlink:href=\"#DejaVuSans-46\"/>\n     <use x=\"1886.083984\" xlink:href=\"#DejaVuSans-52\"/>\n     <use x=\"1949.707031\" xlink:href=\"#DejaVuSans-57\"/>\n    </g>\n    <!-- gini = 0.564 -->\n    <g transform=\"translate(293.974619 142.530733)scale(0.020048 -0.020048)\">\n     <use xlink:href=\"#DejaVuSans-103\"/>\n     <use x=\"63.476562\" xlink:href=\"#DejaVuSans-105\"/>\n     <use x=\"91.259766\" xlink:href=\"#DejaVuSans-110\"/>\n     <use x=\"154.638672\" xlink:href=\"#DejaVuSans-105\"/>\n     <use x=\"182.421875\" xlink:href=\"#DejaVuSans-32\"/>\n     <use x=\"214.208984\" xlink:href=\"#DejaVuSans-61\"/>\n     <use x=\"297.998047\" xlink:href=\"#DejaVuSans-32\"/>\n     <use x=\"329.785156\" xlink:href=\"#DejaVuSans-48\"/>\n     <use x=\"393.408203\" xlink:href=\"#DejaVuSans-46\"/>\n     <use x=\"425.195312\" xlink:href=\"#DejaVuSans-53\"/>\n     <use x=\"488.818359\" xlink:href=\"#DejaVuSans-54\"/>\n     <use x=\"552.441406\" xlink:href=\"#DejaVuSans-52\"/>\n    </g>\n    <!-- samples = 129 -->\n    <g transform=\"translate(292.59288 144.77566)scale(0.020048 -0.020048)\">\n     <use xlink:href=\"#DejaVuSans-115\"/>\n     <use x=\"52.099609\" xlink:href=\"#DejaVuSans-97\"/>\n     <use x=\"113.378906\" xlink:href=\"#DejaVuSans-109\"/>\n     <use x=\"210.791016\" xlink:href=\"#DejaVuSans-112\"/>\n     <use x=\"274.267578\" xlink:href=\"#DejaVuSans-108\"/>\n     <use x=\"302.050781\" xlink:href=\"#DejaVuSans-101\"/>\n     <use x=\"363.574219\" xlink:href=\"#DejaVuSans-115\"/>\n     <use x=\"415.673828\" xlink:href=\"#DejaVuSans-32\"/>\n     <use x=\"447.460938\" xlink:href=\"#DejaVuSans-61\"/>\n     <use x=\"531.25\" xlink:href=\"#DejaVuSans-32\"/>\n     <use x=\"563.037109\" xlink:href=\"#DejaVuSans-49\"/>\n     <use x=\"626.660156\" xlink:href=\"#DejaVuSans-50\"/>\n     <use x=\"690.283203\" xlink:href=\"#DejaVuSans-57\"/>\n    </g>\n    <!-- value = [78, 8, 31, 12] -->\n    <g transform=\"translate(288.77673 147.020587)scale(0.020048 -0.020048)\">\n     <use xlink:href=\"#DejaVuSans-118\"/>\n     <use x=\"59.179688\" xlink:href=\"#DejaVuSans-97\"/>\n     <use x=\"120.458984\" xlink:href=\"#DejaVuSans-108\"/>\n     <use x=\"148.242188\" xlink:href=\"#DejaVuSans-117\"/>\n     <use x=\"211.621094\" xlink:href=\"#DejaVuSans-101\"/>\n     <use x=\"273.144531\" xlink:href=\"#DejaVuSans-32\"/>\n     <use x=\"304.931641\" xlink:href=\"#DejaVuSans-61\"/>\n     <use x=\"388.720703\" xlink:href=\"#DejaVuSans-32\"/>\n     <use x=\"420.507812\" xlink:href=\"#DejaVuSans-91\"/>\n     <use x=\"459.521484\" xlink:href=\"#DejaVuSans-55\"/>\n     <use x=\"523.144531\" xlink:href=\"#DejaVuSans-56\"/>\n     <use x=\"586.767578\" xlink:href=\"#DejaVuSans-44\"/>\n     <use x=\"618.554688\" xlink:href=\"#DejaVuSans-32\"/>\n     <use x=\"650.341797\" xlink:href=\"#DejaVuSans-56\"/>\n     <use x=\"713.964844\" xlink:href=\"#DejaVuSans-44\"/>\n     <use x=\"745.751953\" xlink:href=\"#DejaVuSans-32\"/>\n     <use x=\"777.539062\" xlink:href=\"#DejaVuSans-51\"/>\n     <use x=\"841.162109\" xlink:href=\"#DejaVuSans-49\"/>\n     <use x=\"904.785156\" xlink:href=\"#DejaVuSans-44\"/>\n     <use x=\"936.572266\" xlink:href=\"#DejaVuSans-32\"/>\n     <use x=\"968.359375\" xlink:href=\"#DejaVuSans-49\"/>\n     <use x=\"1031.982422\" xlink:href=\"#DejaVuSans-50\"/>\n     <use x=\"1095.605469\" xlink:href=\"#DejaVuSans-93\"/>\n    </g>\n   </g>\n   <g id=\"patch_26\">\n    <path d=\"M 102.19788 81.402452 \nQ 137.091933 58.740078 172.923624 35.468743 \n\" style=\"fill:none;stroke:#000000;stroke-linecap:round;\"/>\n    <path d=\"M 103.088797 81.301935 \nL 102.19788 81.402452 \nL 102.652017 80.629408 \n\" style=\"fill:none;stroke:#000000;stroke-linecap:round;\"/>\n   </g>\n   <g id=\"text_13\">\n    <g id=\"patch_27\">\n     <path d=\"M 78.724814 93.879437 \nL 103.075186 93.879437 \nL 103.075186 83.600563 \nL 78.724814 83.600563 \nz\n\" style=\"fill:#ffffff;stroke:#000000;stroke-linejoin:miter;\"/>\n    </g>\n    <!-- XXXinorg1 &lt;= 0.5 -->\n    <g transform=\"translate(81.733096 85.925807)scale(0.020048 -0.020048)\">\n     <use xlink:href=\"#DejaVuSans-88\"/>\n     <use x=\"68.505859\" xlink:href=\"#DejaVuSans-88\"/>\n     <use x=\"137.011719\" xlink:href=\"#DejaVuSans-88\"/>\n     <use x=\"205.517578\" xlink:href=\"#DejaVuSans-105\"/>\n     <use x=\"233.300781\" xlink:href=\"#DejaVuSans-110\"/>\n     <use x=\"296.679688\" xlink:href=\"#DejaVuSans-111\"/>\n     <use x=\"357.861328\" xlink:href=\"#DejaVuSans-114\"/>\n     <use x=\"397.224609\" xlink:href=\"#DejaVuSans-103\"/>\n     <use x=\"460.701172\" xlink:href=\"#DejaVuSans-49\"/>\n     <use x=\"524.324219\" xlink:href=\"#DejaVuSans-32\"/>\n     <use x=\"556.111328\" xlink:href=\"#DejaVuSans-60\"/>\n     <use x=\"639.900391\" xlink:href=\"#DejaVuSans-61\"/>\n     <use x=\"723.689453\" xlink:href=\"#DejaVuSans-32\"/>\n     <use x=\"755.476562\" xlink:href=\"#DejaVuSans-48\"/>\n     <use x=\"819.099609\" xlink:href=\"#DejaVuSans-46\"/>\n     <use x=\"850.886719\" xlink:href=\"#DejaVuSans-53\"/>\n    </g>\n    <!-- gini = 0.093 -->\n    <g transform=\"translate(84.724619 88.170733)scale(0.020048 -0.020048)\">\n     <use xlink:href=\"#DejaVuSans-103\"/>\n     <use x=\"63.476562\" xlink:href=\"#DejaVuSans-105\"/>\n     <use x=\"91.259766\" xlink:href=\"#DejaVuSans-110\"/>\n     <use x=\"154.638672\" xlink:href=\"#DejaVuSans-105\"/>\n     <use x=\"182.421875\" xlink:href=\"#DejaVuSans-32\"/>\n     <use x=\"214.208984\" xlink:href=\"#DejaVuSans-61\"/>\n     <use x=\"297.998047\" xlink:href=\"#DejaVuSans-32\"/>\n     <use x=\"329.785156\" xlink:href=\"#DejaVuSans-48\"/>\n     <use x=\"393.408203\" xlink:href=\"#DejaVuSans-46\"/>\n     <use x=\"425.195312\" xlink:href=\"#DejaVuSans-48\"/>\n     <use x=\"488.818359\" xlink:href=\"#DejaVuSans-57\"/>\n     <use x=\"552.441406\" xlink:href=\"#DejaVuSans-51\"/>\n    </g>\n    <!-- samples = 499 -->\n    <g transform=\"translate(83.34288 90.41566)scale(0.020048 -0.020048)\">\n     <use xlink:href=\"#DejaVuSans-115\"/>\n     <use x=\"52.099609\" xlink:href=\"#DejaVuSans-97\"/>\n     <use x=\"113.378906\" xlink:href=\"#DejaVuSans-109\"/>\n     <use x=\"210.791016\" xlink:href=\"#DejaVuSans-112\"/>\n     <use x=\"274.267578\" xlink:href=\"#DejaVuSans-108\"/>\n     <use x=\"302.050781\" xlink:href=\"#DejaVuSans-101\"/>\n     <use x=\"363.574219\" xlink:href=\"#DejaVuSans-115\"/>\n     <use x=\"415.673828\" xlink:href=\"#DejaVuSans-32\"/>\n     <use x=\"447.460938\" xlink:href=\"#DejaVuSans-61\"/>\n     <use x=\"531.25\" xlink:href=\"#DejaVuSans-32\"/>\n     <use x=\"563.037109\" xlink:href=\"#DejaVuSans-52\"/>\n     <use x=\"626.660156\" xlink:href=\"#DejaVuSans-57\"/>\n     <use x=\"690.283203\" xlink:href=\"#DejaVuSans-57\"/>\n    </g>\n    <!-- value = [475, 10, 5, 9] -->\n    <g transform=\"translate(79.52673 92.660587)scale(0.020048 -0.020048)\">\n     <use xlink:href=\"#DejaVuSans-118\"/>\n     <use x=\"59.179688\" xlink:href=\"#DejaVuSans-97\"/>\n     <use x=\"120.458984\" xlink:href=\"#DejaVuSans-108\"/>\n     <use x=\"148.242188\" xlink:href=\"#DejaVuSans-117\"/>\n     <use x=\"211.621094\" xlink:href=\"#DejaVuSans-101\"/>\n     <use x=\"273.144531\" xlink:href=\"#DejaVuSans-32\"/>\n     <use x=\"304.931641\" xlink:href=\"#DejaVuSans-61\"/>\n     <use x=\"388.720703\" xlink:href=\"#DejaVuSans-32\"/>\n     <use x=\"420.507812\" xlink:href=\"#DejaVuSans-91\"/>\n     <use x=\"459.521484\" xlink:href=\"#DejaVuSans-52\"/>\n     <use x=\"523.144531\" xlink:href=\"#DejaVuSans-55\"/>\n     <use x=\"586.767578\" xlink:href=\"#DejaVuSans-53\"/>\n     <use x=\"650.390625\" xlink:href=\"#DejaVuSans-44\"/>\n     <use x=\"682.177734\" xlink:href=\"#DejaVuSans-32\"/>\n     <use x=\"713.964844\" xlink:href=\"#DejaVuSans-49\"/>\n     <use x=\"777.587891\" xlink:href=\"#DejaVuSans-48\"/>\n     <use x=\"841.210938\" xlink:href=\"#DejaVuSans-44\"/>\n     <use x=\"872.998047\" xlink:href=\"#DejaVuSans-32\"/>\n     <use x=\"904.785156\" xlink:href=\"#DejaVuSans-53\"/>\n     <use x=\"968.408203\" xlink:href=\"#DejaVuSans-44\"/>\n     <use x=\"1000.195312\" xlink:href=\"#DejaVuSans-32\"/>\n     <use x=\"1031.982422\" xlink:href=\"#DejaVuSans-57\"/>\n     <use x=\"1095.605469\" xlink:href=\"#DejaVuSans-93\"/>\n    </g>\n   </g>\n   <g id=\"patch_28\">\n    <path d=\"M 247.00212 81.402452 \nQ 212.108067 58.740078 176.276376 35.468743 \n\" style=\"fill:none;stroke:#000000;stroke-linecap:round;\"/>\n    <path d=\"M 246.547983 80.629408 \nL 247.00212 81.402452 \nL 246.111203 81.301935 \n\" style=\"fill:none;stroke:#000000;stroke-linecap:round;\"/>\n   </g>\n   <g id=\"text_14\">\n    <g id=\"patch_29\">\n     <path d=\"M 241.660396 93.879437 \nL 274.939604 93.879437 \nL 274.939604 83.600563 \nL 241.660396 83.600563 \nz\n\" style=\"fill:#808080;stroke:#000000;stroke-linejoin:miter;\"/>\n    </g>\n    <!-- XXXoxlike1mass &lt;= 0.199 -->\n    <g transform=\"translate(244.887326 85.925807)scale(0.020048 -0.020048)\">\n     <defs>\n      <path d=\"M 9.078125 75.984375 \nL 18.109375 75.984375 \nL 18.109375 31.109375 \nL 44.921875 54.6875 \nL 56.390625 54.6875 \nL 27.390625 29.109375 \nL 57.625 0 \nL 45.90625 0 \nL 18.109375 26.703125 \nL 18.109375 0 \nL 9.078125 0 \nz\n\" id=\"DejaVuSans-107\"/>\n     </defs>\n     <use xlink:href=\"#DejaVuSans-88\"/>\n     <use x=\"68.505859\" xlink:href=\"#DejaVuSans-88\"/>\n     <use x=\"137.011719\" xlink:href=\"#DejaVuSans-88\"/>\n     <use x=\"205.517578\" xlink:href=\"#DejaVuSans-111\"/>\n     <use x=\"263.574219\" xlink:href=\"#DejaVuSans-120\"/>\n     <use x=\"322.753906\" xlink:href=\"#DejaVuSans-108\"/>\n     <use x=\"350.537109\" xlink:href=\"#DejaVuSans-105\"/>\n     <use x=\"378.320312\" xlink:href=\"#DejaVuSans-107\"/>\n     <use x=\"432.605469\" xlink:href=\"#DejaVuSans-101\"/>\n     <use x=\"494.128906\" xlink:href=\"#DejaVuSans-49\"/>\n     <use x=\"557.751953\" xlink:href=\"#DejaVuSans-109\"/>\n     <use x=\"655.164062\" xlink:href=\"#DejaVuSans-97\"/>\n     <use x=\"716.443359\" xlink:href=\"#DejaVuSans-115\"/>\n     <use x=\"768.542969\" xlink:href=\"#DejaVuSans-115\"/>\n     <use x=\"820.642578\" xlink:href=\"#DejaVuSans-32\"/>\n     <use x=\"852.429688\" xlink:href=\"#DejaVuSans-60\"/>\n     <use x=\"936.21875\" xlink:href=\"#DejaVuSans-61\"/>\n     <use x=\"1020.007812\" xlink:href=\"#DejaVuSans-32\"/>\n     <use x=\"1051.794922\" xlink:href=\"#DejaVuSans-48\"/>\n     <use x=\"1115.417969\" xlink:href=\"#DejaVuSans-46\"/>\n     <use x=\"1147.205078\" xlink:href=\"#DejaVuSans-49\"/>\n     <use x=\"1210.828125\" xlink:href=\"#DejaVuSans-57\"/>\n     <use x=\"1274.451172\" xlink:href=\"#DejaVuSans-57\"/>\n    </g>\n    <!-- gini = 0.655 -->\n    <g transform=\"translate(252.124619 88.170733)scale(0.020048 -0.020048)\">\n     <use xlink:href=\"#DejaVuSans-103\"/>\n     <use x=\"63.476562\" xlink:href=\"#DejaVuSans-105\"/>\n     <use x=\"91.259766\" xlink:href=\"#DejaVuSans-110\"/>\n     <use x=\"154.638672\" xlink:href=\"#DejaVuSans-105\"/>\n     <use x=\"182.421875\" xlink:href=\"#DejaVuSans-32\"/>\n     <use x=\"214.208984\" xlink:href=\"#DejaVuSans-61\"/>\n     <use x=\"297.998047\" xlink:href=\"#DejaVuSans-32\"/>\n     <use x=\"329.785156\" xlink:href=\"#DejaVuSans-48\"/>\n     <use x=\"393.408203\" xlink:href=\"#DejaVuSans-46\"/>\n     <use x=\"425.195312\" xlink:href=\"#DejaVuSans-54\"/>\n     <use x=\"488.818359\" xlink:href=\"#DejaVuSans-53\"/>\n     <use x=\"552.441406\" xlink:href=\"#DejaVuSans-53\"/>\n    </g>\n    <!-- samples = 3456 -->\n    <g transform=\"translate(250.105106 90.41566)scale(0.020048 -0.020048)\">\n     <use xlink:href=\"#DejaVuSans-115\"/>\n     <use x=\"52.099609\" xlink:href=\"#DejaVuSans-97\"/>\n     <use x=\"113.378906\" xlink:href=\"#DejaVuSans-109\"/>\n     <use x=\"210.791016\" xlink:href=\"#DejaVuSans-112\"/>\n     <use x=\"274.267578\" xlink:href=\"#DejaVuSans-108\"/>\n     <use x=\"302.050781\" xlink:href=\"#DejaVuSans-101\"/>\n     <use x=\"363.574219\" xlink:href=\"#DejaVuSans-115\"/>\n     <use x=\"415.673828\" xlink:href=\"#DejaVuSans-32\"/>\n     <use x=\"447.460938\" xlink:href=\"#DejaVuSans-61\"/>\n     <use x=\"531.25\" xlink:href=\"#DejaVuSans-32\"/>\n     <use x=\"563.037109\" xlink:href=\"#DejaVuSans-51\"/>\n     <use x=\"626.660156\" xlink:href=\"#DejaVuSans-52\"/>\n     <use x=\"690.283203\" xlink:href=\"#DejaVuSans-53\"/>\n     <use x=\"753.90625\" xlink:href=\"#DejaVuSans-54\"/>\n    </g>\n    <!-- value = [182, 522, 1488, 1264] -->\n    <g transform=\"translate(242.462312 92.660587)scale(0.020048 -0.020048)\">\n     <use xlink:href=\"#DejaVuSans-118\"/>\n     <use x=\"59.179688\" xlink:href=\"#DejaVuSans-97\"/>\n     <use x=\"120.458984\" xlink:href=\"#DejaVuSans-108\"/>\n     <use x=\"148.242188\" xlink:href=\"#DejaVuSans-117\"/>\n     <use x=\"211.621094\" xlink:href=\"#DejaVuSans-101\"/>\n     <use x=\"273.144531\" xlink:href=\"#DejaVuSans-32\"/>\n     <use x=\"304.931641\" xlink:href=\"#DejaVuSans-61\"/>\n     <use x=\"388.720703\" xlink:href=\"#DejaVuSans-32\"/>\n     <use x=\"420.507812\" xlink:href=\"#DejaVuSans-91\"/>\n     <use x=\"459.521484\" xlink:href=\"#DejaVuSans-49\"/>\n     <use x=\"523.144531\" xlink:href=\"#DejaVuSans-56\"/>\n     <use x=\"586.767578\" xlink:href=\"#DejaVuSans-50\"/>\n     <use x=\"650.390625\" xlink:href=\"#DejaVuSans-44\"/>\n     <use x=\"682.177734\" xlink:href=\"#DejaVuSans-32\"/>\n     <use x=\"713.964844\" xlink:href=\"#DejaVuSans-53\"/>\n     <use x=\"777.587891\" xlink:href=\"#DejaVuSans-50\"/>\n     <use x=\"841.210938\" xlink:href=\"#DejaVuSans-50\"/>\n     <use x=\"904.833984\" xlink:href=\"#DejaVuSans-44\"/>\n     <use x=\"936.621094\" xlink:href=\"#DejaVuSans-32\"/>\n     <use x=\"968.408203\" xlink:href=\"#DejaVuSans-49\"/>\n     <use x=\"1032.03125\" xlink:href=\"#DejaVuSans-52\"/>\n     <use x=\"1095.654297\" xlink:href=\"#DejaVuSans-56\"/>\n     <use x=\"1159.277344\" xlink:href=\"#DejaVuSans-56\"/>\n     <use x=\"1222.900391\" xlink:href=\"#DejaVuSans-44\"/>\n     <use x=\"1254.6875\" xlink:href=\"#DejaVuSans-32\"/>\n     <use x=\"1286.474609\" xlink:href=\"#DejaVuSans-49\"/>\n     <use x=\"1350.097656\" xlink:href=\"#DejaVuSans-50\"/>\n     <use x=\"1413.720703\" xlink:href=\"#DejaVuSans-54\"/>\n     <use x=\"1477.34375\" xlink:href=\"#DejaVuSans-52\"/>\n     <use x=\"1540.966797\" xlink:href=\"#DejaVuSans-93\"/>\n    </g>\n   </g>\n   <g id=\"text_15\">\n    <g id=\"patch_30\">\n     <path d=\"M 157.960396 39.519437 \nL 191.239604 39.519437 \nL 191.239604 29.240563 \nL 157.960396 29.240563 \nz\n\" style=\"fill:#ffffff;stroke:#000000;stroke-linejoin:miter;\"/>\n    </g>\n    <!-- purity &lt;= 0.5 -->\n    <g transform=\"translate(167.740328 31.565807)scale(0.020048 -0.020048)\">\n     <defs>\n      <path d=\"M 32.171875 -5.078125 \nQ 28.375 -14.84375 24.75 -17.8125 \nQ 21.140625 -20.796875 15.09375 -20.796875 \nL 7.90625 -20.796875 \nL 7.90625 -13.28125 \nL 13.1875 -13.28125 \nQ 16.890625 -13.28125 18.9375 -11.515625 \nQ 21 -9.765625 23.484375 -3.21875 \nL 25.09375 0.875 \nL 2.984375 54.6875 \nL 12.5 54.6875 \nL 29.59375 11.921875 \nL 46.6875 54.6875 \nL 56.203125 54.6875 \nz\n\" id=\"DejaVuSans-121\"/>\n     </defs>\n     <use xlink:href=\"#DejaVuSans-112\"/>\n     <use x=\"63.476562\" xlink:href=\"#DejaVuSans-117\"/>\n     <use x=\"126.855469\" xlink:href=\"#DejaVuSans-114\"/>\n     <use x=\"167.96875\" xlink:href=\"#DejaVuSans-105\"/>\n     <use x=\"195.751953\" xlink:href=\"#DejaVuSans-116\"/>\n     <use x=\"234.960938\" xlink:href=\"#DejaVuSans-121\"/>\n     <use x=\"294.140625\" xlink:href=\"#DejaVuSans-32\"/>\n     <use x=\"325.927734\" xlink:href=\"#DejaVuSans-60\"/>\n     <use x=\"409.716797\" xlink:href=\"#DejaVuSans-61\"/>\n     <use x=\"493.505859\" xlink:href=\"#DejaVuSans-32\"/>\n     <use x=\"525.292969\" xlink:href=\"#DejaVuSans-48\"/>\n     <use x=\"588.916016\" xlink:href=\"#DejaVuSans-46\"/>\n     <use x=\"620.703125\" xlink:href=\"#DejaVuSans-53\"/>\n    </g>\n    <!-- gini = 0.708 -->\n    <g transform=\"translate(168.424619 33.810733)scale(0.020048 -0.020048)\">\n     <use xlink:href=\"#DejaVuSans-103\"/>\n     <use x=\"63.476562\" xlink:href=\"#DejaVuSans-105\"/>\n     <use x=\"91.259766\" xlink:href=\"#DejaVuSans-110\"/>\n     <use x=\"154.638672\" xlink:href=\"#DejaVuSans-105\"/>\n     <use x=\"182.421875\" xlink:href=\"#DejaVuSans-32\"/>\n     <use x=\"214.208984\" xlink:href=\"#DejaVuSans-61\"/>\n     <use x=\"297.998047\" xlink:href=\"#DejaVuSans-32\"/>\n     <use x=\"329.785156\" xlink:href=\"#DejaVuSans-48\"/>\n     <use x=\"393.408203\" xlink:href=\"#DejaVuSans-46\"/>\n     <use x=\"425.195312\" xlink:href=\"#DejaVuSans-55\"/>\n     <use x=\"488.818359\" xlink:href=\"#DejaVuSans-48\"/>\n     <use x=\"552.441406\" xlink:href=\"#DejaVuSans-56\"/>\n    </g>\n    <!-- samples = 3955 -->\n    <g transform=\"translate(166.405106 36.05566)scale(0.020048 -0.020048)\">\n     <use xlink:href=\"#DejaVuSans-115\"/>\n     <use x=\"52.099609\" xlink:href=\"#DejaVuSans-97\"/>\n     <use x=\"113.378906\" xlink:href=\"#DejaVuSans-109\"/>\n     <use x=\"210.791016\" xlink:href=\"#DejaVuSans-112\"/>\n     <use x=\"274.267578\" xlink:href=\"#DejaVuSans-108\"/>\n     <use x=\"302.050781\" xlink:href=\"#DejaVuSans-101\"/>\n     <use x=\"363.574219\" xlink:href=\"#DejaVuSans-115\"/>\n     <use x=\"415.673828\" xlink:href=\"#DejaVuSans-32\"/>\n     <use x=\"447.460938\" xlink:href=\"#DejaVuSans-61\"/>\n     <use x=\"531.25\" xlink:href=\"#DejaVuSans-32\"/>\n     <use x=\"563.037109\" xlink:href=\"#DejaVuSans-51\"/>\n     <use x=\"626.660156\" xlink:href=\"#DejaVuSans-57\"/>\n     <use x=\"690.283203\" xlink:href=\"#DejaVuSans-53\"/>\n     <use x=\"753.90625\" xlink:href=\"#DejaVuSans-53\"/>\n    </g>\n    <!-- value = [657, 532, 1493, 1273] -->\n    <g transform=\"translate(158.762312 38.300587)scale(0.020048 -0.020048)\">\n     <use xlink:href=\"#DejaVuSans-118\"/>\n     <use x=\"59.179688\" xlink:href=\"#DejaVuSans-97\"/>\n     <use x=\"120.458984\" xlink:href=\"#DejaVuSans-108\"/>\n     <use x=\"148.242188\" xlink:href=\"#DejaVuSans-117\"/>\n     <use x=\"211.621094\" xlink:href=\"#DejaVuSans-101\"/>\n     <use x=\"273.144531\" xlink:href=\"#DejaVuSans-32\"/>\n     <use x=\"304.931641\" xlink:href=\"#DejaVuSans-61\"/>\n     <use x=\"388.720703\" xlink:href=\"#DejaVuSans-32\"/>\n     <use x=\"420.507812\" xlink:href=\"#DejaVuSans-91\"/>\n     <use x=\"459.521484\" xlink:href=\"#DejaVuSans-54\"/>\n     <use x=\"523.144531\" xlink:href=\"#DejaVuSans-53\"/>\n     <use x=\"586.767578\" xlink:href=\"#DejaVuSans-55\"/>\n     <use x=\"650.390625\" xlink:href=\"#DejaVuSans-44\"/>\n     <use x=\"682.177734\" xlink:href=\"#DejaVuSans-32\"/>\n     <use x=\"713.964844\" xlink:href=\"#DejaVuSans-53\"/>\n     <use x=\"777.587891\" xlink:href=\"#DejaVuSans-51\"/>\n     <use x=\"841.210938\" xlink:href=\"#DejaVuSans-50\"/>\n     <use x=\"904.833984\" xlink:href=\"#DejaVuSans-44\"/>\n     <use x=\"936.621094\" xlink:href=\"#DejaVuSans-32\"/>\n     <use x=\"968.408203\" xlink:href=\"#DejaVuSans-49\"/>\n     <use x=\"1032.03125\" xlink:href=\"#DejaVuSans-52\"/>\n     <use x=\"1095.654297\" xlink:href=\"#DejaVuSans-57\"/>\n     <use x=\"1159.277344\" xlink:href=\"#DejaVuSans-51\"/>\n     <use x=\"1222.900391\" xlink:href=\"#DejaVuSans-44\"/>\n     <use x=\"1254.6875\" xlink:href=\"#DejaVuSans-32\"/>\n     <use x=\"1286.474609\" xlink:href=\"#DejaVuSans-49\"/>\n     <use x=\"1350.097656\" xlink:href=\"#DejaVuSans-50\"/>\n     <use x=\"1413.720703\" xlink:href=\"#DejaVuSans-55\"/>\n     <use x=\"1477.34375\" xlink:href=\"#DejaVuSans-51\"/>\n     <use x=\"1540.966797\" xlink:href=\"#DejaVuSans-93\"/>\n    </g>\n   </g>\n  </g>\n </g>\n</svg>\n",
      "image/png": "[encoded data removed]"
     },
     "metadata": {
      "needs_background": "light"
     }
    }
   ],
   "source": [
    "plot_tree(tree,max_depth=5,feature_names=[X_featureName[i] for i in tree_X_mask])"
   ]
  },
  {
   "source": [
    "特征选择"
   ],
   "cell_type": "markdown",
   "metadata": {}
  },
  {
   "source": [
    "sklearn应该没有实现CFS方法，但是可以用其他方法"
   ],
   "cell_type": "markdown",
   "metadata": {}
  },
  {
   "cell_type": "code",
   "execution_count": null,
   "metadata": {},
   "outputs": [],
   "source": [
    "from sklearn.feature_selection import SelectFromModel\n",
    "from sklearn.linear_model import LassoCV\n",
    "\n",
    "sfm = SelectFromModel(LassoCV(), ).fit(X, y)\n",
    "toc = time()\n",
    "print(\"Features selected by SelectFromModel: \"\n",
    "      f\"{feature_names[sfm.get_support()]}\")"
   ]
  }
 ]
}