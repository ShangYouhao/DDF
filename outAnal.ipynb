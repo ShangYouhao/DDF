{
 "metadata": {
  "language_info": {
   "codemirror_mode": {
    "name": "ipython",
    "version": 3
   },
   "file_extension": ".py",
   "mimetype": "text/x-python",
   "name": "python",
   "nbconvert_exporter": "python",
   "pygments_lexer": "ipython3",
   "version": "3.7.4-final"
  },
  "orig_nbformat": 2,
  "kernelspec": {
   "name": "python3",
   "display_name": "Python 3.7.4 64-bit (conda)",
   "metadata": {
    "interpreter": {
     "hash": "2ddf64273c1c95695405e7655f23969621e3aad2148b2f12f9e5baeca8e6fee9"
    }
   }
  }
 },
 "nbformat": 4,
 "nbformat_minor": 2,
 "cells": [
  {
   "source": [
    "用于处理输出结果"
   ],
   "cell_type": "markdown",
   "metadata": {}
  },
  {
   "cell_type": "code",
   "execution_count": null,
   "metadata": {},
   "outputs": [],
   "source": [
    "\"\"\"\n",
    "System Environment\n",
    "OS: Windows 10 家庭中文版\n",
    "CPU: intel(R) Core(TM) i7-7700HQ CPU @ 2.80GHz 2.80GHz\n",
    "GPU: GeForce GTX 1050\n",
    "CUDA 9.1.84\n",
    "Memory: 16 GiB\n",
    "\n",
    "Python Environment\n",
    "python 3.7.4 (anaconda)\n",
    "numpy 1.16.5 \n",
    "pandas 0.25.1\n",
    "pytorch 1.1.0\n",
    "scikit-learn 0.21.3\n",
    "scipy 1.3.1\n",
    "matplotlib 3.1.1\n",
    "\"\"\""
   ]
  },
  {
   "cell_type": "code",
   "execution_count": null,
   "metadata": {},
   "outputs": [],
   "source": [
    "import numpy as np \n",
    "import pandas as pd\n",
    "import matplotlib.pyplot as plt \n",
    "from sklearn.linear_model import LinearRegression, Ridge, Lasso, LogisticRegression"
   ]
  },
  {
   "cell_type": "code",
   "execution_count": null,
   "metadata": {},
   "outputs": [],
   "source": [
    "from utils import SVC,PUK_kernel,numout2boolout,make_pipeline,test,y,Y,precision_score,recall_score"
   ]
  },
  {
   "source": [
    "SVC的结果分析"
   ],
   "cell_type": "markdown",
   "metadata": {}
  },
  {
   "cell_type": "code",
   "execution_count": null,
   "metadata": {},
   "outputs": [],
   "source": [
    "X_masked=np.load(\"./processedData/X/X_masked.npy\")\n",
    "x_masked=np.load(\"./processedData/X/x_masked.npy\")"
   ]
  },
  {
   "source": [
    "将多维标签的数据放入pandas Series里"
   ],
   "cell_type": "markdown",
   "metadata": {}
  },
  {
   "cell_type": "code",
   "execution_count": null,
   "metadata": {},
   "outputs": [],
   "source": [
    "serieLabel = [[], [], [], []]\n",
    "data=np.array([])\n",
    "Cspace=np.logspace(-10, 10, num=20)\n",
    "for kernel in [\"PUK\",\"sigmoid\",\"rbf\"]:\n",
    "        SVC_data=np.load(\"./out/SVC_{}.npy\".format(kernel))\n",
    "        data=np.concatenate((data,SVC_data))\n",
    "        for j, C in enumerate(Cspace):\n",
    "                if kernel=='PUK':\n",
    "                        serieLabel[0] += [kernel]*6\n",
    "                        serieLabel[1] += [\"numY\"]*3+[\"boolY\"]*3\n",
    "                        serieLabel[2] += [\"rec\", \"prec\", \"acc\"]*2\n",
    "                        serieLabel[3] += [C]*6\n",
    "                else:\n",
    "                        serieLabel[0] += [kernel]*3\n",
    "                        serieLabel[1] += [\"numY\"]*3\n",
    "                        serieLabel[2] += [\"rec\", \"prec\", \"acc\"]\n",
    "                        serieLabel[3] += [C]*3\n",
    "\n",
    "series = pd.Series(data=data, index=serieLabel)"
   ]
  },
  {
   "source": [
    "pearson VII 核的性能"
   ],
   "cell_type": "markdown",
   "metadata": {}
  },
  {
   "cell_type": "code",
   "execution_count": null,
   "metadata": {},
   "outputs": [],
   "source": [
    "# 作图展示一个模型的分数\n",
    "def plotScore(kernel,boolY=False):\n",
    "    Y=\"boolY\" if boolY else \"numY\"\n",
    "    plt.plot(np.log10(Cspace),series[kernel,Y,\"rec\"],label=\"recall\")\n",
    "    plt.plot(np.log10(Cspace),series[kernel,Y,\"prec\"],label=\"precision\")\n",
    "    plt.plot(np.log10(Cspace),series[kernel,Y,\"acc\"]+0.01,label=\"accuracy\")\n",
    "\n",
    "    plt.legend()\n",
    "    plt.xlabel(\"lg C\")\n",
    "    plt.ylabel(\"score\")\n",
    "    plt.title(\"score of {} with {}\".format(kernel,Y))\n",
    "    plt.show()\n"
   ]
  },
  {
   "cell_type": "code",
   "execution_count": null,
   "metadata": {},
   "outputs": [],
   "source": [
    "plotScore(\"PUK\",True)\n",
    "plotScore(\"PUK\",False)"
   ]
  },
  {
   "source": [
    "sigmoid核的性能"
   ],
   "cell_type": "markdown",
   "metadata": {}
  },
  {
   "cell_type": "code",
   "execution_count": null,
   "metadata": {},
   "outputs": [],
   "source": [
    "plotScore(\"sigmoid\")"
   ]
  },
  {
   "source": [
    "rbf核的性能"
   ],
   "cell_type": "markdown",
   "metadata": {}
  },
  {
   "cell_type": "code",
   "execution_count": null,
   "metadata": {},
   "outputs": [],
   "source": [
    "plotScore(\"rbf\")"
   ]
  },
  {
   "source": [
    "用最佳参数在测试集上测试"
   ],
   "cell_type": "markdown",
   "metadata": {}
  },
  {
   "cell_type": "code",
   "execution_count": null,
   "metadata": {},
   "outputs": [],
   "source": [
    "test(X_masked,Y,x_masked,y,SVC,{\"C\":10,\"kernel\":PUK_kernel,\"class_weight\":\"balanced\"})"
   ]
  },
  {
   "source": [
    "使用rbf核对bool化的y进行拟合"
   ],
   "cell_type": "markdown",
   "metadata": {}
  },
  {
   "cell_type": "code",
   "execution_count": null,
   "metadata": {},
   "outputs": [],
   "source": [
    "test(X_masked,Y,x_masked,y,SVC,{\"C\":10,\"kernel\":\"rbf\",\"class_weight\":\"balanced\"})"
   ]
  },
  {
   "source": [
    "线性回归的结果分析"
   ],
   "cell_type": "markdown",
   "metadata": {}
  },
  {
   "cell_type": "code",
   "execution_count": null,
   "metadata": {},
   "outputs": [],
   "source": [
    "for model in [\"Lasso\",\"Ridge\",\"Logistic\"]:\n",
    "    prec=[]\n",
    "    acc=[]\n",
    "    recall=[]\n",
    "    with open(\"./out/{}.out\".format(model)) as f:\n",
    "        for alpha in np.logspace(-5,5):\n",
    "            f.readline()\n",
    "            prec_cur=0\n",
    "            acc_cur=0\n",
    "            recall_cur=0\n",
    "            for i in range(3):\n",
    "                recall_cur+=float(f.readline().split('=')[-1])\n",
    "                prec_cur+=float(f.readline().split('=')[-1])\n",
    "                acc_cur+=float(f.readline().split('=')[-1])\n",
    "                f.readline()\n",
    "                f.readline()\n",
    "                f.readline()\n",
    "            recall.append(recall_cur/3)\n",
    "            acc.append(acc_cur/3)\n",
    "            prec.append(prec_cur/3)\n",
    "    plt.plot(np.log10(np.logspace(-5,5)),acc,label=\"accuracy-{}\".format(model))\n",
    "    plt.plot(np.log10(np.logspace(-5,5)),prec,label=\"precision-{}\".format(model))\n",
    "    plt.plot(np.log10(np.logspace(-5,5)),recall,label=\"recall-{}\".format(model))\n",
    "\n",
    "plt.legend()\n",
    "plt.xlabel(\"lg C\")\n",
    "plt.ylabel(\"score\")\n",
    "plt.title(\"score\")"
   ]
  },
  {
   "source": [
    "求岭回归在测试集上的性能"
   ],
   "cell_type": "markdown",
   "metadata": {}
  },
  {
   "cell_type": "code",
   "execution_count": null,
   "metadata": {},
   "outputs": [],
   "source": [
    "pred,ppred=test(X_masked,Y,x_masked,y,Lasso,{\"alpha\":0.001})"
   ]
  },
  {
   "cell_type": "code",
   "execution_count": null,
   "metadata": {},
   "outputs": [],
   "source": [
    "plt.hist(pred,bins=40)\n",
    "plt.xlabel(\"prediction\")\n",
    "plt.ylabel(\"number\")\n",
    "plt.title(\"distribution of prediction\")"
   ]
  },
  {
   "cell_type": "code",
   "execution_count": null,
   "metadata": {},
   "outputs": [],
   "source": [
    "plt.plot(np.linspace(2.25,3,num=1000),[precision_score(numout2boolout(y),pred>threshold) for threshold in np.linspace(2.25,3,num=1000)],label=\"test\")\n",
    "plt.plot(np.linspace(2.25,3,num=1000),[precision_score(numout2boolout(Y),ppred>threshold) for threshold in np.linspace(2.25,3,num=1000)],label=\"validation\")\n",
    "plt.xlabel(\"threshold\")\n",
    "plt.ylabel(\"precision\")\n",
    "plt.legend()\n",
    "plt.title(\"precision vs threshold\")"
   ]
  }
 ]
}